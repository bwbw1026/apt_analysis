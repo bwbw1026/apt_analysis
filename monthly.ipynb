{
 "cells": [
  {
   "cell_type": "raw",
   "metadata": {},
   "source": []
  },
  {
   "cell_type": "markdown",
   "metadata": {},
   "source": [
    "# 시행착오"
   ]
  },
  {
   "cell_type": "code",
   "execution_count": 6,
   "metadata": {
    "ExecuteTime": {
     "end_time": "2021-02-15T22:51:09.332552Z",
     "start_time": "2021-02-15T22:51:08.645518Z"
    }
   },
   "outputs": [],
   "source": [
    "import requests, bs4\n",
    "import pandas as pd\n",
    "from lxml import html #html.lxml 로 써진 것. 즉 html.lxml 로 써야하는 명령어를 lxml만써도 작동하게해줌.\n",
    "from urllib.request import Request, urlopen\n",
    "from urllib.parse import urlencode, quote_plus, unquote\n",
    "from pprint import pprint\n",
    "import numpy as np"
   ]
  },
  {
   "cell_type": "code",
   "execution_count": 4,
   "metadata": {
    "ExecuteTime": {
     "end_time": "2021-02-15T06:10:03.470323Z",
     "start_time": "2021-02-15T06:10:03.421429Z"
    },
    "scrolled": true
   },
   "outputs": [
    {
     "name": "stdout",
     "output_type": "stream",
     "text": [
      " Volume in drive C has no label.\n",
      " Volume Serial Number is 04ED-7805\n",
      "\n",
      " Directory of c:\\projects\\python\\apt\\trimdata\n",
      "\n",
      "2021-04-15  오전 01:00    <DIR>          .\n",
      "2021-04-15  오전 01:00    <DIR>          ..\n",
      "2021-04-15  오전 12:29         1,600,714 apt200601.xlsx\n",
      "2021-04-15  오전 12:30         2,634,168 apt200602.xlsx\n",
      "2021-04-15  오전 12:30         3,389,704 apt200603.xlsx\n",
      "2021-04-15  오전 12:30         2,942,021 apt200604.xlsx\n",
      "2021-04-15  오전 12:31         2,780,836 apt200605.xlsx\n",
      "2021-04-15  오전 12:31         2,219,198 apt200606.xlsx\n",
      "2021-04-15  오전 12:31         2,036,597 apt200607.xlsx\n",
      "2021-04-15  오전 12:31         2,531,730 apt200608.xlsx\n",
      "2021-04-15  오전 12:32         3,993,229 apt200609.xlsx\n",
      "2021-04-15  오전 12:48         4,785,614 apt200610.xlsx\n",
      "2021-04-15  오전 12:49         4,761,955 apt200611.xlsx\n",
      "2021-04-15  오전 12:49         3,362,008 apt200612.xlsx\n",
      "2021-04-15  오전 12:32         2,388,204 apt200701.xlsx\n",
      "2021-04-15  오전 12:33         2,159,101 apt200702.xlsx\n",
      "2021-04-15  오전 12:33         2,711,712 apt200703.xlsx\n",
      "2021-04-15  오전 12:33         2,399,722 apt200704.xlsx\n",
      "2021-04-15  오전 12:34         2,207,663 apt200705.xlsx\n",
      "2021-04-15  오전 12:34         2,361,032 apt200706.xlsx\n",
      "2021-04-15  오전 12:34         2,482,657 apt200707.xlsx\n",
      "2021-04-15  오전 12:34         2,429,248 apt200708.xlsx\n",
      "2021-04-15  오전 12:35         2,131,196 apt200709.xlsx\n",
      "2021-04-15  오전 12:50         3,069,726 apt200710.xlsx\n",
      "2021-04-15  오전 12:51         2,679,333 apt200711.xlsx\n",
      "2021-04-15  오전 12:51         2,567,837 apt200712.xlsx\n",
      "2021-03-21  오후 06:49         4,158,274 apt202010.xlsx\n",
      "              25 File(s)     70,783,479 bytes\n",
      "               2 Dir(s)  70,765,023,232 bytes free\n"
     ]
    }
   ],
   "source": [
    "%ls trimdata"
   ]
  },
  {
   "cell_type": "code",
   "execution_count": 5,
   "metadata": {
    "ExecuteTime": {
     "end_time": "2021-02-14T23:57:56.733698Z",
     "start_time": "2021-02-14T23:57:50.818696Z"
    }
   },
   "outputs": [],
   "source": [
    "# df_09 = pd.read_csv(\"APTdata/아파트(매매)__실거래가_202010.csv\",encoding=\"cp949\")\r\n",
    "# #에러났음. 왜그렇지? pd import를안함. \r\n",
    "# Parse error. . 이전 강의에서 배웠죠? 근데 sep을 바꿔줬었는데 이번엔 위에 내용이 있어서 안될수도있음.\r\n",
    "\r\n",
    "# 일단 좆된것. csv는 파일지워서 다른이름으로저장하면 손상이되어버림.\r\n",
    "# df = pd.read_csv(\"APTdata/아파트(매매)__실거래가_202010.csv\" ,sep='|',encoding=\"cp949\")\r\n",
    "df = pd.read_excel(\"trimdata/apt200601.xlsx\" )"
   ]
  },
  {
   "cell_type": "code",
   "execution_count": 9,
   "metadata": {
    "ExecuteTime": {
     "end_time": "2021-02-15T00:24:07.233357Z",
     "start_time": "2021-02-15T00:24:07.205432Z"
    }
   },
   "outputs": [
    {
     "data": {
      "text/plain": "Index(['Unnamed: 0', '시군구', '번지', '본번', '부번', '단지명', '전용면적(㎡)', '계약년월', '계약일',\n       '거래금액(만원)', '층', '건축년도', '도로명', '해제사유발생일'],\n      dtype='object')"
     },
     "execution_count": 9,
     "metadata": {},
     "output_type": "execute_result"
    }
   ],
   "source": [
    "df.columns"
   ]
  },
  {
   "cell_type": "code",
   "execution_count": 11,
   "metadata": {
    "ExecuteTime": {
     "end_time": "2021-02-15T00:44:16.433411Z",
     "start_time": "2021-02-15T00:44:16.411468Z"
    },
    "scrolled": true
   },
   "outputs": [
    {
     "name": "stdout",
     "output_type": "stream",
     "text": [
      "<class 'pandas.core.frame.DataFrame'>\n",
      "RangeIndex: 25921 entries, 0 to 25920\n",
      "Data columns (total 15 columns):\n",
      " #   Column      Non-Null Count  Dtype         \n",
      "---  ------      --------------  -----         \n",
      " 0   Unnamed: 0  25921 non-null  int64         \n",
      " 1   시군구         25921 non-null  object        \n",
      " 2   번지          25921 non-null  object        \n",
      " 3   본번          25921 non-null  int64         \n",
      " 4   부번          25921 non-null  int64         \n",
      " 5   단지명         25921 non-null  object        \n",
      " 6   전용면적(㎡)     25921 non-null  float64       \n",
      " 7   계약년월        25921 non-null  int64         \n",
      " 8   계약일         25921 non-null  int64         \n",
      " 9   거래금액(만원)    25921 non-null  object        \n",
      " 10  층           25921 non-null  int64         \n",
      " 11  건축년도        25921 non-null  int64         \n",
      " 12  도로명         25921 non-null  object        \n",
      " 13  해제사유발생일     0 non-null      float64       \n",
      " 14  년월          25921 non-null  datetime64[ns]\n",
      "dtypes: datetime64[ns](1), float64(2), int64(7), object(5)\n",
      "memory usage: 3.0+ MB\n"
     ]
    }
   ],
   "source": [
    "# 이전파일 건드리지 않으려면 반드시 copy로\r\n",
    "df1 = df.copy()\r\n",
    "\r\n",
    "# datetime으로 만들기\r\n",
    "\r\n",
    "df1[\"년월\"] = df1[\"계약년월\"].copy()\r\n",
    "#format=%Y%m 으로 포맷 바꿔주기.\r\n",
    "df1[\"년월\"] = pd.to_datetime(df1[\"년월\"], format='%Y%m', errors='ignore')\r\n",
    "\r\n",
    "df1[\"년월\"]\r\n",
    "# pd.to_datetime?\r\n",
    "df1.info()"
   ]
  },
  {
   "cell_type": "code",
   "execution_count": 18,
   "metadata": {},
   "outputs": [
    {
     "ename": "ValueError",
     "evalue": "Unable to parse string \"         4,200\" at position 0",
     "output_type": "error",
     "traceback": [
      "\u001b[1;31m---------------------------------------------------------------------------\u001b[0m",
      "\u001b[1;31mValueError\u001b[0m                                Traceback (most recent call last)",
      "\u001b[1;32mpandas\\_libs\\lib.pyx\u001b[0m in \u001b[0;36mpandas._libs.lib.maybe_convert_numeric\u001b[1;34m()\u001b[0m\n",
      "\u001b[1;31mValueError\u001b[0m: Unable to parse string \"         4,200\"",
      "\nDuring handling of the above exception, another exception occurred:\n",
      "\u001b[1;31mValueError\u001b[0m                                Traceback (most recent call last)",
      "\u001b[1;32m<ipython-input-18-f9d71fd77bc7>\u001b[0m in \u001b[0;36m<module>\u001b[1;34m\u001b[0m\n\u001b[0;32m      5\u001b[0m \u001b[0mdf1\u001b[0m\u001b[1;33m[\u001b[0m\u001b[1;34m\"금액\"\u001b[0m\u001b[1;33m]\u001b[0m\u001b[1;33m\u001b[0m\u001b[1;33m\u001b[0m\u001b[0m\n\u001b[0;32m      6\u001b[0m \"\"\"\n\u001b[1;32m----> 7\u001b[1;33m \u001b[0mdf1\u001b[0m\u001b[1;33m[\u001b[0m\u001b[1;34m\"금액\"\u001b[0m\u001b[1;33m]\u001b[0m \u001b[1;33m=\u001b[0m \u001b[0mpd\u001b[0m\u001b[1;33m.\u001b[0m\u001b[0mto_numeric\u001b[0m\u001b[1;33m(\u001b[0m\u001b[0mdf1\u001b[0m\u001b[1;33m[\u001b[0m\u001b[1;34m\"거래금액(만원)\"\u001b[0m\u001b[1;33m]\u001b[0m\u001b[1;33m)\u001b[0m\u001b[1;33m\u001b[0m\u001b[1;33m\u001b[0m\u001b[0m\n\u001b[0m\u001b[0;32m      8\u001b[0m \u001b[1;33m\u001b[0m\u001b[0m\n\u001b[0;32m      9\u001b[0m \u001b[1;33m\u001b[0m\u001b[0m\n",
      "\u001b[1;32mC:\\ProgramData\\Anaconda3\\lib\\site-packages\\pandas\\core\\tools\\numeric.py\u001b[0m in \u001b[0;36mto_numeric\u001b[1;34m(arg, errors, downcast)\u001b[0m\n\u001b[0;32m    150\u001b[0m         \u001b[0mcoerce_numeric\u001b[0m \u001b[1;33m=\u001b[0m \u001b[0merrors\u001b[0m \u001b[1;32mnot\u001b[0m \u001b[1;32min\u001b[0m \u001b[1;33m(\u001b[0m\u001b[1;34m\"ignore\"\u001b[0m\u001b[1;33m,\u001b[0m \u001b[1;34m\"raise\"\u001b[0m\u001b[1;33m)\u001b[0m\u001b[1;33m\u001b[0m\u001b[1;33m\u001b[0m\u001b[0m\n\u001b[0;32m    151\u001b[0m         \u001b[1;32mtry\u001b[0m\u001b[1;33m:\u001b[0m\u001b[1;33m\u001b[0m\u001b[1;33m\u001b[0m\u001b[0m\n\u001b[1;32m--> 152\u001b[1;33m             values = lib.maybe_convert_numeric(\n\u001b[0m\u001b[0;32m    153\u001b[0m                 \u001b[0mvalues\u001b[0m\u001b[1;33m,\u001b[0m \u001b[0mset\u001b[0m\u001b[1;33m(\u001b[0m\u001b[1;33m)\u001b[0m\u001b[1;33m,\u001b[0m \u001b[0mcoerce_numeric\u001b[0m\u001b[1;33m=\u001b[0m\u001b[0mcoerce_numeric\u001b[0m\u001b[1;33m\u001b[0m\u001b[1;33m\u001b[0m\u001b[0m\n\u001b[0;32m    154\u001b[0m             )\n",
      "\u001b[1;32mpandas\\_libs\\lib.pyx\u001b[0m in \u001b[0;36mpandas._libs.lib.maybe_convert_numeric\u001b[1;34m()\u001b[0m\n",
      "\u001b[1;31mValueError\u001b[0m: Unable to parse string \"         4,200\" at position 0"
     ]
    }
   ],
   "source": [
    "df1[\"거래금액(만원)\"]\r\n",
    "## 왜안돼?\r\n",
    "\"\"\"\r\n",
    "df1[\"금액\"] = pd.to_numeric(df1[\"거래금액(만원)\"],errors ='coerce')\r\n",
    "df1[\"금액\"]\r\n",
    "\"\"\"\r\n",
    "df1[\"금액\"] = pd.to_numeric(df1[\"거래금액(만원)\"])\r\n",
    "\r\n",
    "\"\"\"\r\n",
    "에러가 나는 이유. 아마 콤마때문인거같음.\r\n",
    "기본적으로 \r\n",
    " 값 중에 몇 개가 실수로 숫자로 된 문자열이 아니라 문자로 된 문자열이 몇 개 포함되어 있다고 해봅시다. 이럴 경우 문자열을 숫자로 파싱할 수 없다면서 ValueError가 발생하는데요,\r\n",
    "\r\n",
    "출처: https://rfriend.tistory.com/470 [R, Python 분석과 프로그래밍의 친구 (by R Friend)]\r\n",
    "\"\"\"\r\n",
    "\r\n"
   ]
  },
  {
   "cell_type": "code",
   "execution_count": 22,
   "metadata": {},
   "outputs": [],
   "source": [
    "import re"
   ]
  },
  {
   "cell_type": "code",
   "execution_count": 30,
   "metadata": {},
   "outputs": [
    {
     "name": "stdout",
     "output_type": "stream",
     "text": [
      "Hey What's up bro\n"
     ]
    }
   ],
   "source": [
    "# 문자열에서 제거하기\r\n",
    "\r\n",
    "string = \"Hey! What's up, bro?\"\r\n",
    "new_string = string.replace(\"!\",\"\").replace(\"?\",\"\").replace(\",\",\"\")\r\n",
    "#new_string = ''.join(filter(str.isalnum, string)) \r\n",
    "print(new_string)"
   ]
  },
  {
   "cell_type": "code",
   "execution_count": 38,
   "metadata": {},
   "outputs": [
    {
     "name": "stdout",
     "output_type": "stream",
     "text": [
      "Hey! What's up, bro?\n"
     ]
    }
   ],
   "source": [
    "\r\n",
    "\"\"\"\r\n",
    "# 특정 공백또는 문자 제거하기 \r\n",
    "string = \"Hey! What's up, bro?\"\r\n",
    "new_string = string.strip(\"W\")\r\n",
    "#df의 컬럼 a에 대해 적용 시킬 때\r\n",
    "df['a'].str.strip()\r\n",
    "#df 전체에 다 적용시킬 때\r\n",
    "df.apply(lambda x: x.str.strip(), axis = 1)\r\n",
    "print(new_string)\r\n",
    "\"\"\""
   ]
  },
  {
   "cell_type": "code",
   "execution_count": 42,
   "metadata": {},
   "outputs": [
    {
     "data": {
      "text/plain": "0                 4200\n1                 7500\n2                 8500\n3                12500\n4                 5998\n             ...      \n25916             6400\n25917             5500\n25918             4500\n25919             9000\n25920             7200\nName: 금액, Length: 25921, dtype: object"
     },
     "execution_count": 42,
     "metadata": {},
     "output_type": "execute_result"
    }
   ],
   "source": [
    "\r\n",
    "# ,가 문자열에 있어서 to_numeric에서  인식이 안되므로 ,제거하가ㅣ \r\n",
    "    # 성공! replace던 strip이던 컬럼에 적용할땐 항상 .str. 을 써야함을 잊지말것. \r\n",
    "df1[\"금액\"] =df1[\"거래금액(만원)\"].copy()\r\n",
    "df1[\"금액\"] = df1[\"금액\"].str.replace(\",\",\"\")\r\n",
    "df1[\"금액\"]"
   ]
  },
  {
   "cell_type": "code",
   "execution_count": 44,
   "metadata": {},
   "outputs": [
    {
     "data": {
      "text/plain": "0         4200\n1         7500\n2         8500\n3        12500\n4         5998\n         ...  \n25916     6400\n25917     5500\n25918     4500\n25919     9000\n25920     7200\nName: 금액, Length: 25921, dtype: int64"
     },
     "execution_count": 44,
     "metadata": {},
     "output_type": "execute_result"
    }
   ],
   "source": [
    "df1[\"금액\"] =pd.to_numeric(df1[\"금액\"])\r\n",
    "df1[\"금액\"]"
   ]
  },
  {
   "cell_type": "code",
   "execution_count": 12,
   "metadata": {},
   "outputs": [
    {
     "name": "stdout",
     "output_type": "stream",
     "text": [
      "<class 'pandas.core.frame.DataFrame'>\n",
      "RangeIndex: 25921 entries, 0 to 25920\n",
      "Data columns (total 17 columns):\n",
      " #   Column      Non-Null Count  Dtype         \n",
      "---  ------      --------------  -----         \n",
      " 0   Unnamed: 0  25921 non-null  int64         \n",
      " 1   시군구         25921 non-null  object        \n",
      " 2   번지          25921 non-null  object        \n",
      " 3   본번          25921 non-null  int64         \n",
      " 4   부번          25921 non-null  int64         \n",
      " 5   단지명         25921 non-null  object        \n",
      " 6   전용면적(㎡)     25921 non-null  float64       \n",
      " 7   계약년월        25921 non-null  int64         \n",
      " 8   계약일         25921 non-null  int64         \n",
      " 9   거래금액(만원)    25921 non-null  object        \n",
      " 10  층           25921 non-null  int64         \n",
      " 11  건축년도        25921 non-null  int64         \n",
      " 12  도로명         25921 non-null  object        \n",
      " 13  해제사유발생일     0 non-null      float64       \n",
      " 14  년월          25921 non-null  datetime64[ns]\n",
      " 15  금액          6 non-null      float64       \n",
      " 16  면적          25921 non-null  float64       \n",
      "dtypes: datetime64[ns](1), float64(4), int64(7), object(5)\n",
      "memory usage: 3.4+ MB\n"
     ]
    }
   ],
   "source": [
    "#스트링 숫자로 바꿔주기.\r\n",
    "#KeyError발생\r\n",
    "# df_next[\"분양가격\"] = pd.to_numeric(df_next[\"분양가격(㎡)\"],errors ='coerce')\r\n",
    "# 거래금액인데 잘못씀..\r\n",
    "df1[\"금액\"] = pd.to_numeric(df1[\"거래금액(만원)\"],errors ='coerce')\r\n",
    "\r\n",
    "df1[\"건축년도\"]=pd.to_numeric(df1[\"건축년도\"],errors ='coerce')\r\n",
    "\r\n",
    "df1[\"면적\"]=pd.to_numeric(df1[\"전용면적(㎡)\"],errors ='coerce')\r\n",
    "df1.info()"
   ]
  },
  {
   "cell_type": "code",
   "execution_count": 14,
   "metadata": {},
   "outputs": [
    {
     "data": {
      "text/plain": "0        1997\n1        1999\n2        1999\n3        1999\n4        1999\n         ... \n25916    1994\n25917    1994\n25918    1994\n25919    1994\n25920    1994\nName: 건축년도, Length: 25921, dtype: int64"
     },
     "execution_count": 14,
     "metadata": {},
     "output_type": "execute_result"
    }
   ],
   "source": [
    "df1[\"건축년도\"]\r\n"
   ]
  },
  {
   "cell_type": "code",
   "execution_count": null,
   "metadata": {
    "ExecuteTime": {
     "end_time": "2021-02-15T00:45:26.859604Z",
     "start_time": "2021-02-15T00:45:20.810477Z"
    }
   },
   "outputs": [],
   "source": [
    "\r\n"
   ]
  },
  {
   "cell_type": "code",
   "execution_count": null,
   "metadata": {
    "ExecuteTime": {
     "end_time": "2021-02-15T00:47:18.476997Z",
     "start_time": "2021-02-15T00:47:18.465029Z"
    },
    "scrolled": false
   },
   "outputs": [],
   "source": [
    "\r\n"
   ]
  },
  {
   "cell_type": "code",
   "execution_count": null,
   "metadata": {
    "ExecuteTime": {
     "end_time": "2021-02-15T00:52:57.472240Z",
     "start_time": "2021-02-15T00:52:57.435339Z"
    }
   },
   "outputs": [],
   "source": [
    "\r\n"
   ]
  },
  {
   "cell_type": "code",
   "execution_count": null,
   "metadata": {
    "ExecuteTime": {
     "end_time": "2021-02-15T00:49:13.341438Z",
     "start_time": "2021-02-15T00:49:13.334456Z"
    }
   },
   "outputs": [],
   "source": [
    "df.index[0:14]"
   ]
  },
  {
   "cell_type": "code",
   "execution_count": null,
   "metadata": {
    "ExecuteTime": {
     "end_time": "2021-03-21T06:44:37.813852Z",
     "start_time": "2021-03-21T06:44:31.035967Z"
    },
    "scrolled": true
   },
   "outputs": [],
   "source": []
  },
  {
   "cell_type": "code",
   "execution_count": null,
   "metadata": {
    "ExecuteTime": {
     "end_time": "2021-02-15T04:58:49.485197Z",
     "start_time": "2021-02-15T04:58:49.445304Z"
    },
    "scrolled": false
   },
   "outputs": [],
   "source": []
  },
  {
   "cell_type": "code",
   "execution_count": null,
   "metadata": {
    "ExecuteTime": {
     "end_time": "2021-02-15T05:22:34.757394Z",
     "start_time": "2021-02-15T05:22:34.697363Z"
    }
   },
   "outputs": [],
   "source": []
  },
  {
   "cell_type": "code",
   "execution_count": null,
   "metadata": {
    "ExecuteTime": {
     "end_time": "2021-02-15T05:51:47.807316Z",
     "start_time": "2021-02-15T05:51:47.747476Z"
    },
    "scrolled": true
   },
   "outputs": [],
   "source": [
    "#스트링 숫자로 바꿔주기.\n",
    "#KeyError발생\n",
    "# df_next[\"분양가격\"] = pd.to_numeric(df_next[\"분양가격(㎡)\"],errors ='coerce')\n",
    "# 거래금액인데 잘못씀..\n",
    "df1[\"금액\"] = pd.to_numeric(df1[\"거래금액(만원)\"],errors ='coerce')\n",
    "\n",
    "df1[\"건축년도\"]=pd.to_numeric(df1[\"건축년도\"],errors ='coerce')\n",
    "\n",
    "df1[\"면적\"]=pd.to_numeric(df1[\"전용면적(㎡)\"],errors ='coerce')\n",
    "df1.info()"
   ]
  },
  {
   "cell_type": "code",
   "execution_count": null,
   "metadata": {},
   "outputs": [],
   "source": []
  },
  {
   "cell_type": "markdown",
   "metadata": {},
   "source": [
    "계획. \n",
    "1. 지역명으로 분리 replace사용.\n",
    "\n",
    "2. 구별로 분리\n"
   ]
  },
  {
   "cell_type": "code",
   "execution_count": null,
   "metadata": {},
   "outputs": [],
   "source": [
    "df['동찾기'] = df[\"법정동\"].str.contains(\"창\", case=False, na=False).astype(int)\n",
    "df['동찾기']"
   ]
  },
  {
   "cell_type": "code",
   "execution_count": null,
   "metadata": {
    "ExecuteTime": {
     "end_time": "2021-02-15T05:58:12.611055Z",
     "start_time": "2021-02-15T05:58:12.586122Z"
    }
   },
   "outputs": [],
   "source": [
    "#해제사유등 필요없는것 제거하기.\n",
    "\n",
    "# axis=1을 쓰면 열을 지우고 df.drop([0, 1], axis=0) 처럼 0을쓰면 인덱스(행)을 지움.\n",
    "# 주의 행의 이름은 B랑 C가 아닌 0 1인데 이는 스트링이 아니므로 ''없이 하면됨.\n",
    "df2 = df1.drop([\"해제사유발생일\", \"계약년월\",\"단지명\",\"계약일\",\"층\",\"도로명\",\"번지\",\"본번\",\"거래금액(만원)\",\"전용면적(㎡)\",\"부번\"]\n",
    "               ,axis=1).copy()\n"
   ]
  },
  {
   "cell_type": "code",
   "execution_count": null,
   "metadata": {
    "ExecuteTime": {
     "end_time": "2021-02-15T08:01:42.278953Z",
     "start_time": "2021-02-15T08:01:42.249033Z"
    },
    "scrolled": true
   },
   "outputs": [],
   "source": [
    "df2['지역'] = \"서울\"\n",
    "df2.info()"
   ]
  },
  {
   "cell_type": "code",
   "execution_count": null,
   "metadata": {
    "ExecuteTime": {
     "end_time": "2021-02-15T22:56:09.582317Z",
     "start_time": "2021-02-15T22:56:09.025482Z"
    }
   },
   "outputs": [],
   "source": [
    " #지역으로 나누기.\n",
    "df2[\"서울\"] = df2[\"시군구\"].str.contains(\"서울\", case=False, na=False).astype(int)\n",
    "df2[\"서울\"].sum()\n",
    "df2[\"대전\"] = df2[\"시군구\"].str.contains(\"대전\", case=False, na=False).astype(int)\n",
    "df2[\"대전\"].sum()\n",
    "\n",
    "location =[]\n",
    "location = [\"강원도\",     \n",
    "            \"경기도\"  ,  \n",
    "            \"경상남도\" ,    \n",
    "            \"경상북도\"  ,   \n",
    "            \"광주광역\"     ,\n",
    "            \"대구광역\"  ,\n",
    "            \"대전광역\"   ,\n",
    "            \"부산광역\"   ,\n",
    "            \"서울특별\"    ,\n",
    "            \"세종특별\",\n",
    "             \"울산광역\"    ,\n",
    "            \"인천광역\"    ,\n",
    "            \"전라남도\" ,    \n",
    "            \"전라북도\"  ,   \n",
    "            \"제주특별\"    ,\n",
    "            \"충청남도\" ,   \n",
    "            \"충청북도\"  ] \n",
    "\n",
    "for i in location :\n",
    "    df2[i] =  df2[\"시군구\"].str.contains(i, case=False, na=False).astype(int)\n",
    "    df2.loc[(df2[i] ==  1) , '지역'] = i\n",
    "\n",
    "df2[\"지역\"].value_counts()"
   ]
  },
  {
   "cell_type": "code",
   "execution_count": null,
   "metadata": {
    "ExecuteTime": {
     "end_time": "2021-02-15T22:48:58.228433Z",
     "start_time": "2021-02-15T22:48:58.202504Z"
    }
   },
   "outputs": [],
   "source": [
    "df2[\"강원도\"].sum()+df2[\"경기도\"].sum()+df2[\"경상남도\"].sum()+df2[\"경상북도\"].sum()+df2[\"광주광역\"].sum()+df2[\"대구광역\"].sum()+df2[\"대전광역\"].sum()+df2[\"부산광역\"].sum()+df2[\"서울특별\"].sum()+df2[\"세종특별\"].sum()+df2[\"울산광역\"].sum()+df2[\"인천광역\"].sum()+df2[\"전라남도\"].sum()+df2[\"전라북도\"].sum()+df2[\"제주특별\"].sum()+df2[\"충청남도\"].sum() +df2[\"충청북도\"].sum()\n",
    "\n",
    "\n",
    "\n",
    "#뭔가잘못됐네.. 뭔가 누락됨. 해결 제주특별 이었음.."
   ]
  },
  {
   "cell_type": "code",
   "execution_count": 47,
   "metadata": {
    "ExecuteTime": {
     "end_time": "2021-02-15T08:27:54.464661Z",
     "start_time": "2021-02-15T08:27:54.444719Z"
    }
   },
   "outputs": [
    {
     "data": {
      "text/plain": "88"
     },
     "execution_count": 47,
     "metadata": {},
     "output_type": "execute_result"
    }
   ],
   "source": [
    "df2[\"세종특별\"].sum()"
   ]
  },
  {
   "cell_type": "code",
   "execution_count": 48,
   "metadata": {
    "ExecuteTime": {
     "end_time": "2021-02-15T08:20:09.197886Z",
     "start_time": "2021-02-15T08:20:09.127077Z"
    }
   },
   "outputs": [],
   "source": [
    "\r\n"
   ]
  },
  {
   "cell_type": "code",
   "execution_count": 49,
   "metadata": {},
   "outputs": [
    {
     "data": {
      "text/plain": "0        0\n1        0\n2        0\n3        0\n4        0\n        ..\n25916    0\n25917    0\n25918    0\n25919    0\n25920    0\nName: 강남구, Length: 25921, dtype: int32"
     },
     "execution_count": 49,
     "metadata": {},
     "output_type": "execute_result"
    }
   ],
   "source": [
    "df2[\"강남구\"]"
   ]
  },
  {
   "cell_type": "code",
   "execution_count": null,
   "metadata": {
    "ExecuteTime": {
     "end_time": "2021-02-15T22:47:13.084387Z",
     "start_time": "2021-02-15T22:47:13.044492Z"
    }
   },
   "outputs": [],
   "source": [
    "###문제 \n",
    "###문제 \n",
    "###문제 \n",
    "###문제 \n",
    "\n",
    "\n",
    "df2[\"면적\"]\n",
    "\n",
    "# value error \n",
    "# if df2[\"면적\"] <= 85 & df2[\"면적\"] >= 60 :\n",
    "#     df2[\"크기\"] = \"소형 \"\n",
    "#type error \n",
    "# if df2[\"면적\"] <= 85\n",
    "#  df2[\"크기\"] = \"소형 \"\n",
    "# if df2[\"면적\"] <= 60\n",
    "#     df2[\"크기\"] =  1 \n",
    "\n",
    "# print df2 if df2[\"면적\"] <= 60\n",
    "# #뭘 못하고있는가? 범주로 쪼개서 새로운 변수 만들기.\n",
    "#  [x for x in raw_fe.columns if x not in Y_colname+X_remove]\n",
    "\n",
    "df2[\"면적\"]>= 60 #이건됨 \n",
    "\n",
    "#이건 타입에러가남. \n",
    "# df2[\"면적\"]>= 60  & df2[\"면적\"] <= 85 \n",
    "\n",
    "# value error \n",
    "# df2[\"면적\"]>= 60.0 and   df2[\"면적\"] <= 85.0\n",
    "df2[\"크기\"] = df2[\"면적\"] <= 85.0 \n",
    "# if  df2[\"면적\"]>= 60.0 :\n",
    "#     if  df2[\"면적\"] <= 85.0 :\n",
    "#         df2[\"크기\"] = \"중형\"\n",
    "#     else :\n",
    "#         df2[\"크기\"] = \"대형\"\n",
    "# df2[\"확인\"] = 1 if df2[\"크기\"]==True #안됨\n",
    "\n",
    "\n",
    "\n",
    " \n",
    "#boolean 인덱싱 불리언 인덱싱\n",
    "\n",
    "# names = np.array[df2[\"면적\"]]\n",
    "df2[\"소형\"] = df2[\"면적\"]<= 60\n",
    "df2[\"대형\"] =  df2[\"면적\"]> 85\n",
    "# if df2[\"대형\"]==False and df2[\"소형\"] ==False :\n",
    "#     df2[\"중형\"]\n",
    "    \n",
    "#df2[\"면적\"]> 60  and  df2[\"면적\"] <85\n",
    "type(df2[\"소형\"])\n",
    "\n",
    "df2.loc[(df2['면적'] >  60) & (df2['면적'] <= 85), '크기'] = '중형' \n",
    "df2.loc[(df2['면적'] <=  60),'크기'] = '소형'\n",
    "df2.loc[(df2['면적'] > 85), '크기'] = '대형'\n",
    "\n",
    "# https://datatofish.com/if-condition-in-pandas-dataframe/\n",
    "\n",
    "\n",
    "# df2.count() if df2['크기'] ==\"대형\" \n",
    "#질문 '' 와 \" \" 의 차이? \n",
    "#갯수 카운트하기\n",
    "df2['크기'].value_counts()\n",
    "df2['제주특별'].value_counts() \n",
    "# df2.info()"
   ]
  },
  {
   "cell_type": "code",
   "execution_count": 81,
   "metadata": {},
   "outputs": [
    {
     "data": {
      "text/plain": "0        0.0\n1        0.0\n2        0.0\n3        0.0\n4        0.0\n        ... \n25916    0.0\n25917    0.0\n25918    0.0\n25919    0.0\n25920    0.0\nName: 강남3구, Length: 25921, dtype: float64"
     },
     "execution_count": 81,
     "metadata": {},
     "output_type": "execute_result"
    }
   ],
   "source": [
    "#강남 송파 서초 3구 따로 묶어보기 ..abs\r\n",
    "df2[\"강남구\"] = df2[\"시군구\"].str.contains(\"서울특별시 강남구\", case=False, na=False).astype(int)\r\n",
    "df2[\"서초구\"] = df2[\"시군구\"].str.contains(\"서울특별시 서초구\", case=False, na=False).astype(int)\r\n",
    "df2[\"송파구\"] = df2[\"시군구\"].str.contains(\"서울특별시 송파구\", case=False, na=False).astype(int)\r\n",
    "df2.loc[(df2['강남구'] == 1) | (df2['서초구'] == 1) |  (df2['송파구'] == 1) , \"강남3구\"] = 1\r\n",
    "\r\n",
    "#Nan 0으로 만들기\r\n",
    "df2[\"강남3구\"] = df2[\"강남3구\"].fillna(0).copy()\r\n",
    "\r\n",
    "#확인하기 \r\n",
    "df2[\"강남3구\"].value_counts()"
   ]
  },
  {
   "cell_type": "code",
   "execution_count": 4,
   "metadata": {},
   "outputs": [
    {
     "data": {
      "text/plain": "0.0    24158\n1.0     1763\nName: 강남3구, dtype: int64"
     },
     "execution_count": 4,
     "metadata": {},
     "output_type": "execute_result"
    }
   ],
   "source": [
    "df2[\"강남3구\"].value_counts()\r\n"
   ]
  },
  {
   "cell_type": "code",
   "execution_count": 51,
   "metadata": {},
   "outputs": [
    {
     "data": {
      "text/plain": "0.15790285868600748"
     },
     "execution_count": 51,
     "metadata": {},
     "output_type": "execute_result"
    }
   ],
   "source": [
    "#강남3구를 제외한 서울 만들기 \r\n",
    "df2.loc[(df2['서울특별'] == 1) & (df2['강남3구'] != 1) ,\"서울강남제외\"] = 1\r\n",
    "df2[\"서울강남제외\"] = df2[\"서울강남제외\"].fillna(0).copy()\r\n",
    "df2[\"서울강남제외\"].value_counts()\r\n",
    "df2[\"서울강남제외\"].mean()\r\n"
   ]
  },
  {
   "cell_type": "code",
   "execution_count": 48,
   "metadata": {},
   "outputs": [
    {
     "data": {
      "text/plain": "True     20065\nFalse     5856\nName: 지역, dtype: int64"
     },
     "execution_count": 48,
     "metadata": {},
     "output_type": "execute_result"
    }
   ],
   "source": [
    "#잘나왔나 확인해보기\r\n",
    "\r\n",
    "df2[\"서울특별\"].sum()\r\n",
    "\r\n",
    "#만약 어떤 조건에 맞는 값들만을 찾고싶으면\r\n",
    "noseoul = df2[\"지역\"] != \"서울특별\"\r\n",
    "noseoul.value_counts()\r\n"
   ]
  },
  {
   "cell_type": "code",
   "execution_count": 50,
   "metadata": {},
   "outputs": [
    {
     "ename": "TypeError",
     "evalue": "Cannot perform 'rand_' with a dtyped [float64] array and scalar of type [bool]",
     "output_type": "error",
     "traceback": [
      "\u001b[1;31m---------------------------------------------------------------------------\u001b[0m",
      "\u001b[1;31mTypeError\u001b[0m                                 Traceback (most recent call last)",
      "\u001b[1;32mC:\\ProgramData\\Anaconda3\\lib\\site-packages\\pandas\\core\\ops\\array_ops.py\u001b[0m in \u001b[0;36mna_logical_op\u001b[1;34m(x, y, op)\u001b[0m\n\u001b[0;32m    265\u001b[0m         \u001b[1;31m#  (xint or xbool) and (yint or bool)\u001b[0m\u001b[1;33m\u001b[0m\u001b[1;33m\u001b[0m\u001b[1;33m\u001b[0m\u001b[0m\n\u001b[1;32m--> 266\u001b[1;33m         \u001b[0mresult\u001b[0m \u001b[1;33m=\u001b[0m \u001b[0mop\u001b[0m\u001b[1;33m(\u001b[0m\u001b[0mx\u001b[0m\u001b[1;33m,\u001b[0m \u001b[0my\u001b[0m\u001b[1;33m)\u001b[0m\u001b[1;33m\u001b[0m\u001b[1;33m\u001b[0m\u001b[0m\n\u001b[0m\u001b[0;32m    267\u001b[0m     \u001b[1;32mexcept\u001b[0m \u001b[0mTypeError\u001b[0m\u001b[1;33m:\u001b[0m\u001b[1;33m\u001b[0m\u001b[1;33m\u001b[0m\u001b[0m\n",
      "\u001b[1;32mC:\\ProgramData\\Anaconda3\\lib\\site-packages\\pandas\\core\\ops\\roperator.py\u001b[0m in \u001b[0;36mrand_\u001b[1;34m(left, right)\u001b[0m\n\u001b[0;32m     51\u001b[0m \u001b[1;32mdef\u001b[0m \u001b[0mrand_\u001b[0m\u001b[1;33m(\u001b[0m\u001b[0mleft\u001b[0m\u001b[1;33m,\u001b[0m \u001b[0mright\u001b[0m\u001b[1;33m)\u001b[0m\u001b[1;33m:\u001b[0m\u001b[1;33m\u001b[0m\u001b[1;33m\u001b[0m\u001b[0m\n\u001b[1;32m---> 52\u001b[1;33m     \u001b[1;32mreturn\u001b[0m \u001b[0moperator\u001b[0m\u001b[1;33m.\u001b[0m\u001b[0mand_\u001b[0m\u001b[1;33m(\u001b[0m\u001b[0mright\u001b[0m\u001b[1;33m,\u001b[0m \u001b[0mleft\u001b[0m\u001b[1;33m)\u001b[0m\u001b[1;33m\u001b[0m\u001b[1;33m\u001b[0m\u001b[0m\n\u001b[0m\u001b[0;32m     53\u001b[0m \u001b[1;33m\u001b[0m\u001b[0m\n",
      "\u001b[1;31mTypeError\u001b[0m: ufunc 'bitwise_and' not supported for the input types, and the inputs could not be safely coerced to any supported types according to the casting rule ''safe''",
      "\nDuring handling of the above exception, another exception occurred:\n",
      "\u001b[1;31mValueError\u001b[0m                                Traceback (most recent call last)",
      "\u001b[1;32mC:\\ProgramData\\Anaconda3\\lib\\site-packages\\pandas\\core\\ops\\array_ops.py\u001b[0m in \u001b[0;36mna_logical_op\u001b[1;34m(x, y, op)\u001b[0m\n\u001b[0;32m    279\u001b[0m             \u001b[1;32mtry\u001b[0m\u001b[1;33m:\u001b[0m\u001b[1;33m\u001b[0m\u001b[1;33m\u001b[0m\u001b[0m\n\u001b[1;32m--> 280\u001b[1;33m                 \u001b[0mresult\u001b[0m \u001b[1;33m=\u001b[0m \u001b[0mlibops\u001b[0m\u001b[1;33m.\u001b[0m\u001b[0mscalar_binop\u001b[0m\u001b[1;33m(\u001b[0m\u001b[0mx\u001b[0m\u001b[1;33m,\u001b[0m \u001b[0my\u001b[0m\u001b[1;33m,\u001b[0m \u001b[0mop\u001b[0m\u001b[1;33m)\u001b[0m\u001b[1;33m\u001b[0m\u001b[1;33m\u001b[0m\u001b[0m\n\u001b[0m\u001b[0;32m    281\u001b[0m             except (\n",
      "\u001b[1;32mpandas\\_libs\\ops.pyx\u001b[0m in \u001b[0;36mpandas._libs.ops.scalar_binop\u001b[1;34m()\u001b[0m\n",
      "\u001b[1;31mValueError\u001b[0m: Buffer dtype mismatch, expected 'Python object' but got 'double'",
      "\nThe above exception was the direct cause of the following exception:\n",
      "\u001b[1;31mTypeError\u001b[0m                                 Traceback (most recent call last)",
      "\u001b[1;32m<ipython-input-50-5bf8834cf940>\u001b[0m in \u001b[0;36m<module>\u001b[1;34m\u001b[0m\n\u001b[1;32m----> 1\u001b[1;33m \u001b[0mnoseoul\u001b[0m \u001b[1;33m=\u001b[0m \u001b[0mdf2\u001b[0m\u001b[1;33m[\u001b[0m\u001b[1;34m\"지역\"\u001b[0m\u001b[1;33m]\u001b[0m \u001b[1;33m==\u001b[0m \u001b[1;34m\"서울특별\"\u001b[0m  \u001b[1;33m&\u001b[0m \u001b[0mdf2\u001b[0m\u001b[1;33m[\u001b[0m\u001b[1;34m\"강남3구\"\u001b[0m\u001b[1;33m]\u001b[0m \u001b[1;33m!=\u001b[0m \u001b[1;36m1\u001b[0m\u001b[1;33m\u001b[0m\u001b[1;33m\u001b[0m\u001b[0m\n\u001b[0m\u001b[0;32m      2\u001b[0m \u001b[0mnoseoul\u001b[0m\u001b[1;33m.\u001b[0m\u001b[0mvalue_counts\u001b[0m\u001b[1;33m(\u001b[0m\u001b[1;33m)\u001b[0m\u001b[1;33m\u001b[0m\u001b[1;33m\u001b[0m\u001b[0m\n",
      "\u001b[1;32mC:\\ProgramData\\Anaconda3\\lib\\site-packages\\pandas\\core\\ops\\common.py\u001b[0m in \u001b[0;36mnew_method\u001b[1;34m(self, other)\u001b[0m\n\u001b[0;32m     63\u001b[0m         \u001b[0mother\u001b[0m \u001b[1;33m=\u001b[0m \u001b[0mitem_from_zerodim\u001b[0m\u001b[1;33m(\u001b[0m\u001b[0mother\u001b[0m\u001b[1;33m)\u001b[0m\u001b[1;33m\u001b[0m\u001b[1;33m\u001b[0m\u001b[0m\n\u001b[0;32m     64\u001b[0m \u001b[1;33m\u001b[0m\u001b[0m\n\u001b[1;32m---> 65\u001b[1;33m         \u001b[1;32mreturn\u001b[0m \u001b[0mmethod\u001b[0m\u001b[1;33m(\u001b[0m\u001b[0mself\u001b[0m\u001b[1;33m,\u001b[0m \u001b[0mother\u001b[0m\u001b[1;33m)\u001b[0m\u001b[1;33m\u001b[0m\u001b[1;33m\u001b[0m\u001b[0m\n\u001b[0m\u001b[0;32m     66\u001b[0m \u001b[1;33m\u001b[0m\u001b[0m\n\u001b[0;32m     67\u001b[0m     \u001b[1;32mreturn\u001b[0m \u001b[0mnew_method\u001b[0m\u001b[1;33m\u001b[0m\u001b[1;33m\u001b[0m\u001b[0m\n",
      "\u001b[1;32mC:\\ProgramData\\Anaconda3\\lib\\site-packages\\pandas\\core\\ops\\__init__.py\u001b[0m in \u001b[0;36mwrapper\u001b[1;34m(self, other)\u001b[0m\n\u001b[0;32m    392\u001b[0m         \u001b[0mrvalues\u001b[0m \u001b[1;33m=\u001b[0m \u001b[0mextract_array\u001b[0m\u001b[1;33m(\u001b[0m\u001b[0mother\u001b[0m\u001b[1;33m,\u001b[0m \u001b[0mextract_numpy\u001b[0m\u001b[1;33m=\u001b[0m\u001b[1;32mTrue\u001b[0m\u001b[1;33m)\u001b[0m\u001b[1;33m\u001b[0m\u001b[1;33m\u001b[0m\u001b[0m\n\u001b[0;32m    393\u001b[0m \u001b[1;33m\u001b[0m\u001b[0m\n\u001b[1;32m--> 394\u001b[1;33m         \u001b[0mres_values\u001b[0m \u001b[1;33m=\u001b[0m \u001b[0mlogical_op\u001b[0m\u001b[1;33m(\u001b[0m\u001b[0mlvalues\u001b[0m\u001b[1;33m,\u001b[0m \u001b[0mrvalues\u001b[0m\u001b[1;33m,\u001b[0m \u001b[0mop\u001b[0m\u001b[1;33m)\u001b[0m\u001b[1;33m\u001b[0m\u001b[1;33m\u001b[0m\u001b[0m\n\u001b[0m\u001b[0;32m    395\u001b[0m         \u001b[1;32mreturn\u001b[0m \u001b[0mself\u001b[0m\u001b[1;33m.\u001b[0m\u001b[0m_construct_result\u001b[0m\u001b[1;33m(\u001b[0m\u001b[0mres_values\u001b[0m\u001b[1;33m,\u001b[0m \u001b[0mname\u001b[0m\u001b[1;33m=\u001b[0m\u001b[0mres_name\u001b[0m\u001b[1;33m)\u001b[0m\u001b[1;33m\u001b[0m\u001b[1;33m\u001b[0m\u001b[0m\n\u001b[0;32m    396\u001b[0m \u001b[1;33m\u001b[0m\u001b[0m\n",
      "\u001b[1;32mC:\\ProgramData\\Anaconda3\\lib\\site-packages\\pandas\\core\\ops\\array_ops.py\u001b[0m in \u001b[0;36mlogical_op\u001b[1;34m(left, right, op)\u001b[0m\n\u001b[0;32m    354\u001b[0m         \u001b[0mfiller\u001b[0m \u001b[1;33m=\u001b[0m \u001b[0mfill_int\u001b[0m \u001b[1;32mif\u001b[0m \u001b[0mis_self_int_dtype\u001b[0m \u001b[1;32mand\u001b[0m \u001b[0mis_other_int_dtype\u001b[0m \u001b[1;32melse\u001b[0m \u001b[0mfill_bool\u001b[0m\u001b[1;33m\u001b[0m\u001b[1;33m\u001b[0m\u001b[0m\n\u001b[0;32m    355\u001b[0m \u001b[1;33m\u001b[0m\u001b[0m\n\u001b[1;32m--> 356\u001b[1;33m         \u001b[0mres_values\u001b[0m \u001b[1;33m=\u001b[0m \u001b[0mna_logical_op\u001b[0m\u001b[1;33m(\u001b[0m\u001b[0mlvalues\u001b[0m\u001b[1;33m,\u001b[0m \u001b[0mrvalues\u001b[0m\u001b[1;33m,\u001b[0m \u001b[0mop\u001b[0m\u001b[1;33m)\u001b[0m\u001b[1;33m\u001b[0m\u001b[1;33m\u001b[0m\u001b[0m\n\u001b[0m\u001b[0;32m    357\u001b[0m         \u001b[0mres_values\u001b[0m \u001b[1;33m=\u001b[0m \u001b[0mfiller\u001b[0m\u001b[1;33m(\u001b[0m\u001b[0mres_values\u001b[0m\u001b[1;33m)\u001b[0m  \u001b[1;31m# type: ignore\u001b[0m\u001b[1;33m\u001b[0m\u001b[1;33m\u001b[0m\u001b[0m\n\u001b[0;32m    358\u001b[0m \u001b[1;33m\u001b[0m\u001b[0m\n",
      "\u001b[1;32mC:\\ProgramData\\Anaconda3\\lib\\site-packages\\pandas\\core\\ops\\array_ops.py\u001b[0m in \u001b[0;36mna_logical_op\u001b[1;34m(x, y, op)\u001b[0m\n\u001b[0;32m    287\u001b[0m             ) as err:\n\u001b[0;32m    288\u001b[0m                 \u001b[0mtyp\u001b[0m \u001b[1;33m=\u001b[0m \u001b[0mtype\u001b[0m\u001b[1;33m(\u001b[0m\u001b[0my\u001b[0m\u001b[1;33m)\u001b[0m\u001b[1;33m.\u001b[0m\u001b[0m__name__\u001b[0m\u001b[1;33m\u001b[0m\u001b[1;33m\u001b[0m\u001b[0m\n\u001b[1;32m--> 289\u001b[1;33m                 raise TypeError(\n\u001b[0m\u001b[0;32m    290\u001b[0m                     \u001b[1;34mf\"Cannot perform '{op.__name__}' with a dtyped [{x.dtype}] array \"\u001b[0m\u001b[1;33m\u001b[0m\u001b[1;33m\u001b[0m\u001b[0m\n\u001b[0;32m    291\u001b[0m                     \u001b[1;34mf\"and scalar of type [{typ}]\"\u001b[0m\u001b[1;33m\u001b[0m\u001b[1;33m\u001b[0m\u001b[0m\n",
      "\u001b[1;31mTypeError\u001b[0m: Cannot perform 'rand_' with a dtyped [float64] array and scalar of type [bool]"
     ]
    }
   ],
   "source": [
    "# 두개 조건은 안되나?  \r\n",
    "\"\"\"에러 \r\n",
    "noseoul = df2[\"지역\"] == \"서울특별\"  & df2[\"강남3구\"] != 1\r\n",
    "noseoul.value_counts()\r\n",
    "\r\n",
    "TypeError: Cannot perform 'rand_' with a dtyped [float64] array and scalar of type [bool]\r\n",
    "\"\"\""
   ]
  },
  {
   "cell_type": "code",
   "execution_count": 52,
   "metadata": {},
   "outputs": [
    {
     "data": {
      "text/plain": "0"
     },
     "execution_count": 52,
     "metadata": {},
     "output_type": "execute_result"
    }
   ],
   "source": [
    "z = 0\r\n",
    "if  df2[\"강남3구\"].loc() ==1 :\r\n",
    "    z = df2[\"금액\"].mean()\r\n",
    "    z\r\n",
    "z"
   ]
  },
  {
   "cell_type": "code",
   "execution_count": 26,
   "metadata": {},
   "outputs": [
    {
     "data": {
      "text/plain": "0         강원도\n1         강원도\n2         강원도\n3         강원도\n4         강원도\n         ... \n25916    충청북도\n25917    충청북도\n25918    충청북도\n25919    충청북도\n25920    충청북도\nName: 지역, Length: 25921, dtype: object"
     },
     "execution_count": 26,
     "metadata": {},
     "output_type": "execute_result"
    }
   ],
   "source": [
    "# groupby로 통계값들을 얻기위한 작업 이미 근데 있네..?\r\n",
    "\r\n",
    "# 왜 에러날까?\r\n",
    "\"\"\"\r\n",
    "for i in location:\r\n",
    "    if df2[location[i]]==1 :\r\n",
    "        df2[\"지역명\"] = i\r\n",
    "df2[\"지역명\"]\r\n",
    "\r\n",
    "뜬 에러 :  TypeError: list indices must be integers or slices, not str\r\n",
    "일단 루프가 각 스트링에 대해 돌아가므로 당연히 그냥 i가들어가야됨. \r\n",
    "근데 일단 지역명할때 이프문 필요없는듯?\r\n",
    "\r\n",
    "loc를 사용해봅시다.  \r\n",
    "\"\"\"\r\n",
    "\"\"\"\r\n",
    "df2[\"지역명\"] = []\r\n",
    "for i in location:\r\n",
    "\r\n",
    "z= df2[location[1]]==1\r\n",
    "location[1]\r\n",
    "\"\"\"\r\n",
    "\"\"\r\n",
    "df2[\"지역\"]"
   ]
  },
  {
   "cell_type": "code",
   "execution_count": 55,
   "metadata": {},
   "outputs": [
    {
     "data": {
      "text/plain": "강남3구\n0.0    18421.007658\n1.0    69244.115712\nName: 금액, dtype: float64"
     },
     "execution_count": 55,
     "metadata": {},
     "output_type": "execute_result"
    }
   ],
   "source": [
    "## 해당 지역으로 평균내기\r\n",
    "# ?하고명령어쓰면 설명뜸. \r\n",
    "# ?df2.groupby\r\n",
    "df2.groupby([\"지역\"])[\"금액\"].mean()\r\n",
    "df2.groupby([\"강남3구\"])[\"금액\"].mean()\r\n",
    "# df2.groupby([\"서울강남제외\"])[\"금액\"].mean()\r\n"
   ]
  },
  {
   "cell_type": "markdown",
   "metadata": {},
   "source": [
    "조건문 여러개 달기 .\r\n",
    "\r\n",
    "if (cond1 AND/OR COND2) AND/OR (cond3 AND/OR cond4):\r\n",
    "    code1\r\n",
    "else:\r\n",
    "    code2\r\n",
    "\r\n",
    "데이터에서 조건문 여러개 달기\r\n",
    "\r\n",
    "df1 = df[(df.a != -1) & (df.b != -1)]\r\n",
    "또는\r\n",
    "df[\"A\"][(df[\"B\"] > 50) & (df[\"C\"] == 900)]\r\n",
    "위에꺼는  에러가 날 수도있으므로 특정값을 찾는 .loc 사용을 추천.\r\n",
    "df.loc[(df[\"B\"] > 50) & (df[\"C\"] == 900), \"A\"] *= 1000 \r\n",
    "\r\n",
    "https://stackoverflow.com/questions/15315452/selecting-with-complex-criteria-from-pandas-dataframe"
   ]
  },
  {
   "cell_type": "code",
   "execution_count": 57,
   "metadata": {},
   "outputs": [
    {
     "ename": "KeyError",
     "evalue": "'지역'",
     "output_type": "error",
     "traceback": [
      "\u001b[1;31m---------------------------------------------------------------------------\u001b[0m",
      "\u001b[1;31mKeyError\u001b[0m                                  Traceback (most recent call last)",
      "\u001b[1;32mC:\\ProgramData\\Anaconda3\\lib\\site-packages\\pandas\\core\\indexes\\base.py\u001b[0m in \u001b[0;36mget_loc\u001b[1;34m(self, key, method, tolerance)\u001b[0m\n\u001b[0;32m   2894\u001b[0m             \u001b[1;32mtry\u001b[0m\u001b[1;33m:\u001b[0m\u001b[1;33m\u001b[0m\u001b[1;33m\u001b[0m\u001b[0m\n\u001b[1;32m-> 2895\u001b[1;33m                 \u001b[1;32mreturn\u001b[0m \u001b[0mself\u001b[0m\u001b[1;33m.\u001b[0m\u001b[0m_engine\u001b[0m\u001b[1;33m.\u001b[0m\u001b[0mget_loc\u001b[0m\u001b[1;33m(\u001b[0m\u001b[0mcasted_key\u001b[0m\u001b[1;33m)\u001b[0m\u001b[1;33m\u001b[0m\u001b[1;33m\u001b[0m\u001b[0m\n\u001b[0m\u001b[0;32m   2896\u001b[0m             \u001b[1;32mexcept\u001b[0m \u001b[0mKeyError\u001b[0m \u001b[1;32mas\u001b[0m \u001b[0merr\u001b[0m\u001b[1;33m:\u001b[0m\u001b[1;33m\u001b[0m\u001b[1;33m\u001b[0m\u001b[0m\n",
      "\u001b[1;32mpandas\\_libs\\index.pyx\u001b[0m in \u001b[0;36mpandas._libs.index.IndexEngine.get_loc\u001b[1;34m()\u001b[0m\n",
      "\u001b[1;32mpandas\\_libs\\index.pyx\u001b[0m in \u001b[0;36mpandas._libs.index.IndexEngine.get_loc\u001b[1;34m()\u001b[0m\n",
      "\u001b[1;32mpandas\\_libs\\hashtable_class_helper.pxi\u001b[0m in \u001b[0;36mpandas._libs.hashtable.PyObjectHashTable.get_item\u001b[1;34m()\u001b[0m\n",
      "\u001b[1;32mpandas\\_libs\\hashtable_class_helper.pxi\u001b[0m in \u001b[0;36mpandas._libs.hashtable.PyObjectHashTable.get_item\u001b[1;34m()\u001b[0m\n",
      "\u001b[1;31mKeyError\u001b[0m: '지역'",
      "\nThe above exception was the direct cause of the following exception:\n",
      "\u001b[1;31mKeyError\u001b[0m                                  Traceback (most recent call last)",
      "\u001b[1;32m<ipython-input-57-53363ced761e>\u001b[0m in \u001b[0;36m<module>\u001b[1;34m\u001b[0m\n\u001b[1;32m----> 1\u001b[1;33m \u001b[0mdf\u001b[0m\u001b[1;33m[\u001b[0m\u001b[1;34m\"지역\"\u001b[0m\u001b[1;33m]\u001b[0m\u001b[1;33m\u001b[0m\u001b[1;33m\u001b[0m\u001b[0m\n\u001b[0m",
      "\u001b[1;32mC:\\ProgramData\\Anaconda3\\lib\\site-packages\\pandas\\core\\frame.py\u001b[0m in \u001b[0;36m__getitem__\u001b[1;34m(self, key)\u001b[0m\n\u001b[0;32m   2900\u001b[0m             \u001b[1;32mif\u001b[0m \u001b[0mself\u001b[0m\u001b[1;33m.\u001b[0m\u001b[0mcolumns\u001b[0m\u001b[1;33m.\u001b[0m\u001b[0mnlevels\u001b[0m \u001b[1;33m>\u001b[0m \u001b[1;36m1\u001b[0m\u001b[1;33m:\u001b[0m\u001b[1;33m\u001b[0m\u001b[1;33m\u001b[0m\u001b[0m\n\u001b[0;32m   2901\u001b[0m                 \u001b[1;32mreturn\u001b[0m \u001b[0mself\u001b[0m\u001b[1;33m.\u001b[0m\u001b[0m_getitem_multilevel\u001b[0m\u001b[1;33m(\u001b[0m\u001b[0mkey\u001b[0m\u001b[1;33m)\u001b[0m\u001b[1;33m\u001b[0m\u001b[1;33m\u001b[0m\u001b[0m\n\u001b[1;32m-> 2902\u001b[1;33m             \u001b[0mindexer\u001b[0m \u001b[1;33m=\u001b[0m \u001b[0mself\u001b[0m\u001b[1;33m.\u001b[0m\u001b[0mcolumns\u001b[0m\u001b[1;33m.\u001b[0m\u001b[0mget_loc\u001b[0m\u001b[1;33m(\u001b[0m\u001b[0mkey\u001b[0m\u001b[1;33m)\u001b[0m\u001b[1;33m\u001b[0m\u001b[1;33m\u001b[0m\u001b[0m\n\u001b[0m\u001b[0;32m   2903\u001b[0m             \u001b[1;32mif\u001b[0m \u001b[0mis_integer\u001b[0m\u001b[1;33m(\u001b[0m\u001b[0mindexer\u001b[0m\u001b[1;33m)\u001b[0m\u001b[1;33m:\u001b[0m\u001b[1;33m\u001b[0m\u001b[1;33m\u001b[0m\u001b[0m\n\u001b[0;32m   2904\u001b[0m                 \u001b[0mindexer\u001b[0m \u001b[1;33m=\u001b[0m \u001b[1;33m[\u001b[0m\u001b[0mindexer\u001b[0m\u001b[1;33m]\u001b[0m\u001b[1;33m\u001b[0m\u001b[1;33m\u001b[0m\u001b[0m\n",
      "\u001b[1;32mC:\\ProgramData\\Anaconda3\\lib\\site-packages\\pandas\\core\\indexes\\base.py\u001b[0m in \u001b[0;36mget_loc\u001b[1;34m(self, key, method, tolerance)\u001b[0m\n\u001b[0;32m   2895\u001b[0m                 \u001b[1;32mreturn\u001b[0m \u001b[0mself\u001b[0m\u001b[1;33m.\u001b[0m\u001b[0m_engine\u001b[0m\u001b[1;33m.\u001b[0m\u001b[0mget_loc\u001b[0m\u001b[1;33m(\u001b[0m\u001b[0mcasted_key\u001b[0m\u001b[1;33m)\u001b[0m\u001b[1;33m\u001b[0m\u001b[1;33m\u001b[0m\u001b[0m\n\u001b[0;32m   2896\u001b[0m             \u001b[1;32mexcept\u001b[0m \u001b[0mKeyError\u001b[0m \u001b[1;32mas\u001b[0m \u001b[0merr\u001b[0m\u001b[1;33m:\u001b[0m\u001b[1;33m\u001b[0m\u001b[1;33m\u001b[0m\u001b[0m\n\u001b[1;32m-> 2897\u001b[1;33m                 \u001b[1;32mraise\u001b[0m \u001b[0mKeyError\u001b[0m\u001b[1;33m(\u001b[0m\u001b[0mkey\u001b[0m\u001b[1;33m)\u001b[0m \u001b[1;32mfrom\u001b[0m \u001b[0merr\u001b[0m\u001b[1;33m\u001b[0m\u001b[1;33m\u001b[0m\u001b[0m\n\u001b[0m\u001b[0;32m   2898\u001b[0m \u001b[1;33m\u001b[0m\u001b[0m\n\u001b[0;32m   2899\u001b[0m         \u001b[1;32mif\u001b[0m \u001b[0mtolerance\u001b[0m \u001b[1;32mis\u001b[0m \u001b[1;32mnot\u001b[0m \u001b[1;32mNone\u001b[0m\u001b[1;33m:\u001b[0m\u001b[1;33m\u001b[0m\u001b[1;33m\u001b[0m\u001b[0m\n",
      "\u001b[1;31mKeyError\u001b[0m: '지역'"
     ]
    }
   ],
   "source": [
    "df[\"지역\"]"
   ]
  },
  {
   "cell_type": "code",
   "execution_count": 65,
   "metadata": {},
   "outputs": [
    {
     "data": {
      "text/plain": "4093"
     },
     "execution_count": 65,
     "metadata": {},
     "output_type": "execute_result"
    }
   ],
   "source": [
    "#여러조건으로 dataframe수정하기.\r\n",
    "\r\n",
    "df2[\"새로운\"]=0\r\n",
    "df2.loc[(df2[\"지역\"] ==\"서울특별\" ) & (df2[\"강남3구\"] != 1), \"새로운\"] = 1\r\n",
    "\r\n",
    "df2[\"새로운\"].sum()"
   ]
  },
  {
   "cell_type": "markdown",
   "metadata": {},
   "source": [
    "to do list\r\n",
    "\r\n",
    "\r\n",
    "시계열데이터 추출해내기\r\n",
    "    뭘 추출해야되는가?\r\n",
    "        금액의 평균 분산\r\n",
    "        지역에따라서 가져와야할듯\r\n",
    "        어떤식으로 할것인가? 평균 분산등 데이터 한다음 그냥 각각마다 column만들고 비시계열인 부문지우고 특정조건만족하는식으로하면될듯.\r\n",
    "\r\n",
    "        즉 column들을 무수히 늘린형태로 만든다음  row를 한줄만남기고  가야될듯\r\n",
    "\r\n",
    "    여러 시계열 데이터들을 한번에 frame에 추출하기\r\n",
    "        데이터를 불러와서 각각의 dfi에 집어넣어놓고 작업을하는게맞을거같긴한데..\r\n",
    "    시계열 데이터합치기 \r\n",
    "        달마다의 시계열데이터들을 각각의 frame에 저장해두고 이걸 melt로 녹이는 방식을 써야도리듯?\r\n"
   ]
  },
  {
   "cell_type": "code",
   "execution_count": null,
   "metadata": {},
   "outputs": [],
   "source": [
    "\r\n",
    "# 파일 불러오기 \r\n",
    "df = pd.read_excel(\"trimdata/apt200601.xlsx\" )\r\n",
    "\r\n",
    "# 이전파일 건드리지 않으려면 반드시 copy로\r\n",
    "df1 = df.copy()\r\n",
    "\r\n",
    "# datetime으로 만들기\r\n",
    "\r\n",
    "df1[\"년월\"] = df1[\"계약년월\"].copy()\r\n",
    "#format=%Y%m 으로 포맷 바꿔주기.\r\n",
    "df1[\"년월\"] = pd.to_datetime(df1[\"년월\"], format='%Y%m', errors='ignore')\r\n",
    "\r\n",
    "df1[\"년월\"]\r\n",
    "# pd.to_datetime?\r\n",
    "# df1.info()\r\n",
    "\r\n",
    "\r\n",
    "# ,가 문자열에 있어서 to_numeric에서  인식이 안되므로 ,제거하기 \r\n",
    "    # 성공! replace던 strip이던 컬럼에 적용할땐 항상 .str. 을 써야함을 잊지말것. \r\n",
    "df1[\"금액\"] =df1[\"거래금액(만원)\"].copy()\r\n",
    "df1[\"금액\"] = df1[\"금액\"].str.replace(\",\",\"\")\r\n",
    "\r\n",
    "\r\n",
    "# 문자열인 값 숫자로 변환하기 \r\n",
    "df1[\"금액\"] =pd.to_numeric(df1[\"금액\"])\r\n",
    "df1[\"면적\"]=pd.to_numeric(df1[\"전용면적(㎡)\"],errors ='coerce')\r\n",
    "df1[\"건축년도\"]=pd.to_numeric(df1[\"건축년도\"],errors ='coerce')\r\n",
    "\r\n",
    "\r\n",
    "#해제사유등 필요없는것 제거하기.\r\n",
    "\r\n",
    "# axis=1을 쓰면 열을 지우고 df.drop([0, 1], axis=0) 처럼 0을쓰면 인덱스(행)을 지움.\r\n",
    "# 주의 행의 이름은 B랑 C가 아닌 0 1인데 이는 스트링이 아니므로 ''없이 하면됨.\r\n",
    "df2 = df1.drop([\"해제사유발생일\", \"계약년월\",\"단지명\",\"계약일\",\"층\",\"도로명\",\"번지\",\"본번\",\"거래금액(만원)\",\"전용면적(㎡)\",\"부번\"]\r\n",
    "               ,axis=1).copy()\r\n",
    "df2\r\n",
    "\r\n",
    "\r\n",
    "    \r\n",
    "#크기로 나누기\r\n",
    "df2.loc[(df2['면적'] >  60) & (df2['면적'] <= 85), '크기'] = '중형' \r\n",
    "df2.loc[(df2['면적'] <=  60),'크기'] = '소형'\r\n",
    "df2.loc[(df2['면적'] > 85), '크기'] = '대형'\r\n",
    "#확인 \r\n",
    "df2['크기'].value_counts()\r\n",
    "\r\n",
    "\r\n",
    " #지역으로 나누기.\r\n",
    "df2[\"서울\"] = df2[\"시군구\"].str.contains(\"서울\", case=False, na=False).astype(int)\r\n",
    "df2[\"서울\"].sum()\r\n",
    "df2[\"대전\"] = df2[\"시군구\"].str.contains(\"대전\", case=False, na=False).astype(int)\r\n",
    "df2[\"대전\"].sum()\r\n",
    "\r\n",
    "location =[]\r\n",
    "location = [\"강원도\",     \r\n",
    "            \"경기도\"  ,  \r\n",
    "            \"경상남도\" ,    \r\n",
    "            \"경상북도\"  ,   \r\n",
    "            \"광주광역\"     ,\r\n",
    "            \"대구광역\"  ,\r\n",
    "            \"대전광역\"   ,\r\n",
    "            \"부산광역\"   ,\r\n",
    "            \"서울특별\"    ,\r\n",
    "            \"세종특별\",\r\n",
    "             \"울산광역\"    ,\r\n",
    "            \"인천광역\"    ,\r\n",
    "            \"전라남도\" ,    \r\n",
    "            \"전라북도\"  ,   \r\n",
    "            \"제주특별\"    ,\r\n",
    "            \"충청남도\" ,   \r\n",
    "            \"충청북도\"  ] \r\n",
    "\r\n",
    "for i in location :\r\n",
    "    df2[i] =  df2[\"시군구\"].str.contains(i, case=False, na=False).astype(int)\r\n",
    "    df2.loc[(df2[i] ==  1) , '지역'] = i\r\n",
    "\r\n",
    "\r\n",
    "#확인\r\n",
    "df2[\"지역\"].value_counts()\r\n",
    "df2[\"강원도\"].sum()+df2[\"경기도\"].sum()+df2[\"경상남도\"].sum()+df2[\"경상북도\"].sum()+df2[\"광주광역\"].sum()+df2[\"대구광역\"].sum()+df2[\"대전광역\"].sum()+df2[\"부산광역\"].sum()+df2[\"서울특별\"].sum()+df2[\"세종특별\"].sum()+df2[\"울산광역\"].sum()+df2[\"인천광역\"].sum()+df2[\"전라남도\"].sum()+df2[\"전라북도\"].sum()+df2[\"제주특별\"].sum()+df2[\"충청남도\"].sum() +df2[\"충청북도\"].sum()\r\n",
    "\r\n",
    "\r\n",
    "#강남 송파 서초 3구 따로 묶어보기 ..abs\r\n",
    "df2[\"강남구\"] = df2[\"시군구\"].str.contains(\"서울특별시 강남구\", case=False, na=False).astype(int)\r\n",
    "df2[\"서초구\"] = df2[\"시군구\"].str.contains(\"서울특별시 서초구\", case=False, na=False).astype(int)\r\n",
    "df2[\"송파구\"] = df2[\"시군구\"].str.contains(\"서울특별시 송파구\", case=False, na=False).astype(int)\r\n",
    "df2.loc[(df2['강남구'] == 1) | (df2['서초구'] == 1) |  (df2['송파구'] == 1) , \"강남3구\"] = 1\r\n",
    "\r\n",
    "#Nan 0으로 만들기\r\n",
    "df2[\"강남3구\"] = df2[\"강남3구\"].fillna(0).copy()\r\n",
    "\r\n",
    "#확인하기 \r\n",
    "df2[\"강남3구\"].value_counts()\r\n",
    "\r\n",
    "\r\n",
    "# 전체관측치와 각도별 관측치 갯수의합이 같은지 확인하기.\r\n",
    "df2[\"강원도\"].sum()+df2[\"경기도\"].sum()+df2[\"경상남도\"].sum()+df2[\"경상북도\"].sum()+df2[\"광주광역\"].sum()+df2[\"대구광역\"].sum()+df2[\"대전광역\"].sum()+df2[\"부산광역\"].sum()+df2[\"서울특별\"].sum()+df2[\"세종특별\"].sum()+df2[\"울산광역\"].sum()+df2[\"인천광역\"].sum()+df2[\"전라남도\"].sum()+df2[\"전라북도\"].sum()+df2[\"제주특별\"].sum()+df2[\"충청남도\"].sum() +df2[\"충청북도\"].sum()\r\n",
    "\r\n",
    "#결과 확인\r\n",
    "df2.info()\r\n",
    "\r\n",
    "# 결과 출력하기 "
   ]
  },
  {
   "cell_type": "code",
   "execution_count": 132,
   "metadata": {},
   "outputs": [
    {
     "data": {
      "text/html": "<div>\n<style scoped>\n    .dataframe tbody tr th:only-of-type {\n        vertical-align: middle;\n    }\n\n    .dataframe tbody tr th {\n        vertical-align: top;\n    }\n\n    .dataframe thead th {\n        text-align: right;\n    }\n</style>\n<table border=\"1\" class=\"dataframe\">\n  <thead>\n    <tr style=\"text-align: right;\">\n      <th>크기</th>\n      <th>대형</th>\n      <th>소형</th>\n      <th>중형</th>\n    </tr>\n    <tr>\n      <th>지역</th>\n      <th></th>\n      <th></th>\n      <th></th>\n    </tr>\n  </thead>\n  <tbody>\n    <tr>\n      <th>강원도</th>\n      <td>13083.0</td>\n      <td>4802.0</td>\n      <td>8661.0</td>\n    </tr>\n    <tr>\n      <th>경기도</th>\n      <td>48854.0</td>\n      <td>12439.0</td>\n      <td>22490.0</td>\n    </tr>\n    <tr>\n      <th>경상남도</th>\n      <td>21554.0</td>\n      <td>6928.0</td>\n      <td>11991.0</td>\n    </tr>\n    <tr>\n      <th>경상북도</th>\n      <td>13508.0</td>\n      <td>4504.0</td>\n      <td>8261.0</td>\n    </tr>\n    <tr>\n      <th>광주광역</th>\n      <td>17346.0</td>\n      <td>5749.0</td>\n      <td>10917.0</td>\n    </tr>\n    <tr>\n      <th>대구광역</th>\n      <td>25533.0</td>\n      <td>8683.0</td>\n      <td>15049.0</td>\n    </tr>\n    <tr>\n      <th>대전광역</th>\n      <td>30536.0</td>\n      <td>7549.0</td>\n      <td>14870.0</td>\n    </tr>\n    <tr>\n      <th>부산광역</th>\n      <td>21505.0</td>\n      <td>8118.0</td>\n      <td>12083.0</td>\n    </tr>\n    <tr>\n      <th>서울특별</th>\n      <td>80705.0</td>\n      <td>24957.0</td>\n      <td>40114.0</td>\n    </tr>\n    <tr>\n      <th>세종특별</th>\n      <td>12000.0</td>\n      <td>5776.0</td>\n      <td>9734.0</td>\n    </tr>\n    <tr>\n      <th>울산광역</th>\n      <td>19457.0</td>\n      <td>6614.0</td>\n      <td>10577.0</td>\n    </tr>\n    <tr>\n      <th>인천광역</th>\n      <td>23931.0</td>\n      <td>8225.0</td>\n      <td>14938.0</td>\n    </tr>\n    <tr>\n      <th>전라남도</th>\n      <td>11568.0</td>\n      <td>3941.0</td>\n      <td>6113.0</td>\n    </tr>\n    <tr>\n      <th>전라북도</th>\n      <td>13698.0</td>\n      <td>4457.0</td>\n      <td>8384.0</td>\n    </tr>\n    <tr>\n      <th>제주특별</th>\n      <td>16339.0</td>\n      <td>5328.0</td>\n      <td>11960.0</td>\n    </tr>\n    <tr>\n      <th>충청남도</th>\n      <td>18710.0</td>\n      <td>5956.0</td>\n      <td>11499.0</td>\n    </tr>\n    <tr>\n      <th>충청북도</th>\n      <td>18255.0</td>\n      <td>5685.0</td>\n      <td>10837.0</td>\n    </tr>\n  </tbody>\n</table>\n</div>",
      "text/plain": "크기         대형       소형       중형\n지역                             \n강원도   13083.0   4802.0   8661.0\n경기도   48854.0  12439.0  22490.0\n경상남도  21554.0   6928.0  11991.0\n경상북도  13508.0   4504.0   8261.0\n광주광역  17346.0   5749.0  10917.0\n대구광역  25533.0   8683.0  15049.0\n대전광역  30536.0   7549.0  14870.0\n부산광역  21505.0   8118.0  12083.0\n서울특별  80705.0  24957.0  40114.0\n세종특별  12000.0   5776.0   9734.0\n울산광역  19457.0   6614.0  10577.0\n인천광역  23931.0   8225.0  14938.0\n전라남도  11568.0   3941.0   6113.0\n전라북도  13698.0   4457.0   8384.0\n제주특별  16339.0   5328.0  11960.0\n충청남도  18710.0   5956.0  11499.0\n충청북도  18255.0   5685.0  10837.0"
     },
     "execution_count": 132,
     "metadata": {},
     "output_type": "execute_result"
    }
   ],
   "source": [
    "df2.groupby([\"지역\",\"크기\"])[\"금액\"].mean().unstack().round()\r\n"
   ]
  },
  {
   "cell_type": "code",
   "execution_count": 19,
   "metadata": {},
   "outputs": [
    {
     "ename": "AttributeError",
     "evalue": "module 'pandas' has no attribute 'df2'",
     "output_type": "error",
     "traceback": [
      "\u001b[1;31m---------------------------------------------------------------------------\u001b[0m",
      "\u001b[1;31mAttributeError\u001b[0m                            Traceback (most recent call last)",
      "\u001b[1;32m<ipython-input-19-59338fd5cca2>\u001b[0m in \u001b[0;36m<module>\u001b[1;34m\u001b[0m\n\u001b[1;32m----> 1\u001b[1;33m \u001b[0mdf3\u001b[0m\u001b[1;33m[\u001b[0m\u001b[1;34m\"평균금액\"\u001b[0m\u001b[1;33m]\u001b[0m \u001b[1;33m=\u001b[0m \u001b[0mpd\u001b[0m\u001b[1;33m.\u001b[0m\u001b[0mdf2\u001b[0m\u001b[1;33m[\u001b[0m\u001b[1;34m\"금액\"\u001b[0m\u001b[1;33m]\u001b[0m\u001b[1;33m.\u001b[0m\u001b[0mmean\u001b[0m\u001b[1;33m(\u001b[0m\u001b[1;33m)\u001b[0m\u001b[1;33m\u001b[0m\u001b[1;33m\u001b[0m\u001b[0m\n\u001b[0m\u001b[0;32m      2\u001b[0m \u001b[0mdf3\u001b[0m\u001b[1;33m[\u001b[0m\u001b[1;34m\"년월\"\u001b[0m\u001b[1;33m]\u001b[0m \u001b[1;33m=\u001b[0m \u001b[1;36m200601\u001b[0m\u001b[1;33m\u001b[0m\u001b[1;33m\u001b[0m\u001b[0m\n\u001b[0;32m      3\u001b[0m \u001b[0mdf3\u001b[0m\u001b[1;33m[\u001b[0m\u001b[1;34m\"년월\"\u001b[0m\u001b[1;33m]\u001b[0m \u001b[1;33m=\u001b[0m \u001b[0mpd\u001b[0m\u001b[1;33m.\u001b[0m\u001b[0mto_datetime\u001b[0m\u001b[1;33m(\u001b[0m\u001b[0mdf3\u001b[0m\u001b[1;33m[\u001b[0m\u001b[1;34m\"년월\"\u001b[0m\u001b[1;33m]\u001b[0m\u001b[1;33m,\u001b[0m \u001b[0mformat\u001b[0m\u001b[1;33m=\u001b[0m\u001b[1;34m'%Y%m'\u001b[0m\u001b[1;33m,\u001b[0m \u001b[0merrors\u001b[0m\u001b[1;33m=\u001b[0m\u001b[1;34m'ignore'\u001b[0m\u001b[1;33m)\u001b[0m\u001b[1;33m\u001b[0m\u001b[1;33m\u001b[0m\u001b[0m\n\u001b[0;32m      4\u001b[0m \u001b[0mdf3\u001b[0m\u001b[1;33m.\u001b[0m\u001b[0minfo\u001b[0m\u001b[1;33m(\u001b[0m\u001b[1;33m)\u001b[0m\u001b[1;33m\u001b[0m\u001b[1;33m\u001b[0m\u001b[0m\n\u001b[0;32m      5\u001b[0m \u001b[0mdf3\u001b[0m\u001b[1;33m.\u001b[0m\u001b[0mhead\u001b[0m\u001b[1;33m(\u001b[0m\u001b[1;33m)\u001b[0m\u001b[1;33m\u001b[0m\u001b[1;33m\u001b[0m\u001b[0m\n",
      "\u001b[1;32mC:\\ProgramData\\Anaconda3\\lib\\site-packages\\pandas\\__init__.py\u001b[0m in \u001b[0;36m__getattr__\u001b[1;34m(name)\u001b[0m\n\u001b[0;32m    256\u001b[0m             \u001b[1;32mreturn\u001b[0m \u001b[0m_SparseArray\u001b[0m\u001b[1;33m\u001b[0m\u001b[1;33m\u001b[0m\u001b[0m\n\u001b[0;32m    257\u001b[0m \u001b[1;33m\u001b[0m\u001b[0m\n\u001b[1;32m--> 258\u001b[1;33m         \u001b[1;32mraise\u001b[0m \u001b[0mAttributeError\u001b[0m\u001b[1;33m(\u001b[0m\u001b[1;34mf\"module 'pandas' has no attribute '{name}'\"\u001b[0m\u001b[1;33m)\u001b[0m\u001b[1;33m\u001b[0m\u001b[1;33m\u001b[0m\u001b[0m\n\u001b[0m\u001b[0;32m    259\u001b[0m \u001b[1;33m\u001b[0m\u001b[0m\n\u001b[0;32m    260\u001b[0m \u001b[1;33m\u001b[0m\u001b[0m\n",
      "\u001b[1;31mAttributeError\u001b[0m: module 'pandas' has no attribute 'df2'"
     ]
    }
   ],
   "source": [
    "\r\n",
    "df3[\"평균금액\"] = pd.df2[\"금액\"].mean()\r\n",
    "df3[\"년월\"] = 200601\r\n",
    "df3[\"년월\"] = pd.to_datetime(df3[\"년월\"], format='%Y%m', errors='ignore')\r\n",
    "df3.info()\r\n",
    "df3.head()"
   ]
  },
  {
   "cell_type": "code",
   "execution_count": 129,
   "metadata": {},
   "outputs": [
    {
     "data": {
      "text/html": "<div>\n<style scoped>\n    .dataframe tbody tr th:only-of-type {\n        vertical-align: middle;\n    }\n\n    .dataframe tbody tr th {\n        vertical-align: top;\n    }\n\n    .dataframe thead th {\n        text-align: right;\n    }\n</style>\n<table border=\"1\" class=\"dataframe\">\n  <thead>\n    <tr style=\"text-align: right;\">\n      <th></th>\n      <th>지역평균</th>\n      <th>소형평균</th>\n      <th>중형평균</th>\n      <th>대형평균</th>\n      <th>지역표준편차</th>\n      <th>소형표준편차</th>\n      <th>중형표준편차</th>\n      <th>대형표준편차</th>\n    </tr>\n    <tr>\n      <th>지역</th>\n      <th></th>\n      <th></th>\n      <th></th>\n      <th></th>\n      <th></th>\n      <th></th>\n      <th></th>\n      <th></th>\n    </tr>\n  </thead>\n  <tbody>\n    <tr>\n      <th>강원도</th>\n      <td>6361.0</td>\n      <td>4802.0</td>\n      <td>8661.0</td>\n      <td>13083.0</td>\n      <td>3503.0</td>\n      <td>1958.0</td>\n      <td>3211.0</td>\n      <td>4855.0</td>\n    </tr>\n    <tr>\n      <th>경기도</th>\n      <td>23442.0</td>\n      <td>12439.0</td>\n      <td>22490.0</td>\n      <td>48854.0</td>\n      <td>19567.0</td>\n      <td>6869.0</td>\n      <td>12291.0</td>\n      <td>26989.0</td>\n    </tr>\n    <tr>\n      <th>경상남도</th>\n      <td>9554.0</td>\n      <td>6928.0</td>\n      <td>11991.0</td>\n      <td>21554.0</td>\n      <td>6218.0</td>\n      <td>2555.0</td>\n      <td>5571.0</td>\n      <td>11758.0</td>\n    </tr>\n    <tr>\n      <th>경상북도</th>\n      <td>6666.0</td>\n      <td>4504.0</td>\n      <td>8261.0</td>\n      <td>13508.0</td>\n      <td>3687.0</td>\n      <td>1924.0</td>\n      <td>3311.0</td>\n      <td>4405.0</td>\n    </tr>\n    <tr>\n      <th>광주광역</th>\n      <td>9047.0</td>\n      <td>5749.0</td>\n      <td>10917.0</td>\n      <td>17346.0</td>\n      <td>4835.0</td>\n      <td>1615.0</td>\n      <td>3135.0</td>\n      <td>5915.0</td>\n    </tr>\n    <tr>\n      <th>대구광역</th>\n      <td>12717.0</td>\n      <td>8683.0</td>\n      <td>15049.0</td>\n      <td>25533.0</td>\n      <td>6625.0</td>\n      <td>2422.0</td>\n      <td>4572.0</td>\n      <td>8605.0</td>\n    </tr>\n    <tr>\n      <th>대전광역</th>\n      <td>14715.0</td>\n      <td>7549.0</td>\n      <td>14870.0</td>\n      <td>30536.0</td>\n      <td>9741.0</td>\n      <td>2889.0</td>\n      <td>5300.0</td>\n      <td>10816.0</td>\n    </tr>\n    <tr>\n      <th>부산광역</th>\n      <td>11749.0</td>\n      <td>8118.0</td>\n      <td>12083.0</td>\n      <td>21505.0</td>\n      <td>6291.0</td>\n      <td>2711.0</td>\n      <td>4117.0</td>\n      <td>8956.0</td>\n    </tr>\n    <tr>\n      <th>서울특별</th>\n      <td>42495.0</td>\n      <td>24957.0</td>\n      <td>40114.0</td>\n      <td>80705.0</td>\n      <td>32687.0</td>\n      <td>16706.0</td>\n      <td>21030.0</td>\n      <td>43356.0</td>\n    </tr>\n    <tr>\n      <th>세종특별</th>\n      <td>6701.0</td>\n      <td>5776.0</td>\n      <td>9734.0</td>\n      <td>12000.0</td>\n      <td>2615.0</td>\n      <td>1620.0</td>\n      <td>2961.0</td>\n      <td>NaN</td>\n    </tr>\n    <tr>\n      <th>울산광역</th>\n      <td>8855.0</td>\n      <td>6614.0</td>\n      <td>10577.0</td>\n      <td>19457.0</td>\n      <td>4918.0</td>\n      <td>2428.0</td>\n      <td>4721.0</td>\n      <td>9511.0</td>\n    </tr>\n    <tr>\n      <th>인천광역</th>\n      <td>11617.0</td>\n      <td>8225.0</td>\n      <td>14938.0</td>\n      <td>23931.0</td>\n      <td>5842.0</td>\n      <td>2315.0</td>\n      <td>3984.0</td>\n      <td>6865.0</td>\n    </tr>\n    <tr>\n      <th>전라남도</th>\n      <td>5574.0</td>\n      <td>3941.0</td>\n      <td>6113.0</td>\n      <td>11568.0</td>\n      <td>3235.0</td>\n      <td>1619.0</td>\n      <td>2386.0</td>\n      <td>4348.0</td>\n    </tr>\n    <tr>\n      <th>전라북도</th>\n      <td>6662.0</td>\n      <td>4457.0</td>\n      <td>8384.0</td>\n      <td>13698.0</td>\n      <td>4007.0</td>\n      <td>1873.0</td>\n      <td>3141.0</td>\n      <td>6093.0</td>\n    </tr>\n    <tr>\n      <th>제주특별</th>\n      <td>10214.0</td>\n      <td>5328.0</td>\n      <td>11960.0</td>\n      <td>16339.0</td>\n      <td>5388.0</td>\n      <td>1848.0</td>\n      <td>4150.0</td>\n      <td>9294.0</td>\n    </tr>\n    <tr>\n      <th>충청남도</th>\n      <td>8797.0</td>\n      <td>5956.0</td>\n      <td>11499.0</td>\n      <td>18710.0</td>\n      <td>5392.0</td>\n      <td>2668.0</td>\n      <td>4233.0</td>\n      <td>8483.0</td>\n    </tr>\n    <tr>\n      <th>충청북도</th>\n      <td>7982.0</td>\n      <td>5685.0</td>\n      <td>10837.0</td>\n      <td>18255.0</td>\n      <td>4786.0</td>\n      <td>2365.0</td>\n      <td>3945.0</td>\n      <td>6312.0</td>\n    </tr>\n  </tbody>\n</table>\n</div>",
      "text/plain": "         지역평균     소형평균     중형평균     대형평균   지역표준편차   소형표준편차   중형표준편차   대형표준편차\n지역                                                                          \n강원도    6361.0   4802.0   8661.0  13083.0   3503.0   1958.0   3211.0   4855.0\n경기도   23442.0  12439.0  22490.0  48854.0  19567.0   6869.0  12291.0  26989.0\n경상남도   9554.0   6928.0  11991.0  21554.0   6218.0   2555.0   5571.0  11758.0\n경상북도   6666.0   4504.0   8261.0  13508.0   3687.0   1924.0   3311.0   4405.0\n광주광역   9047.0   5749.0  10917.0  17346.0   4835.0   1615.0   3135.0   5915.0\n대구광역  12717.0   8683.0  15049.0  25533.0   6625.0   2422.0   4572.0   8605.0\n대전광역  14715.0   7549.0  14870.0  30536.0   9741.0   2889.0   5300.0  10816.0\n부산광역  11749.0   8118.0  12083.0  21505.0   6291.0   2711.0   4117.0   8956.0\n서울특별  42495.0  24957.0  40114.0  80705.0  32687.0  16706.0  21030.0  43356.0\n세종특별   6701.0   5776.0   9734.0  12000.0   2615.0   1620.0   2961.0      NaN\n울산광역   8855.0   6614.0  10577.0  19457.0   4918.0   2428.0   4721.0   9511.0\n인천광역  11617.0   8225.0  14938.0  23931.0   5842.0   2315.0   3984.0   6865.0\n전라남도   5574.0   3941.0   6113.0  11568.0   3235.0   1619.0   2386.0   4348.0\n전라북도   6662.0   4457.0   8384.0  13698.0   4007.0   1873.0   3141.0   6093.0\n제주특별  10214.0   5328.0  11960.0  16339.0   5388.0   1848.0   4150.0   9294.0\n충청남도   8797.0   5956.0  11499.0  18710.0   5392.0   2668.0   4233.0   8483.0\n충청북도   7982.0   5685.0  10837.0  18255.0   4786.0   2365.0   3945.0   6312.0"
     },
     "execution_count": 129,
     "metadata": {},
     "output_type": "execute_result"
    }
   ],
   "source": [
    "## 설명 시계열 데이터 변환작업.\r\n",
    "column_names = []\r\n",
    "df3 = pd.DataFrame(columns = column_names)\r\n",
    "df3 = df2.groupby([\"지역\",\"크기\"])[\"금액\"].mean().unstack().round()\r\n",
    "df3.columns = [\"대형평균\",\"소형평균\",\"중형평균\"]\r\n",
    "df3 = df3.reindex(columns=[\"소형평균\",\"중형평균\",\"대형평균\"])\r\n",
    "df3\r\n",
    "\r\n",
    "\r\n",
    "df4 = df2.groupby([\"지역\",\"크기\"])[\"금액\"].std().unstack().round()\r\n",
    "df4.columns = [\"대형표준편차\",\"소형표준편차\",\"중형표준편차\"]\r\n",
    "df4 = df4.reindex(columns=[\"소형표준편차\",\"중형표준편차\",\"대형표준편차\"])\r\n",
    "df4\r\n",
    "\r\n",
    "column_names = []\r\n",
    "df5 = pd.DataFrame(columns = column_names)\r\n",
    "df5[\"지역평균\"] = df2.groupby([\"지역\"])[\"금액\"].mean().round().copy()\r\n",
    "\r\n",
    "df6 = pd.DataFrame(columns = column_names)\r\n",
    "df6[\"지역표준편차\"] = df2.groupby([\"지역\"])[\"금액\"].std().round().copy()\r\n",
    "\r\n",
    "df_last = pd.concat([df5,df3,df6,df4] , axis=1) #axis=1을 해야 옆에다 붙임즉 column에 붙임. 디폴트는 axis=0 이고 이렇게하면 row에 붙이는것. \r\n",
    "df_last"
   ]
  },
  {
   "cell_type": "code",
   "execution_count": 131,
   "metadata": {},
   "outputs": [
    {
     "ename": "KeyError",
     "evalue": "'지역'",
     "output_type": "error",
     "traceback": [
      "\u001b[1;31m---------------------------------------------------------------------------\u001b[0m",
      "\u001b[1;31mKeyError\u001b[0m                                  Traceback (most recent call last)",
      "\u001b[1;32mC:\\ProgramData\\Anaconda3\\lib\\site-packages\\pandas\\core\\indexes\\base.py\u001b[0m in \u001b[0;36mget_loc\u001b[1;34m(self, key, method, tolerance)\u001b[0m\n\u001b[0;32m   2894\u001b[0m             \u001b[1;32mtry\u001b[0m\u001b[1;33m:\u001b[0m\u001b[1;33m\u001b[0m\u001b[1;33m\u001b[0m\u001b[0m\n\u001b[1;32m-> 2895\u001b[1;33m                 \u001b[1;32mreturn\u001b[0m \u001b[0mself\u001b[0m\u001b[1;33m.\u001b[0m\u001b[0m_engine\u001b[0m\u001b[1;33m.\u001b[0m\u001b[0mget_loc\u001b[0m\u001b[1;33m(\u001b[0m\u001b[0mcasted_key\u001b[0m\u001b[1;33m)\u001b[0m\u001b[1;33m\u001b[0m\u001b[1;33m\u001b[0m\u001b[0m\n\u001b[0m\u001b[0;32m   2896\u001b[0m             \u001b[1;32mexcept\u001b[0m \u001b[0mKeyError\u001b[0m \u001b[1;32mas\u001b[0m \u001b[0merr\u001b[0m\u001b[1;33m:\u001b[0m\u001b[1;33m\u001b[0m\u001b[1;33m\u001b[0m\u001b[0m\n",
      "\u001b[1;32mpandas\\_libs\\index.pyx\u001b[0m in \u001b[0;36mpandas._libs.index.IndexEngine.get_loc\u001b[1;34m()\u001b[0m\n",
      "\u001b[1;32mpandas\\_libs\\index.pyx\u001b[0m in \u001b[0;36mpandas._libs.index.IndexEngine.get_loc\u001b[1;34m()\u001b[0m\n",
      "\u001b[1;32mpandas\\_libs\\hashtable_class_helper.pxi\u001b[0m in \u001b[0;36mpandas._libs.hashtable.PyObjectHashTable.get_item\u001b[1;34m()\u001b[0m\n",
      "\u001b[1;32mpandas\\_libs\\hashtable_class_helper.pxi\u001b[0m in \u001b[0;36mpandas._libs.hashtable.PyObjectHashTable.get_item\u001b[1;34m()\u001b[0m\n",
      "\u001b[1;31mKeyError\u001b[0m: '지역'",
      "\nThe above exception was the direct cause of the following exception:\n",
      "\u001b[1;31mKeyError\u001b[0m                                  Traceback (most recent call last)",
      "\u001b[1;32m<ipython-input-131-e536bfff99bb>\u001b[0m in \u001b[0;36m<module>\u001b[1;34m\u001b[0m\n\u001b[1;32m----> 1\u001b[1;33m \u001b[0mdf_last\u001b[0m\u001b[1;33m[\u001b[0m\u001b[1;34m\"지역\"\u001b[0m\u001b[1;33m]\u001b[0m\u001b[1;33m\u001b[0m\u001b[1;33m\u001b[0m\u001b[0m\n\u001b[0m",
      "\u001b[1;32mC:\\ProgramData\\Anaconda3\\lib\\site-packages\\pandas\\core\\frame.py\u001b[0m in \u001b[0;36m__getitem__\u001b[1;34m(self, key)\u001b[0m\n\u001b[0;32m   2900\u001b[0m             \u001b[1;32mif\u001b[0m \u001b[0mself\u001b[0m\u001b[1;33m.\u001b[0m\u001b[0mcolumns\u001b[0m\u001b[1;33m.\u001b[0m\u001b[0mnlevels\u001b[0m \u001b[1;33m>\u001b[0m \u001b[1;36m1\u001b[0m\u001b[1;33m:\u001b[0m\u001b[1;33m\u001b[0m\u001b[1;33m\u001b[0m\u001b[0m\n\u001b[0;32m   2901\u001b[0m                 \u001b[1;32mreturn\u001b[0m \u001b[0mself\u001b[0m\u001b[1;33m.\u001b[0m\u001b[0m_getitem_multilevel\u001b[0m\u001b[1;33m(\u001b[0m\u001b[0mkey\u001b[0m\u001b[1;33m)\u001b[0m\u001b[1;33m\u001b[0m\u001b[1;33m\u001b[0m\u001b[0m\n\u001b[1;32m-> 2902\u001b[1;33m             \u001b[0mindexer\u001b[0m \u001b[1;33m=\u001b[0m \u001b[0mself\u001b[0m\u001b[1;33m.\u001b[0m\u001b[0mcolumns\u001b[0m\u001b[1;33m.\u001b[0m\u001b[0mget_loc\u001b[0m\u001b[1;33m(\u001b[0m\u001b[0mkey\u001b[0m\u001b[1;33m)\u001b[0m\u001b[1;33m\u001b[0m\u001b[1;33m\u001b[0m\u001b[0m\n\u001b[0m\u001b[0;32m   2903\u001b[0m             \u001b[1;32mif\u001b[0m \u001b[0mis_integer\u001b[0m\u001b[1;33m(\u001b[0m\u001b[0mindexer\u001b[0m\u001b[1;33m)\u001b[0m\u001b[1;33m:\u001b[0m\u001b[1;33m\u001b[0m\u001b[1;33m\u001b[0m\u001b[0m\n\u001b[0;32m   2904\u001b[0m                 \u001b[0mindexer\u001b[0m \u001b[1;33m=\u001b[0m \u001b[1;33m[\u001b[0m\u001b[0mindexer\u001b[0m\u001b[1;33m]\u001b[0m\u001b[1;33m\u001b[0m\u001b[1;33m\u001b[0m\u001b[0m\n",
      "\u001b[1;32mC:\\ProgramData\\Anaconda3\\lib\\site-packages\\pandas\\core\\indexes\\base.py\u001b[0m in \u001b[0;36mget_loc\u001b[1;34m(self, key, method, tolerance)\u001b[0m\n\u001b[0;32m   2895\u001b[0m                 \u001b[1;32mreturn\u001b[0m \u001b[0mself\u001b[0m\u001b[1;33m.\u001b[0m\u001b[0m_engine\u001b[0m\u001b[1;33m.\u001b[0m\u001b[0mget_loc\u001b[0m\u001b[1;33m(\u001b[0m\u001b[0mcasted_key\u001b[0m\u001b[1;33m)\u001b[0m\u001b[1;33m\u001b[0m\u001b[1;33m\u001b[0m\u001b[0m\n\u001b[0;32m   2896\u001b[0m             \u001b[1;32mexcept\u001b[0m \u001b[0mKeyError\u001b[0m \u001b[1;32mas\u001b[0m \u001b[0merr\u001b[0m\u001b[1;33m:\u001b[0m\u001b[1;33m\u001b[0m\u001b[1;33m\u001b[0m\u001b[0m\n\u001b[1;32m-> 2897\u001b[1;33m                 \u001b[1;32mraise\u001b[0m \u001b[0mKeyError\u001b[0m\u001b[1;33m(\u001b[0m\u001b[0mkey\u001b[0m\u001b[1;33m)\u001b[0m \u001b[1;32mfrom\u001b[0m \u001b[0merr\u001b[0m\u001b[1;33m\u001b[0m\u001b[1;33m\u001b[0m\u001b[0m\n\u001b[0m\u001b[0;32m   2898\u001b[0m \u001b[1;33m\u001b[0m\u001b[0m\n\u001b[0;32m   2899\u001b[0m         \u001b[1;32mif\u001b[0m \u001b[0mtolerance\u001b[0m \u001b[1;32mis\u001b[0m \u001b[1;32mnot\u001b[0m \u001b[1;32mNone\u001b[0m\u001b[1;33m:\u001b[0m\u001b[1;33m\u001b[0m\u001b[1;33m\u001b[0m\u001b[0m\n",
      "\u001b[1;31mKeyError\u001b[0m: '지역'"
     ]
    }
   ],
   "source": [
    "df_last[\"\"]"
   ]
  },
  {
   "cell_type": "code",
   "execution_count": 88,
   "metadata": {},
   "outputs": [
    {
     "data": {
      "text/html": "<div>\n<style scoped>\n    .dataframe tbody tr th:only-of-type {\n        vertical-align: middle;\n    }\n\n    .dataframe tbody tr th {\n        vertical-align: top;\n    }\n\n    .dataframe thead th {\n        text-align: right;\n    }\n</style>\n<table border=\"1\" class=\"dataframe\">\n  <thead>\n    <tr style=\"text-align: right;\">\n      <th></th>\n      <th>평균금액</th>\n    </tr>\n    <tr>\n      <th>지역</th>\n      <th></th>\n    </tr>\n  </thead>\n  <tbody>\n    <tr>\n      <th>강원도</th>\n      <td>6361.0</td>\n    </tr>\n    <tr>\n      <th>경기도</th>\n      <td>23442.0</td>\n    </tr>\n    <tr>\n      <th>경상남도</th>\n      <td>9554.0</td>\n    </tr>\n    <tr>\n      <th>경상북도</th>\n      <td>6666.0</td>\n    </tr>\n    <tr>\n      <th>광주광역</th>\n      <td>9047.0</td>\n    </tr>\n    <tr>\n      <th>대구광역</th>\n      <td>12717.0</td>\n    </tr>\n    <tr>\n      <th>대전광역</th>\n      <td>14715.0</td>\n    </tr>\n    <tr>\n      <th>부산광역</th>\n      <td>11749.0</td>\n    </tr>\n    <tr>\n      <th>서울특별</th>\n      <td>42495.0</td>\n    </tr>\n    <tr>\n      <th>세종특별</th>\n      <td>6701.0</td>\n    </tr>\n    <tr>\n      <th>울산광역</th>\n      <td>8855.0</td>\n    </tr>\n    <tr>\n      <th>인천광역</th>\n      <td>11617.0</td>\n    </tr>\n    <tr>\n      <th>전라남도</th>\n      <td>5574.0</td>\n    </tr>\n    <tr>\n      <th>전라북도</th>\n      <td>6662.0</td>\n    </tr>\n    <tr>\n      <th>제주특별</th>\n      <td>10214.0</td>\n    </tr>\n    <tr>\n      <th>충청남도</th>\n      <td>8797.0</td>\n    </tr>\n    <tr>\n      <th>충청북도</th>\n      <td>7982.0</td>\n    </tr>\n  </tbody>\n</table>\n</div>",
      "text/plain": "         평균금액\n지역           \n강원도    6361.0\n경기도   23442.0\n경상남도   9554.0\n경상북도   6666.0\n광주광역   9047.0\n대구광역  12717.0\n대전광역  14715.0\n부산광역  11749.0\n서울특별  42495.0\n세종특별   6701.0\n울산광역   8855.0\n인천광역  11617.0\n전라남도   5574.0\n전라북도   6662.0\n제주특별  10214.0\n충청남도   8797.0\n충청북도   7982.0"
     },
     "execution_count": 88,
     "metadata": {},
     "output_type": "execute_result"
    }
   ],
   "source": [
    "column_names = []\r\n",
    "df7 = pd.DataFrame(columns = column_names)\r\n",
    "df7[\"평균금액\"] = df2.[\"금액\"].mean().round().copy()\r\n",
    "df7\r\n"
   ]
  },
  {
   "cell_type": "code",
   "execution_count": 111,
   "metadata": {},
   "outputs": [
    {
     "data": {
      "text/plain": "크기\n대형    51808.0\n소형    11752.0\n중형    22382.0\nName: 금액, dtype: float64"
     },
     "execution_count": 111,
     "metadata": {},
     "output_type": "execute_result"
    }
   ],
   "source": [
    "column_names = []\r\n",
    "dfnat = pd.DataFrame(columns = column_names)\r\n",
    "dfnat = df2.groupby([\"크기\"])[\"금액\"].mean().round().copy()\r\n",
    "dfnat = dfnat.T\r\n",
    "dfnat\r\n"
   ]
  },
  {
   "cell_type": "code",
   "execution_count": 137,
   "metadata": {},
   "outputs": [],
   "source": [
    "# 리스트를 작성해서 밑에 열로 붙이기\r\n",
    "# 중요: 차원을 맞춰야함.\r\n",
    "nat = []\r\n",
    "\r\n",
    "nat.append(df2[\"금액\"].mean())\r\n",
    "nat.append(df2.groupby([\"크기\"])[\"금액\"].mean()[\"소형\"])\r\n",
    "nat.append(df2.groupby([\"크기\"])[\"금액\"].mean()[\"중형\"])\r\n",
    "nat.append(df2.groupby([\"크기\"])[\"금액\"].mean()[\"대형\"])\r\n",
    "nat.append(df2[\"금액\"].std())\r\n",
    "nat.append(df2.groupby([\"크기\"])[\"금액\"].std()[\"소형\"])\r\n",
    "nat.append(df2.groupby([\"크기\"])[\"금액\"].std()[\"중형\"])\r\n",
    "nat.append(df2.groupby([\"크기\"])[\"금액\"].std()[\"대형\"])\r\n",
    "nat\r\n",
    "\r\n",
    "df_last.loc[17] = nat\r\n",
    "\r\n"
   ]
  },
  {
   "cell_type": "code",
   "execution_count": 69,
   "metadata": {},
   "outputs": [
    {
     "data": {
      "text/plain": "지역\n강원도      6361.0\n경기도     23442.0\n경상남도     9554.0\n경상북도     6666.0\n광주광역     9047.0\n대구광역    12717.0\n대전광역    14715.0\n부산광역    11749.0\n서울특별    42495.0\n세종특별     6701.0\n울산광역     8855.0\n인천광역    11617.0\n전라남도     5574.0\n전라북도     6662.0\n제주특별    10214.0\n충청남도     8797.0\n충청북도     7982.0\nName: 금액, dtype: float64"
     },
     "execution_count": 69,
     "metadata": {},
     "output_type": "execute_result"
    }
   ],
   "source": [
    "df6 = df2.groupby([\"지역\"])[\"금액\"].mean().round().copy()\r\n",
    "df6"
   ]
  },
  {
   "cell_type": "code",
   "execution_count": null,
   "metadata": {},
   "outputs": [],
   "source": []
  },
  {
   "cell_type": "code",
   "execution_count": null,
   "metadata": {},
   "outputs": [],
   "source": []
  },
  {
   "cell_type": "code",
   "execution_count": 56,
   "metadata": {},
   "outputs": [
    {
     "data": {
      "text/plain": "['중형표준편차']"
     },
     "execution_count": 56,
     "metadata": {},
     "output_type": "execute_result"
    }
   ],
   "source": [
    "### 컬럼 순서바꾸기\r\n",
    "\r\n",
    "order =df5.columns.tolist()\r\n",
    "order\r\n",
    "\r\n",
    "order[-1:]"
   ]
  },
  {
   "cell_type": "code",
   "execution_count": 46,
   "metadata": {},
   "outputs": [
    {
     "data": {
      "text/plain": "금액    24957.311347\nName: (서울특별, 소형), dtype: float64"
     },
     "execution_count": 46,
     "metadata": {},
     "output_type": "execute_result"
    }
   ],
   "source": [
    "df3 = df2.copy()\r\n",
    "p = pd.pivot_table(df3, index=[\"지역\",\"크기\"],values=\"금액\")\r\n",
    "#짤려서 하는거 해결하는 .loc 행을 기준으로 가져올때 지정함. \r\n",
    "#loc[] 를 빈칸으로 남기면 에러남.\r\n",
    "p.loc[\"서울특별\",\"소형\"]\r\n",
    "\r\n"
   ]
  },
  {
   "cell_type": "code",
   "execution_count": 48,
   "metadata": {},
   "outputs": [
    {
     "name": "stdout",
     "output_type": "stream",
     "text": [
      "\u001b[1;31mSignature:\u001b[0m\n",
      "\u001b[0mpd\u001b[0m\u001b[1;33m.\u001b[0m\u001b[0mpivot_table\u001b[0m\u001b[1;33m(\u001b[0m\u001b[1;33m\n",
      "\u001b[0m    \u001b[0mdata\u001b[0m\u001b[1;33m,\u001b[0m\u001b[1;33m\n",
      "\u001b[0m    \u001b[0mvalues\u001b[0m\u001b[1;33m=\u001b[0m\u001b[1;32mNone\u001b[0m\u001b[1;33m,\u001b[0m\u001b[1;33m\n",
      "\u001b[0m    \u001b[0mindex\u001b[0m\u001b[1;33m=\u001b[0m\u001b[1;32mNone\u001b[0m\u001b[1;33m,\u001b[0m\u001b[1;33m\n",
      "\u001b[0m    \u001b[0mcolumns\u001b[0m\u001b[1;33m=\u001b[0m\u001b[1;32mNone\u001b[0m\u001b[1;33m,\u001b[0m\u001b[1;33m\n",
      "\u001b[0m    \u001b[0maggfunc\u001b[0m\u001b[1;33m=\u001b[0m\u001b[1;34m'mean'\u001b[0m\u001b[1;33m,\u001b[0m\u001b[1;33m\n",
      "\u001b[0m    \u001b[0mfill_value\u001b[0m\u001b[1;33m=\u001b[0m\u001b[1;32mNone\u001b[0m\u001b[1;33m,\u001b[0m\u001b[1;33m\n",
      "\u001b[0m    \u001b[0mmargins\u001b[0m\u001b[1;33m=\u001b[0m\u001b[1;32mFalse\u001b[0m\u001b[1;33m,\u001b[0m\u001b[1;33m\n",
      "\u001b[0m    \u001b[0mdropna\u001b[0m\u001b[1;33m=\u001b[0m\u001b[1;32mTrue\u001b[0m\u001b[1;33m,\u001b[0m\u001b[1;33m\n",
      "\u001b[0m    \u001b[0mmargins_name\u001b[0m\u001b[1;33m=\u001b[0m\u001b[1;34m'All'\u001b[0m\u001b[1;33m,\u001b[0m\u001b[1;33m\n",
      "\u001b[0m    \u001b[0mobserved\u001b[0m\u001b[1;33m=\u001b[0m\u001b[1;32mFalse\u001b[0m\u001b[1;33m,\u001b[0m\u001b[1;33m\n",
      "\u001b[0m\u001b[1;33m)\u001b[0m \u001b[1;33m->\u001b[0m \u001b[1;34m'DataFrame'\u001b[0m\u001b[1;33m\u001b[0m\u001b[1;33m\u001b[0m\u001b[0m\n",
      "\u001b[1;31mDocstring:\u001b[0m\n",
      "Create a spreadsheet-style pivot table as a DataFrame.\n",
      "\n",
      "The levels in the pivot table will be stored in MultiIndex objects\n",
      "(hierarchical indexes) on the index and columns of the result DataFrame.\n",
      "\n",
      "Parameters\n",
      "----------\n",
      "data : DataFrame\n",
      "values : column to aggregate, optional\n",
      "index : column, Grouper, array, or list of the previous\n",
      "    If an array is passed, it must be the same length as the data. The\n",
      "    list can contain any of the other types (except list).\n",
      "    Keys to group by on the pivot table index.  If an array is passed,\n",
      "    it is being used as the same manner as column values.\n",
      "columns : column, Grouper, array, or list of the previous\n",
      "    If an array is passed, it must be the same length as the data. The\n",
      "    list can contain any of the other types (except list).\n",
      "    Keys to group by on the pivot table column.  If an array is passed,\n",
      "    it is being used as the same manner as column values.\n",
      "aggfunc : function, list of functions, dict, default numpy.mean\n",
      "    If list of functions passed, the resulting pivot table will have\n",
      "    hierarchical columns whose top level are the function names\n",
      "    (inferred from the function objects themselves)\n",
      "    If dict is passed, the key is column to aggregate and value\n",
      "    is function or list of functions.\n",
      "fill_value : scalar, default None\n",
      "    Value to replace missing values with (in the resulting pivot table,\n",
      "    after aggregation).\n",
      "margins : bool, default False\n",
      "    Add all row / columns (e.g. for subtotal / grand totals).\n",
      "dropna : bool, default True\n",
      "    Do not include columns whose entries are all NaN.\n",
      "margins_name : str, default 'All'\n",
      "    Name of the row / column that will contain the totals\n",
      "    when margins is True.\n",
      "observed : bool, default False\n",
      "    This only applies if any of the groupers are Categoricals.\n",
      "    If True: only show observed values for categorical groupers.\n",
      "    If False: show all values for categorical groupers.\n",
      "\n",
      "    .. versionchanged:: 0.25.0\n",
      "\n",
      "Returns\n",
      "-------\n",
      "DataFrame\n",
      "    An Excel style pivot table.\n",
      "\n",
      "See Also\n",
      "--------\n",
      "DataFrame.pivot : Pivot without aggregation that can handle\n",
      "    non-numeric data.\n",
      "\n",
      "Examples\n",
      "--------\n",
      ">>> df = pd.DataFrame({\"A\": [\"foo\", \"foo\", \"foo\", \"foo\", \"foo\",\n",
      "...                          \"bar\", \"bar\", \"bar\", \"bar\"],\n",
      "...                    \"B\": [\"one\", \"one\", \"one\", \"two\", \"two\",\n",
      "...                          \"one\", \"one\", \"two\", \"two\"],\n",
      "...                    \"C\": [\"small\", \"large\", \"large\", \"small\",\n",
      "...                          \"small\", \"large\", \"small\", \"small\",\n",
      "...                          \"large\"],\n",
      "...                    \"D\": [1, 2, 2, 3, 3, 4, 5, 6, 7],\n",
      "...                    \"E\": [2, 4, 5, 5, 6, 6, 8, 9, 9]})\n",
      ">>> df\n",
      "     A    B      C  D  E\n",
      "0  foo  one  small  1  2\n",
      "1  foo  one  large  2  4\n",
      "2  foo  one  large  2  5\n",
      "3  foo  two  small  3  5\n",
      "4  foo  two  small  3  6\n",
      "5  bar  one  large  4  6\n",
      "6  bar  one  small  5  8\n",
      "7  bar  two  small  6  9\n",
      "8  bar  two  large  7  9\n",
      "\n",
      "This first example aggregates values by taking the sum.\n",
      "\n",
      ">>> table = pd.pivot_table(df, values='D', index=['A', 'B'],\n",
      "...                     columns=['C'], aggfunc=np.sum)\n",
      ">>> table\n",
      "C        large  small\n",
      "A   B\n",
      "bar one    4.0    5.0\n",
      "    two    7.0    6.0\n",
      "foo one    4.0    1.0\n",
      "    two    NaN    6.0\n",
      "\n",
      "We can also fill missing values using the `fill_value` parameter.\n",
      "\n",
      ">>> table = pd.pivot_table(df, values='D', index=['A', 'B'],\n",
      "...                     columns=['C'], aggfunc=np.sum, fill_value=0)\n",
      ">>> table\n",
      "C        large  small\n",
      "A   B\n",
      "bar one      4      5\n",
      "    two      7      6\n",
      "foo one      4      1\n",
      "    two      0      6\n",
      "\n",
      "The next example aggregates by taking the mean across multiple columns.\n",
      "\n",
      ">>> table = pd.pivot_table(df, values=['D', 'E'], index=['A', 'C'],\n",
      "...                     aggfunc={'D': np.mean,\n",
      "...                              'E': np.mean})\n",
      ">>> table\n",
      "                D         E\n",
      "A   C\n",
      "bar large  5.500000  7.500000\n",
      "    small  5.500000  8.500000\n",
      "foo large  2.000000  4.500000\n",
      "    small  2.333333  4.333333\n",
      "\n",
      "We can also calculate multiple types of aggregations for any given\n",
      "value column.\n",
      "\n",
      ">>> table = pd.pivot_table(df, values=['D', 'E'], index=['A', 'C'],\n",
      "...                     aggfunc={'D': np.mean,\n",
      "...                              'E': [min, max, np.mean]})\n",
      ">>> table\n",
      "                D    E\n",
      "            mean  max      mean  min\n",
      "A   C\n",
      "bar large  5.500000  9.0  7.500000  6.0\n",
      "    small  5.500000  9.0  8.500000  8.0\n",
      "foo large  2.000000  5.0  4.500000  4.0\n",
      "    small  2.333333  6.0  4.333333  2.0\n",
      "\u001b[1;31mFile:\u001b[0m      c:\\programdata\\anaconda3\\lib\\site-packages\\pandas\\core\\reshape\\pivot.py\n",
      "\u001b[1;31mType:\u001b[0m      function\n"
     ]
    }
   ],
   "source": [
    "?pd.pivot_table"
   ]
  },
  {
   "cell_type": "code",
   "execution_count": 136,
   "metadata": {},
   "outputs": [
    {
     "data": {
      "text/plain": "지역평균      23442.0\n소형평균      12439.0\n중형평균      22490.0\n대형평균      48854.0\n지역표준편차    19567.0\n소형표준편차     6869.0\n중형표준편차    12291.0\n대형표준편차    26989.0\nName: 경기도, dtype: float64"
     },
     "execution_count": 136,
     "metadata": {},
     "output_type": "execute_result"
    }
   ],
   "source": [
    "df_last.iloc[1]"
   ]
  },
  {
   "cell_type": "code",
   "execution_count": 157,
   "metadata": {},
   "outputs": [
    {
     "data": {
      "text/html": "<div>\n<style scoped>\n    .dataframe tbody tr th:only-of-type {\n        vertical-align: middle;\n    }\n\n    .dataframe tbody tr th {\n        vertical-align: top;\n    }\n\n    .dataframe thead th {\n        text-align: right;\n    }\n</style>\n<table border=\"1\" class=\"dataframe\">\n  <thead>\n    <tr style=\"text-align: right;\">\n      <th></th>\n      <th>지역</th>\n      <th>지역평균</th>\n      <th>소형평균</th>\n      <th>중형평균</th>\n      <th>대형평균</th>\n      <th>지역표준편차</th>\n      <th>소형표준편차</th>\n      <th>중형표준편차</th>\n      <th>대형표준편차</th>\n    </tr>\n  </thead>\n  <tbody>\n    <tr>\n      <th>0</th>\n      <td>강원도</td>\n      <td>6361.0</td>\n      <td>4802.0</td>\n      <td>8661.0</td>\n      <td>13083.0</td>\n      <td>3503.0</td>\n      <td>1958.0</td>\n      <td>3211.0</td>\n      <td>4855.0</td>\n    </tr>\n    <tr>\n      <th>1</th>\n      <td>경기도</td>\n      <td>23442.0</td>\n      <td>12439.0</td>\n      <td>22490.0</td>\n      <td>48854.0</td>\n      <td>19567.0</td>\n      <td>6869.0</td>\n      <td>12291.0</td>\n      <td>26989.0</td>\n    </tr>\n    <tr>\n      <th>2</th>\n      <td>경상남도</td>\n      <td>9554.0</td>\n      <td>6928.0</td>\n      <td>11991.0</td>\n      <td>21554.0</td>\n      <td>6218.0</td>\n      <td>2555.0</td>\n      <td>5571.0</td>\n      <td>11758.0</td>\n    </tr>\n    <tr>\n      <th>3</th>\n      <td>경상북도</td>\n      <td>6666.0</td>\n      <td>4504.0</td>\n      <td>8261.0</td>\n      <td>13508.0</td>\n      <td>3687.0</td>\n      <td>1924.0</td>\n      <td>3311.0</td>\n      <td>4405.0</td>\n    </tr>\n    <tr>\n      <th>4</th>\n      <td>광주광역</td>\n      <td>9047.0</td>\n      <td>5749.0</td>\n      <td>10917.0</td>\n      <td>17346.0</td>\n      <td>4835.0</td>\n      <td>1615.0</td>\n      <td>3135.0</td>\n      <td>5915.0</td>\n    </tr>\n    <tr>\n      <th>5</th>\n      <td>대구광역</td>\n      <td>12717.0</td>\n      <td>8683.0</td>\n      <td>15049.0</td>\n      <td>25533.0</td>\n      <td>6625.0</td>\n      <td>2422.0</td>\n      <td>4572.0</td>\n      <td>8605.0</td>\n    </tr>\n    <tr>\n      <th>6</th>\n      <td>대전광역</td>\n      <td>14715.0</td>\n      <td>7549.0</td>\n      <td>14870.0</td>\n      <td>30536.0</td>\n      <td>9741.0</td>\n      <td>2889.0</td>\n      <td>5300.0</td>\n      <td>10816.0</td>\n    </tr>\n    <tr>\n      <th>7</th>\n      <td>부산광역</td>\n      <td>11749.0</td>\n      <td>8118.0</td>\n      <td>12083.0</td>\n      <td>21505.0</td>\n      <td>6291.0</td>\n      <td>2711.0</td>\n      <td>4117.0</td>\n      <td>8956.0</td>\n    </tr>\n    <tr>\n      <th>8</th>\n      <td>서울특별</td>\n      <td>42495.0</td>\n      <td>24957.0</td>\n      <td>40114.0</td>\n      <td>80705.0</td>\n      <td>32687.0</td>\n      <td>16706.0</td>\n      <td>21030.0</td>\n      <td>43356.0</td>\n    </tr>\n    <tr>\n      <th>9</th>\n      <td>세종특별</td>\n      <td>6701.0</td>\n      <td>5776.0</td>\n      <td>9734.0</td>\n      <td>12000.0</td>\n      <td>2615.0</td>\n      <td>1620.0</td>\n      <td>2961.0</td>\n      <td>NaN</td>\n    </tr>\n    <tr>\n      <th>10</th>\n      <td>울산광역</td>\n      <td>8855.0</td>\n      <td>6614.0</td>\n      <td>10577.0</td>\n      <td>19457.0</td>\n      <td>4918.0</td>\n      <td>2428.0</td>\n      <td>4721.0</td>\n      <td>9511.0</td>\n    </tr>\n    <tr>\n      <th>11</th>\n      <td>인천광역</td>\n      <td>11617.0</td>\n      <td>8225.0</td>\n      <td>14938.0</td>\n      <td>23931.0</td>\n      <td>5842.0</td>\n      <td>2315.0</td>\n      <td>3984.0</td>\n      <td>6865.0</td>\n    </tr>\n    <tr>\n      <th>12</th>\n      <td>전라남도</td>\n      <td>5574.0</td>\n      <td>3941.0</td>\n      <td>6113.0</td>\n      <td>11568.0</td>\n      <td>3235.0</td>\n      <td>1619.0</td>\n      <td>2386.0</td>\n      <td>4348.0</td>\n    </tr>\n    <tr>\n      <th>13</th>\n      <td>전라북도</td>\n      <td>6662.0</td>\n      <td>4457.0</td>\n      <td>8384.0</td>\n      <td>13698.0</td>\n      <td>4007.0</td>\n      <td>1873.0</td>\n      <td>3141.0</td>\n      <td>6093.0</td>\n    </tr>\n    <tr>\n      <th>14</th>\n      <td>제주특별</td>\n      <td>10214.0</td>\n      <td>5328.0</td>\n      <td>11960.0</td>\n      <td>16339.0</td>\n      <td>5388.0</td>\n      <td>1848.0</td>\n      <td>4150.0</td>\n      <td>9294.0</td>\n    </tr>\n    <tr>\n      <th>15</th>\n      <td>충청남도</td>\n      <td>8797.0</td>\n      <td>5956.0</td>\n      <td>11499.0</td>\n      <td>18710.0</td>\n      <td>5392.0</td>\n      <td>2668.0</td>\n      <td>4233.0</td>\n      <td>8483.0</td>\n    </tr>\n    <tr>\n      <th>16</th>\n      <td>충청북도</td>\n      <td>7982.0</td>\n      <td>5685.0</td>\n      <td>10837.0</td>\n      <td>18255.0</td>\n      <td>4786.0</td>\n      <td>2365.0</td>\n      <td>3945.0</td>\n      <td>6312.0</td>\n    </tr>\n  </tbody>\n</table>\n</div>",
      "text/plain": "      지역     지역평균     소형평균     중형평균     대형평균   지역표준편차   소형표준편차   중형표준편차  \\\n0    강원도   6361.0   4802.0   8661.0  13083.0   3503.0   1958.0   3211.0   \n1    경기도  23442.0  12439.0  22490.0  48854.0  19567.0   6869.0  12291.0   \n2   경상남도   9554.0   6928.0  11991.0  21554.0   6218.0   2555.0   5571.0   \n3   경상북도   6666.0   4504.0   8261.0  13508.0   3687.0   1924.0   3311.0   \n4   광주광역   9047.0   5749.0  10917.0  17346.0   4835.0   1615.0   3135.0   \n5   대구광역  12717.0   8683.0  15049.0  25533.0   6625.0   2422.0   4572.0   \n6   대전광역  14715.0   7549.0  14870.0  30536.0   9741.0   2889.0   5300.0   \n7   부산광역  11749.0   8118.0  12083.0  21505.0   6291.0   2711.0   4117.0   \n8   서울특별  42495.0  24957.0  40114.0  80705.0  32687.0  16706.0  21030.0   \n9   세종특별   6701.0   5776.0   9734.0  12000.0   2615.0   1620.0   2961.0   \n10  울산광역   8855.0   6614.0  10577.0  19457.0   4918.0   2428.0   4721.0   \n11  인천광역  11617.0   8225.0  14938.0  23931.0   5842.0   2315.0   3984.0   \n12  전라남도   5574.0   3941.0   6113.0  11568.0   3235.0   1619.0   2386.0   \n13  전라북도   6662.0   4457.0   8384.0  13698.0   4007.0   1873.0   3141.0   \n14  제주특별  10214.0   5328.0  11960.0  16339.0   5388.0   1848.0   4150.0   \n15  충청남도   8797.0   5956.0  11499.0  18710.0   5392.0   2668.0   4233.0   \n16  충청북도   7982.0   5685.0  10837.0  18255.0   4786.0   2365.0   3945.0   \n\n     대형표준편차  \n0    4855.0  \n1   26989.0  \n2   11758.0  \n3    4405.0  \n4    5915.0  \n5    8605.0  \n6   10816.0  \n7    8956.0  \n8   43356.0  \n9       NaN  \n10   9511.0  \n11   6865.0  \n12   4348.0  \n13   6093.0  \n14   9294.0  \n15   8483.0  \n16   6312.0  "
     },
     "execution_count": 157,
     "metadata": {},
     "output_type": "execute_result"
    }
   ],
   "source": [
    "###  설명 시계열 데이터 변환작업 \r\n",
    "\r\n",
    "\r\n",
    "df3 = df2.groupby([\"지역\",\"크기\"])[\"금액\"].mean().unstack().round()\r\n",
    "df3.columns = [\"대형평균\",\"소형평균\",\"중형평균\"]\r\n",
    "df3 = df3.reindex(columns=[\"소형평균\",\"중형평균\",\"대형평균\"])\r\n",
    "df3\r\n",
    "\r\n",
    "\r\n",
    "df4 = df2.groupby([\"지역\",\"크기\"])[\"금액\"].std().unstack().round()\r\n",
    "df4.columns = [\"대형표준편차\",\"소형표준편차\",\"중형표준편차\"]\r\n",
    "df4 = df4.reindex(columns=[\"소형표준편차\",\"중형표준편차\",\"대형표준편차\"])\r\n",
    "df4\r\n",
    "\r\n",
    "column_names = []\r\n",
    "df5 = pd.DataFrame(columns = column_names)\r\n",
    "df5[\"지역평균\"] = df2.groupby([\"지역\"])[\"금액\"].mean().round().copy()\r\n",
    "\r\n",
    "df6 = pd.DataFrame(columns = column_names)\r\n",
    "df6[\"지역표준편차\"] = df2.groupby([\"지역\"])[\"금액\"].std().round().copy()\r\n",
    "\r\n",
    "df_last = pd.concat([df5,df3,df6,df4] , axis=1) #axis=1을 해야 옆에다 붙임즉 column에 붙임. 디폴트는 axis=0 이고 이렇게하면 row에 붙이는것. \r\n",
    "\r\n",
    "\r\n",
    "df_last\r\n",
    "# 인덱스 초기화하기\r\n",
    "df_r = df_last.reset_index()\r\n",
    "df_r \r\n",
    "\r\n",
    "\r\n"
   ]
  },
  {
   "cell_type": "code",
   "execution_count": 159,
   "metadata": {},
   "outputs": [
    {
     "data": {
      "text/html": "<div>\n<style scoped>\n    .dataframe tbody tr th:only-of-type {\n        vertical-align: middle;\n    }\n\n    .dataframe tbody tr th {\n        vertical-align: top;\n    }\n\n    .dataframe thead th {\n        text-align: right;\n    }\n</style>\n<table border=\"1\" class=\"dataframe\">\n  <thead>\n    <tr style=\"text-align: right;\">\n      <th></th>\n      <th>지역</th>\n      <th>지역평균</th>\n      <th>소형평균</th>\n      <th>중형평균</th>\n      <th>대형평균</th>\n      <th>지역표준편차</th>\n      <th>소형표준편차</th>\n      <th>중형표준편차</th>\n      <th>대형표준편차</th>\n      <th>년월</th>\n    </tr>\n  </thead>\n  <tbody>\n    <tr>\n      <th>0</th>\n      <td>강원도</td>\n      <td>6361.000000</td>\n      <td>4802.000000</td>\n      <td>8661.000000</td>\n      <td>13083.000000</td>\n      <td>3503.000000</td>\n      <td>1958.000000</td>\n      <td>3211.00000</td>\n      <td>4855.000000</td>\n      <td>2006-01-01</td>\n    </tr>\n    <tr>\n      <th>1</th>\n      <td>경기도</td>\n      <td>23442.000000</td>\n      <td>12439.000000</td>\n      <td>22490.000000</td>\n      <td>48854.000000</td>\n      <td>19567.000000</td>\n      <td>6869.000000</td>\n      <td>12291.00000</td>\n      <td>26989.000000</td>\n      <td>2006-01-01</td>\n    </tr>\n    <tr>\n      <th>2</th>\n      <td>경상남도</td>\n      <td>9554.000000</td>\n      <td>6928.000000</td>\n      <td>11991.000000</td>\n      <td>21554.000000</td>\n      <td>6218.000000</td>\n      <td>2555.000000</td>\n      <td>5571.00000</td>\n      <td>11758.000000</td>\n      <td>2006-01-01</td>\n    </tr>\n    <tr>\n      <th>3</th>\n      <td>경상북도</td>\n      <td>6666.000000</td>\n      <td>4504.000000</td>\n      <td>8261.000000</td>\n      <td>13508.000000</td>\n      <td>3687.000000</td>\n      <td>1924.000000</td>\n      <td>3311.00000</td>\n      <td>4405.000000</td>\n      <td>2006-01-01</td>\n    </tr>\n    <tr>\n      <th>4</th>\n      <td>광주광역</td>\n      <td>9047.000000</td>\n      <td>5749.000000</td>\n      <td>10917.000000</td>\n      <td>17346.000000</td>\n      <td>4835.000000</td>\n      <td>1615.000000</td>\n      <td>3135.00000</td>\n      <td>5915.000000</td>\n      <td>2006-01-01</td>\n    </tr>\n    <tr>\n      <th>5</th>\n      <td>대구광역</td>\n      <td>12717.000000</td>\n      <td>8683.000000</td>\n      <td>15049.000000</td>\n      <td>25533.000000</td>\n      <td>6625.000000</td>\n      <td>2422.000000</td>\n      <td>4572.00000</td>\n      <td>8605.000000</td>\n      <td>2006-01-01</td>\n    </tr>\n    <tr>\n      <th>6</th>\n      <td>대전광역</td>\n      <td>14715.000000</td>\n      <td>7549.000000</td>\n      <td>14870.000000</td>\n      <td>30536.000000</td>\n      <td>9741.000000</td>\n      <td>2889.000000</td>\n      <td>5300.00000</td>\n      <td>10816.000000</td>\n      <td>2006-01-01</td>\n    </tr>\n    <tr>\n      <th>7</th>\n      <td>부산광역</td>\n      <td>11749.000000</td>\n      <td>8118.000000</td>\n      <td>12083.000000</td>\n      <td>21505.000000</td>\n      <td>6291.000000</td>\n      <td>2711.000000</td>\n      <td>4117.00000</td>\n      <td>8956.000000</td>\n      <td>2006-01-01</td>\n    </tr>\n    <tr>\n      <th>8</th>\n      <td>서울특별</td>\n      <td>42495.000000</td>\n      <td>24957.000000</td>\n      <td>40114.000000</td>\n      <td>80705.000000</td>\n      <td>32687.000000</td>\n      <td>16706.000000</td>\n      <td>21030.00000</td>\n      <td>43356.000000</td>\n      <td>2006-01-01</td>\n    </tr>\n    <tr>\n      <th>9</th>\n      <td>세종특별</td>\n      <td>6701.000000</td>\n      <td>5776.000000</td>\n      <td>9734.000000</td>\n      <td>12000.000000</td>\n      <td>2615.000000</td>\n      <td>1620.000000</td>\n      <td>2961.00000</td>\n      <td>NaN</td>\n      <td>2006-01-01</td>\n    </tr>\n    <tr>\n      <th>10</th>\n      <td>울산광역</td>\n      <td>8855.000000</td>\n      <td>6614.000000</td>\n      <td>10577.000000</td>\n      <td>19457.000000</td>\n      <td>4918.000000</td>\n      <td>2428.000000</td>\n      <td>4721.00000</td>\n      <td>9511.000000</td>\n      <td>2006-01-01</td>\n    </tr>\n    <tr>\n      <th>11</th>\n      <td>인천광역</td>\n      <td>11617.000000</td>\n      <td>8225.000000</td>\n      <td>14938.000000</td>\n      <td>23931.000000</td>\n      <td>5842.000000</td>\n      <td>2315.000000</td>\n      <td>3984.00000</td>\n      <td>6865.000000</td>\n      <td>2006-01-01</td>\n    </tr>\n    <tr>\n      <th>12</th>\n      <td>전라남도</td>\n      <td>5574.000000</td>\n      <td>3941.000000</td>\n      <td>6113.000000</td>\n      <td>11568.000000</td>\n      <td>3235.000000</td>\n      <td>1619.000000</td>\n      <td>2386.00000</td>\n      <td>4348.000000</td>\n      <td>2006-01-01</td>\n    </tr>\n    <tr>\n      <th>13</th>\n      <td>전라북도</td>\n      <td>6662.000000</td>\n      <td>4457.000000</td>\n      <td>8384.000000</td>\n      <td>13698.000000</td>\n      <td>4007.000000</td>\n      <td>1873.000000</td>\n      <td>3141.00000</td>\n      <td>6093.000000</td>\n      <td>2006-01-01</td>\n    </tr>\n    <tr>\n      <th>14</th>\n      <td>제주특별</td>\n      <td>10214.000000</td>\n      <td>5328.000000</td>\n      <td>11960.000000</td>\n      <td>16339.000000</td>\n      <td>5388.000000</td>\n      <td>1848.000000</td>\n      <td>4150.00000</td>\n      <td>9294.000000</td>\n      <td>2006-01-01</td>\n    </tr>\n    <tr>\n      <th>15</th>\n      <td>충청남도</td>\n      <td>8797.000000</td>\n      <td>5956.000000</td>\n      <td>11499.000000</td>\n      <td>18710.000000</td>\n      <td>5392.000000</td>\n      <td>2668.000000</td>\n      <td>4233.00000</td>\n      <td>8483.000000</td>\n      <td>2006-01-01</td>\n    </tr>\n    <tr>\n      <th>16</th>\n      <td>충청북도</td>\n      <td>7982.000000</td>\n      <td>5685.000000</td>\n      <td>10837.000000</td>\n      <td>18255.000000</td>\n      <td>4786.000000</td>\n      <td>2365.000000</td>\n      <td>3945.00000</td>\n      <td>6312.000000</td>\n      <td>2006-01-01</td>\n    </tr>\n    <tr>\n      <th>17</th>\n      <td>전국</td>\n      <td>21877.708383</td>\n      <td>11751.513621</td>\n      <td>22382.088282</td>\n      <td>51808.100455</td>\n      <td>23475.156737</td>\n      <td>10828.272536</td>\n      <td>17047.40386</td>\n      <td>37714.829857</td>\n      <td>2006-01-01</td>\n    </tr>\n  </tbody>\n</table>\n</div>",
      "text/plain": "      지역          지역평균          소형평균          중형평균          대형평균  \\\n0    강원도   6361.000000   4802.000000   8661.000000  13083.000000   \n1    경기도  23442.000000  12439.000000  22490.000000  48854.000000   \n2   경상남도   9554.000000   6928.000000  11991.000000  21554.000000   \n3   경상북도   6666.000000   4504.000000   8261.000000  13508.000000   \n4   광주광역   9047.000000   5749.000000  10917.000000  17346.000000   \n5   대구광역  12717.000000   8683.000000  15049.000000  25533.000000   \n6   대전광역  14715.000000   7549.000000  14870.000000  30536.000000   \n7   부산광역  11749.000000   8118.000000  12083.000000  21505.000000   \n8   서울특별  42495.000000  24957.000000  40114.000000  80705.000000   \n9   세종특별   6701.000000   5776.000000   9734.000000  12000.000000   \n10  울산광역   8855.000000   6614.000000  10577.000000  19457.000000   \n11  인천광역  11617.000000   8225.000000  14938.000000  23931.000000   \n12  전라남도   5574.000000   3941.000000   6113.000000  11568.000000   \n13  전라북도   6662.000000   4457.000000   8384.000000  13698.000000   \n14  제주특별  10214.000000   5328.000000  11960.000000  16339.000000   \n15  충청남도   8797.000000   5956.000000  11499.000000  18710.000000   \n16  충청북도   7982.000000   5685.000000  10837.000000  18255.000000   \n17    전국  21877.708383  11751.513621  22382.088282  51808.100455   \n\n          지역표준편차        소형표준편차       중형표준편차        대형표준편차         년월  \n0    3503.000000   1958.000000   3211.00000   4855.000000 2006-01-01  \n1   19567.000000   6869.000000  12291.00000  26989.000000 2006-01-01  \n2    6218.000000   2555.000000   5571.00000  11758.000000 2006-01-01  \n3    3687.000000   1924.000000   3311.00000   4405.000000 2006-01-01  \n4    4835.000000   1615.000000   3135.00000   5915.000000 2006-01-01  \n5    6625.000000   2422.000000   4572.00000   8605.000000 2006-01-01  \n6    9741.000000   2889.000000   5300.00000  10816.000000 2006-01-01  \n7    6291.000000   2711.000000   4117.00000   8956.000000 2006-01-01  \n8   32687.000000  16706.000000  21030.00000  43356.000000 2006-01-01  \n9    2615.000000   1620.000000   2961.00000           NaN 2006-01-01  \n10   4918.000000   2428.000000   4721.00000   9511.000000 2006-01-01  \n11   5842.000000   2315.000000   3984.00000   6865.000000 2006-01-01  \n12   3235.000000   1619.000000   2386.00000   4348.000000 2006-01-01  \n13   4007.000000   1873.000000   3141.00000   6093.000000 2006-01-01  \n14   5388.000000   1848.000000   4150.00000   9294.000000 2006-01-01  \n15   5392.000000   2668.000000   4233.00000   8483.000000 2006-01-01  \n16   4786.000000   2365.000000   3945.00000   6312.000000 2006-01-01  \n17  23475.156737  10828.272536  17047.40386  37714.829857 2006-01-01  "
     },
     "execution_count": 159,
     "metadata": {},
     "output_type": "execute_result"
    }
   ],
   "source": [
    "#전국 붙이기 \r\n",
    "nat = []\r\n",
    "nat =[\"전국\"]\r\n",
    "nat.append(df2[\"금액\"].mean())\r\n",
    "nat.append(df2.groupby([\"크기\"])[\"금액\"].mean()[\"소형\"])\r\n",
    "nat.append(df2.groupby([\"크기\"])[\"금액\"].mean()[\"중형\"])\r\n",
    "nat.append(df2.groupby([\"크기\"])[\"금액\"].mean()[\"대형\"])\r\n",
    "nat.append(df2[\"금액\"].std())\r\n",
    "nat.append(df2.groupby([\"크기\"])[\"금액\"].std()[\"소형\"])\r\n",
    "nat.append(df2.groupby([\"크기\"])[\"금액\"].std()[\"중형\"])\r\n",
    "nat.append(df2.groupby([\"크기\"])[\"금액\"].std()[\"대형\"])\r\n",
    "\r\n",
    "nat\r\n",
    "\r\n",
    "#시간축만들기. 여기 루프넣어야함. \r\n",
    "df_r.loc[17] = nat\r\n",
    "\r\n",
    "df_r[\"년월\"] = 200601\r\n",
    "df_r[\"년월\"] = pd.to_datetime(df_r[\"년월\"], format='%Y%m', errors='ignore')\r\n",
    "\r\n",
    "\r\n",
    "df_r"
   ]
  },
  {
   "cell_type": "code",
   "execution_count": 165,
   "metadata": {},
   "outputs": [],
   "source": [
    "## 세종시 결측값 왜 생기는지 이해해보기\r\n",
    "## 관측치가 한개라 NAN임 이건 일괄적으로 1으로 고칩시다.\r\n",
    "df2.groupby([\"지역\",\"크기\"])[\"금액\"].var().unstack().round()\r\n",
    "\r\n",
    "\r\n",
    "size = df2['크기'] == '대형'\r\n",
    "location = df2['지역'] ==\"세종특별\"\r\n",
    "subset_df = df2[size & location]\r\n",
    "subset_df\r\n",
    "\r\n"
   ]
  },
  {
   "cell_type": "code",
   "execution_count": 166,
   "metadata": {},
   "outputs": [
    {
     "data": {
      "text/html": "<div>\n<style scoped>\n    .dataframe tbody tr th:only-of-type {\n        vertical-align: middle;\n    }\n\n    .dataframe tbody tr th {\n        vertical-align: top;\n    }\n\n    .dataframe thead th {\n        text-align: right;\n    }\n</style>\n<table border=\"1\" class=\"dataframe\">\n  <thead>\n    <tr style=\"text-align: right;\">\n      <th></th>\n      <th>Unnamed: 0</th>\n      <th>시군구</th>\n      <th>건축년도</th>\n      <th>년월</th>\n      <th>금액</th>\n      <th>면적</th>\n      <th>크기</th>\n      <th>서울</th>\n      <th>대전</th>\n      <th>강원도</th>\n      <th>...</th>\n      <th>인천광역</th>\n      <th>전라남도</th>\n      <th>전라북도</th>\n      <th>제주특별</th>\n      <th>충청남도</th>\n      <th>충청북도</th>\n      <th>강남구</th>\n      <th>서초구</th>\n      <th>송파구</th>\n      <th>강남3구</th>\n    </tr>\n  </thead>\n  <tbody>\n    <tr>\n      <th>21198</th>\n      <td>21214</td>\n      <td>세종특별자치시 조치원읍 죽림리</td>\n      <td>1996</td>\n      <td>2006-01-01</td>\n      <td>12000</td>\n      <td>114.91</td>\n      <td>대형</td>\n      <td>0</td>\n      <td>0</td>\n      <td>0</td>\n      <td>...</td>\n      <td>0</td>\n      <td>0</td>\n      <td>0</td>\n      <td>0</td>\n      <td>0</td>\n      <td>0</td>\n      <td>0</td>\n      <td>0</td>\n      <td>0</td>\n      <td>0.0</td>\n    </tr>\n  </tbody>\n</table>\n<p>1 rows × 31 columns</p>\n</div>",
      "text/plain": "       Unnamed: 0               시군구  건축년도         년월     금액      면적  크기  서울  \\\n21198       21214  세종특별자치시 조치원읍 죽림리  1996 2006-01-01  12000  114.91  대형   0   \n\n       대전  강원도  ... 인천광역  전라남도  전라북도  제주특별  충청남도  충청북도  강남구  서초구  송파구  강남3구  \n21198   0    0  ...    0     0     0     0     0     0    0    0    0   0.0  \n\n[1 rows x 31 columns]"
     },
     "execution_count": 166,
     "metadata": {},
     "output_type": "execute_result"
    }
   ],
   "source": [
    "\r\n"
   ]
  },
  {
   "cell_type": "markdown",
   "metadata": {},
   "source": [
    "\n",
    "# Code Summary\n",
    "\n"
   ]
  },
  {
   "cell_type": "code",
   "execution_count": 1,
   "metadata": {
    "ExecuteTime": {
     "end_time": "2021-03-21T06:46:31.486143Z",
     "start_time": "2021-03-21T06:46:31.127097Z"
    }
   },
   "outputs": [],
   "source": [
    "import requests, bs4\n",
    "import pandas as pd\n",
    "from lxml import html #html.lxml 로 써진 것. 즉 html.lxml 로 써야하는 명령어를 lxml만써도 작동하게해줌.\n",
    "from urllib.request import Request, urlopen\n",
    "from urllib.parse import urlencode, quote_plus, unquote\n",
    "from pprint import pprint\n",
    "import numpy as np"
   ]
  },
  {
   "cell_type": "code",
   "execution_count": null,
   "metadata": {
    "ExecuteTime": {
     "end_time": "2021-03-21T06:39:21.653746Z",
     "start_time": "2021-03-21T06:39:21.606872Z"
    }
   },
   "outputs": [],
   "source": [
    "%ls APTdata"
   ]
  },
  {
   "cell_type": "code",
   "execution_count": 2,
   "metadata": {
    "ExecuteTime": {
     "end_time": "2021-03-21T06:46:41.072481Z",
     "start_time": "2021-03-21T06:46:33.442977Z"
    }
   },
   "outputs": [
    {
     "name": "stdout",
     "output_type": "stream",
     "text": [
      "<class 'pandas.core.frame.DataFrame'>\n",
      "RangeIndex: 25921 entries, 0 to 25920\n",
      "Data columns (total 31 columns):\n",
      " #   Column      Non-Null Count  Dtype         \n",
      "---  ------      --------------  -----         \n",
      " 0   Unnamed: 0  25921 non-null  int64         \n",
      " 1   시군구         25921 non-null  object        \n",
      " 2   건축년도        25921 non-null  int64         \n",
      " 3   년월          25921 non-null  datetime64[ns]\n",
      " 4   금액          25921 non-null  int64         \n",
      " 5   면적          25921 non-null  float64       \n",
      " 6   크기          25921 non-null  object        \n",
      " 7   서울          25921 non-null  int32         \n",
      " 8   대전          25921 non-null  int32         \n",
      " 9   강원도         25921 non-null  int32         \n",
      " 10  지역          25921 non-null  object        \n",
      " 11  경기도         25921 non-null  int32         \n",
      " 12  경상남도        25921 non-null  int32         \n",
      " 13  경상북도        25921 non-null  int32         \n",
      " 14  광주광역        25921 non-null  int32         \n",
      " 15  대구광역        25921 non-null  int32         \n",
      " 16  대전광역        25921 non-null  int32         \n",
      " 17  부산광역        25921 non-null  int32         \n",
      " 18  서울특별        25921 non-null  int32         \n",
      " 19  세종특별        25921 non-null  int32         \n",
      " 20  울산광역        25921 non-null  int32         \n",
      " 21  인천광역        25921 non-null  int32         \n",
      " 22  전라남도        25921 non-null  int32         \n",
      " 23  전라북도        25921 non-null  int32         \n",
      " 24  제주특별        25921 non-null  int32         \n",
      " 25  충청남도        25921 non-null  int32         \n",
      " 26  충청북도        25921 non-null  int32         \n",
      " 27  강남구         25921 non-null  int32         \n",
      " 28  서초구         25921 non-null  int32         \n",
      " 29  송파구         25921 non-null  int32         \n",
      " 30  강남3구        25921 non-null  float64       \n",
      "dtypes: datetime64[ns](1), float64(2), int32(22), int64(3), object(3)\n",
      "memory usage: 4.0+ MB\n"
     ]
    }
   ],
   "source": [
    "\r\n",
    "# 파일 불러오기 \r\n",
    "df = pd.read_excel(\"trimdata/apt200601.xlsx\" )\r\n",
    "\r\n",
    "# 이전파일 건드리지 않으려면 반드시 copy로\r\n",
    "df1 = df.copy()\r\n",
    "\r\n",
    "# datetime으로 만들기\r\n",
    "\r\n",
    "df1[\"년월\"] = df1[\"계약년월\"].copy()\r\n",
    "#format=%Y%m 으로 포맷 바꿔주기.\r\n",
    "df1[\"년월\"] = pd.to_datetime(df1[\"년월\"], format='%Y%m', errors='ignore')\r\n",
    "\r\n",
    "df1[\"년월\"]\r\n",
    "# pd.to_datetime?\r\n",
    "# df1.info()\r\n",
    "\r\n",
    "\r\n",
    "# ,가 문자열에 있어서 to_numeric에서  인식이 안되므로 ,제거하기 \r\n",
    "    # 성공! replace던 strip이던 컬럼에 적용할땐 항상 .str. 을 써야함을 잊지말것. \r\n",
    "df1[\"금액\"] =df1[\"거래금액(만원)\"].copy()\r\n",
    "df1[\"금액\"] = df1[\"금액\"].str.replace(\",\",\"\")\r\n",
    "\r\n",
    "\r\n",
    "# 문자열인 값 숫자로 변환하기 \r\n",
    "df1[\"금액\"] =pd.to_numeric(df1[\"금액\"])\r\n",
    "df1[\"면적\"]=pd.to_numeric(df1[\"전용면적(㎡)\"],errors ='coerce')\r\n",
    "df1[\"건축년도\"]=pd.to_numeric(df1[\"건축년도\"],errors ='coerce')\r\n",
    "\r\n",
    "\r\n",
    "#해제사유등 필요없는것 제거하기.\r\n",
    "\r\n",
    "# axis=1을 쓰면 열을 지우고 df.drop([0, 1], axis=0) 처럼 0을쓰면 인덱스(행)을 지움.\r\n",
    "# 주의 행의 이름은 B랑 C가 아닌 0 1인데 이는 스트링이 아니므로 ''없이 하면됨.\r\n",
    "df2 = df1.drop([\"해제사유발생일\", \"계약년월\",\"단지명\",\"계약일\",\"층\",\"도로명\",\"번지\",\"본번\",\"거래금액(만원)\",\"전용면적(㎡)\",\"부번\"]\r\n",
    "               ,axis=1).copy()\r\n",
    "df2\r\n",
    "\r\n",
    "\r\n",
    "    \r\n",
    "#크기로 나누기\r\n",
    "df2.loc[(df2['면적'] >  60) & (df2['면적'] <= 85), '크기'] = '중형' \r\n",
    "df2.loc[(df2['면적'] <=  60),'크기'] = '소형'\r\n",
    "df2.loc[(df2['면적'] > 85), '크기'] = '대형'\r\n",
    "#확인 \r\n",
    "df2['크기'].value_counts()\r\n",
    "\r\n",
    "\r\n",
    " #지역으로 나누기.\r\n",
    "df2[\"서울\"] = df2[\"시군구\"].str.contains(\"서울\", case=False, na=False).astype(int)\r\n",
    "df2[\"서울\"].sum()\r\n",
    "df2[\"대전\"] = df2[\"시군구\"].str.contains(\"대전\", case=False, na=False).astype(int)\r\n",
    "df2[\"대전\"].sum()\r\n",
    "\r\n",
    "location =[]\r\n",
    "location = [\"강원도\",     \r\n",
    "            \"경기도\"  ,  \r\n",
    "            \"경상남도\" ,    \r\n",
    "            \"경상북도\"  ,   \r\n",
    "            \"광주광역\"     ,\r\n",
    "            \"대구광역\"  ,\r\n",
    "            \"대전광역\"   ,\r\n",
    "            \"부산광역\"   ,\r\n",
    "            \"서울특별\"    ,\r\n",
    "            \"세종특별\",\r\n",
    "             \"울산광역\"    ,\r\n",
    "            \"인천광역\"    ,\r\n",
    "            \"전라남도\" ,    \r\n",
    "            \"전라북도\"  ,   \r\n",
    "            \"제주특별\"    ,\r\n",
    "            \"충청남도\" ,   \r\n",
    "            \"충청북도\"  ] \r\n",
    "\r\n",
    "for i in location :\r\n",
    "    df2[i] =  df2[\"시군구\"].str.contains(i, case=False, na=False).astype(int)\r\n",
    "    df2.loc[(df2[i] ==  1) , '지역'] = i\r\n",
    "\r\n",
    "\r\n",
    "#확인\r\n",
    "df2[\"지역\"].value_counts()\r\n",
    "df2[\"강원도\"].sum()+df2[\"경기도\"].sum()+df2[\"경상남도\"].sum()+df2[\"경상북도\"].sum()+df2[\"광주광역\"].sum()+df2[\"대구광역\"].sum()+df2[\"대전광역\"].sum()+df2[\"부산광역\"].sum()+df2[\"서울특별\"].sum()+df2[\"세종특별\"].sum()+df2[\"울산광역\"].sum()+df2[\"인천광역\"].sum()+df2[\"전라남도\"].sum()+df2[\"전라북도\"].sum()+df2[\"제주특별\"].sum()+df2[\"충청남도\"].sum() +df2[\"충청북도\"].sum()\r\n",
    "\r\n",
    "\r\n",
    "#강남 송파 서초 3구 따로 묶어보기 ..abs\r\n",
    "df2[\"강남구\"] = df2[\"시군구\"].str.contains(\"서울특별시 강남구\", case=False, na=False).astype(int)\r\n",
    "df2[\"서초구\"] = df2[\"시군구\"].str.contains(\"서울특별시 서초구\", case=False, na=False).astype(int)\r\n",
    "df2[\"송파구\"] = df2[\"시군구\"].str.contains(\"서울특별시 송파구\", case=False, na=False).astype(int)\r\n",
    "df2.loc[(df2['강남구'] == 1) | (df2['서초구'] == 1) |  (df2['송파구'] == 1) , \"강남3구\"] = 1\r\n",
    "\r\n",
    "#Nan 0으로 만들기\r\n",
    "df2[\"강남3구\"] = df2[\"강남3구\"].fillna(0).copy()\r\n",
    "\r\n",
    "#확인하기 \r\n",
    "df2[\"강남3구\"].value_counts()\r\n",
    "\r\n",
    "\r\n",
    "# 전체관측치와 각도별 관측치 갯수의합이 같은지 확인하기.\r\n",
    "df2[\"강원도\"].sum()+df2[\"경기도\"].sum()+df2[\"경상남도\"].sum()+df2[\"경상북도\"].sum()+df2[\"광주광역\"].sum()+df2[\"대구광역\"].sum()+df2[\"대전광역\"].sum()+df2[\"부산광역\"].sum()+df2[\"서울특별\"].sum()+df2[\"세종특별\"].sum()+df2[\"울산광역\"].sum()+df2[\"인천광역\"].sum()+df2[\"전라남도\"].sum()+df2[\"전라북도\"].sum()+df2[\"제주특별\"].sum()+df2[\"충청남도\"].sum() +df2[\"충청북도\"].sum()\r\n",
    "\r\n",
    "#결과 확인\r\n",
    "df2.info()\r\n",
    "\r\n",
    "# 결과 출력하기 "
   ]
  },
  {
   "cell_type": "code",
   "execution_count": 91,
   "metadata": {
    "ExecuteTime": {
     "end_time": "2021-03-21T06:38:08.849760Z",
     "start_time": "2021-03-21T06:38:05.831Z"
    }
   },
   "outputs": [
    {
     "data": {
      "text/plain": "25921"
     },
     "execution_count": 91,
     "metadata": {},
     "output_type": "execute_result"
    }
   ],
   "source": [
    "# 전체관측치와 각도별 관측치 갯수의합이 같은지 확인하기.\r\n",
    "df2[\"강원도\"].sum()+df2[\"경기도\"].sum()+df2[\"경상남도\"].sum()+df2[\"경상북도\"].sum()+df2[\"광주광역\"].sum()+df2[\"대구광역\"].sum()+df2[\"대전광역\"].sum()+df2[\"부산광역\"].sum()+df2[\"서울특별\"].sum()+df2[\"세종특별\"].sum()+df2[\"울산광역\"].sum()+df2[\"인천광역\"].sum()+df2[\"전라남도\"].sum()+df2[\"전라북도\"].sum()+df2[\"제주특별\"].sum()+df2[\"충청남도\"].sum() +df2[\"충청북도\"].sum()\r\n"
   ]
  },
  {
   "cell_type": "code",
   "execution_count": 86,
   "metadata": {
    "ExecuteTime": {
     "end_time": "2021-03-21T06:38:14.815007Z",
     "start_time": "2021-03-21T06:38:14.792067Z"
    },
    "scrolled": true
   },
   "outputs": [
    {
     "name": "stdout",
     "output_type": "stream",
     "text": [
      "<class 'pandas.core.frame.DataFrame'>\n",
      "RangeIndex: 25921 entries, 0 to 25920\n",
      "Data columns (total 31 columns):\n",
      " #   Column      Non-Null Count  Dtype         \n",
      "---  ------      --------------  -----         \n",
      " 0   Unnamed: 0  25921 non-null  int64         \n",
      " 1   시군구         25921 non-null  object        \n",
      " 2   건축년도        25921 non-null  int64         \n",
      " 3   년월          25921 non-null  datetime64[ns]\n",
      " 4   금액          25921 non-null  int64         \n",
      " 5   면적          25921 non-null  float64       \n",
      " 6   서울          25921 non-null  int32         \n",
      " 7   대전          25921 non-null  int32         \n",
      " 8   강원도         25921 non-null  int32         \n",
      " 9   지역          25921 non-null  object        \n",
      " 10  경기도         25921 non-null  int32         \n",
      " 11  경상남도        25921 non-null  int32         \n",
      " 12  경상북도        25921 non-null  int32         \n",
      " 13  광주광역        25921 non-null  int32         \n",
      " 14  대구광역        25921 non-null  int32         \n",
      " 15  대전광역        25921 non-null  int32         \n",
      " 16  부산광역        25921 non-null  int32         \n",
      " 17  서울특별        25921 non-null  int32         \n",
      " 18  세종특별        25921 non-null  int32         \n",
      " 19  울산광역        25921 non-null  int32         \n",
      " 20  인천광역        25921 non-null  int32         \n",
      " 21  전라남도        25921 non-null  int32         \n",
      " 22  전라북도        25921 non-null  int32         \n",
      " 23  제주특별        25921 non-null  int32         \n",
      " 24  충청남도        25921 non-null  int32         \n",
      " 25  충청북도        25921 non-null  int32         \n",
      " 26  크기          25921 non-null  object        \n",
      " 27  강남구         25921 non-null  int32         \n",
      " 28  서초구         25921 non-null  int32         \n",
      " 29  송파구         25921 non-null  int32         \n",
      " 30  강남3구        25921 non-null  float64       \n",
      "dtypes: datetime64[ns](1), float64(2), int32(22), int64(3), object(3)\n",
      "memory usage: 4.0+ MB\n"
     ]
    }
   ],
   "source": [
    "df2.info()"
   ]
  },
  {
   "cell_type": "code",
   "execution_count": 167,
   "metadata": {},
   "outputs": [
    {
     "data": {
      "text/html": "<div>\n<style scoped>\n    .dataframe tbody tr th:only-of-type {\n        vertical-align: middle;\n    }\n\n    .dataframe tbody tr th {\n        vertical-align: top;\n    }\n\n    .dataframe thead th {\n        text-align: right;\n    }\n</style>\n<table border=\"1\" class=\"dataframe\">\n  <thead>\n    <tr style=\"text-align: right;\">\n      <th></th>\n      <th>지역</th>\n      <th>지역평균</th>\n      <th>소형평균</th>\n      <th>중형평균</th>\n      <th>대형평균</th>\n      <th>지역표준편차</th>\n      <th>소형표준편차</th>\n      <th>중형표준편차</th>\n      <th>대형표준편차</th>\n    </tr>\n  </thead>\n  <tbody>\n    <tr>\n      <th>0</th>\n      <td>강원도</td>\n      <td>6361.0</td>\n      <td>4802.0</td>\n      <td>8661.0</td>\n      <td>13083.0</td>\n      <td>3503.0</td>\n      <td>1958.0</td>\n      <td>3211.0</td>\n      <td>4855.0</td>\n    </tr>\n    <tr>\n      <th>1</th>\n      <td>경기도</td>\n      <td>23442.0</td>\n      <td>12439.0</td>\n      <td>22490.0</td>\n      <td>48854.0</td>\n      <td>19567.0</td>\n      <td>6869.0</td>\n      <td>12291.0</td>\n      <td>26989.0</td>\n    </tr>\n    <tr>\n      <th>2</th>\n      <td>경상남도</td>\n      <td>9554.0</td>\n      <td>6928.0</td>\n      <td>11991.0</td>\n      <td>21554.0</td>\n      <td>6218.0</td>\n      <td>2555.0</td>\n      <td>5571.0</td>\n      <td>11758.0</td>\n    </tr>\n    <tr>\n      <th>3</th>\n      <td>경상북도</td>\n      <td>6666.0</td>\n      <td>4504.0</td>\n      <td>8261.0</td>\n      <td>13508.0</td>\n      <td>3687.0</td>\n      <td>1924.0</td>\n      <td>3311.0</td>\n      <td>4405.0</td>\n    </tr>\n    <tr>\n      <th>4</th>\n      <td>광주광역</td>\n      <td>9047.0</td>\n      <td>5749.0</td>\n      <td>10917.0</td>\n      <td>17346.0</td>\n      <td>4835.0</td>\n      <td>1615.0</td>\n      <td>3135.0</td>\n      <td>5915.0</td>\n    </tr>\n    <tr>\n      <th>5</th>\n      <td>대구광역</td>\n      <td>12717.0</td>\n      <td>8683.0</td>\n      <td>15049.0</td>\n      <td>25533.0</td>\n      <td>6625.0</td>\n      <td>2422.0</td>\n      <td>4572.0</td>\n      <td>8605.0</td>\n    </tr>\n    <tr>\n      <th>6</th>\n      <td>대전광역</td>\n      <td>14715.0</td>\n      <td>7549.0</td>\n      <td>14870.0</td>\n      <td>30536.0</td>\n      <td>9741.0</td>\n      <td>2889.0</td>\n      <td>5300.0</td>\n      <td>10816.0</td>\n    </tr>\n    <tr>\n      <th>7</th>\n      <td>부산광역</td>\n      <td>11749.0</td>\n      <td>8118.0</td>\n      <td>12083.0</td>\n      <td>21505.0</td>\n      <td>6291.0</td>\n      <td>2711.0</td>\n      <td>4117.0</td>\n      <td>8956.0</td>\n    </tr>\n    <tr>\n      <th>8</th>\n      <td>서울특별</td>\n      <td>42495.0</td>\n      <td>24957.0</td>\n      <td>40114.0</td>\n      <td>80705.0</td>\n      <td>32687.0</td>\n      <td>16706.0</td>\n      <td>21030.0</td>\n      <td>43356.0</td>\n    </tr>\n    <tr>\n      <th>9</th>\n      <td>세종특별</td>\n      <td>6701.0</td>\n      <td>5776.0</td>\n      <td>9734.0</td>\n      <td>12000.0</td>\n      <td>2615.0</td>\n      <td>1620.0</td>\n      <td>2961.0</td>\n      <td>NaN</td>\n    </tr>\n    <tr>\n      <th>10</th>\n      <td>울산광역</td>\n      <td>8855.0</td>\n      <td>6614.0</td>\n      <td>10577.0</td>\n      <td>19457.0</td>\n      <td>4918.0</td>\n      <td>2428.0</td>\n      <td>4721.0</td>\n      <td>9511.0</td>\n    </tr>\n    <tr>\n      <th>11</th>\n      <td>인천광역</td>\n      <td>11617.0</td>\n      <td>8225.0</td>\n      <td>14938.0</td>\n      <td>23931.0</td>\n      <td>5842.0</td>\n      <td>2315.0</td>\n      <td>3984.0</td>\n      <td>6865.0</td>\n    </tr>\n    <tr>\n      <th>12</th>\n      <td>전라남도</td>\n      <td>5574.0</td>\n      <td>3941.0</td>\n      <td>6113.0</td>\n      <td>11568.0</td>\n      <td>3235.0</td>\n      <td>1619.0</td>\n      <td>2386.0</td>\n      <td>4348.0</td>\n    </tr>\n    <tr>\n      <th>13</th>\n      <td>전라북도</td>\n      <td>6662.0</td>\n      <td>4457.0</td>\n      <td>8384.0</td>\n      <td>13698.0</td>\n      <td>4007.0</td>\n      <td>1873.0</td>\n      <td>3141.0</td>\n      <td>6093.0</td>\n    </tr>\n    <tr>\n      <th>14</th>\n      <td>제주특별</td>\n      <td>10214.0</td>\n      <td>5328.0</td>\n      <td>11960.0</td>\n      <td>16339.0</td>\n      <td>5388.0</td>\n      <td>1848.0</td>\n      <td>4150.0</td>\n      <td>9294.0</td>\n    </tr>\n    <tr>\n      <th>15</th>\n      <td>충청남도</td>\n      <td>8797.0</td>\n      <td>5956.0</td>\n      <td>11499.0</td>\n      <td>18710.0</td>\n      <td>5392.0</td>\n      <td>2668.0</td>\n      <td>4233.0</td>\n      <td>8483.0</td>\n    </tr>\n    <tr>\n      <th>16</th>\n      <td>충청북도</td>\n      <td>7982.0</td>\n      <td>5685.0</td>\n      <td>10837.0</td>\n      <td>18255.0</td>\n      <td>4786.0</td>\n      <td>2365.0</td>\n      <td>3945.0</td>\n      <td>6312.0</td>\n    </tr>\n  </tbody>\n</table>\n</div>",
      "text/plain": "      지역     지역평균     소형평균     중형평균     대형평균   지역표준편차   소형표준편차   중형표준편차  \\\n0    강원도   6361.0   4802.0   8661.0  13083.0   3503.0   1958.0   3211.0   \n1    경기도  23442.0  12439.0  22490.0  48854.0  19567.0   6869.0  12291.0   \n2   경상남도   9554.0   6928.0  11991.0  21554.0   6218.0   2555.0   5571.0   \n3   경상북도   6666.0   4504.0   8261.0  13508.0   3687.0   1924.0   3311.0   \n4   광주광역   9047.0   5749.0  10917.0  17346.0   4835.0   1615.0   3135.0   \n5   대구광역  12717.0   8683.0  15049.0  25533.0   6625.0   2422.0   4572.0   \n6   대전광역  14715.0   7549.0  14870.0  30536.0   9741.0   2889.0   5300.0   \n7   부산광역  11749.0   8118.0  12083.0  21505.0   6291.0   2711.0   4117.0   \n8   서울특별  42495.0  24957.0  40114.0  80705.0  32687.0  16706.0  21030.0   \n9   세종특별   6701.0   5776.0   9734.0  12000.0   2615.0   1620.0   2961.0   \n10  울산광역   8855.0   6614.0  10577.0  19457.0   4918.0   2428.0   4721.0   \n11  인천광역  11617.0   8225.0  14938.0  23931.0   5842.0   2315.0   3984.0   \n12  전라남도   5574.0   3941.0   6113.0  11568.0   3235.0   1619.0   2386.0   \n13  전라북도   6662.0   4457.0   8384.0  13698.0   4007.0   1873.0   3141.0   \n14  제주특별  10214.0   5328.0  11960.0  16339.0   5388.0   1848.0   4150.0   \n15  충청남도   8797.0   5956.0  11499.0  18710.0   5392.0   2668.0   4233.0   \n16  충청북도   7982.0   5685.0  10837.0  18255.0   4786.0   2365.0   3945.0   \n\n     대형표준편차  \n0    4855.0  \n1   26989.0  \n2   11758.0  \n3    4405.0  \n4    5915.0  \n5    8605.0  \n6   10816.0  \n7    8956.0  \n8   43356.0  \n9       NaN  \n10   9511.0  \n11   6865.0  \n12   4348.0  \n13   6093.0  \n14   9294.0  \n15   8483.0  \n16   6312.0  "
     },
     "execution_count": 167,
     "metadata": {},
     "output_type": "execute_result"
    }
   ],
   "source": [
    "###  설명 시계열 데이터 변환작업 \r\n",
    "\r\n",
    "\r\n",
    "df3 = df2.groupby([\"지역\",\"크기\"])[\"금액\"].mean().unstack().round()\r\n",
    "df3.columns = [\"대형평균\",\"소형평균\",\"중형평균\"]\r\n",
    "df3 = df3.reindex(columns=[\"소형평균\",\"중형평균\",\"대형평균\"])\r\n",
    "df3\r\n",
    "\r\n",
    "\r\n",
    "df4 = df2.groupby([\"지역\",\"크기\"])[\"금액\"].std().unstack().round()\r\n",
    "df4.columns = [\"대형표준편차\",\"소형표준편차\",\"중형표준편차\"]\r\n",
    "df4 = df4.reindex(columns=[\"소형표준편차\",\"중형표준편차\",\"대형표준편차\"])\r\n",
    "df4\r\n",
    "\r\n",
    "column_names = []\r\n",
    "df5 = pd.DataFrame(columns = column_names)\r\n",
    "df5[\"지역평균\"] = df2.groupby([\"지역\"])[\"금액\"].mean().round().copy()\r\n",
    "\r\n",
    "df6 = pd.DataFrame(columns = column_names)\r\n",
    "df6[\"지역표준편차\"] = df2.groupby([\"지역\"])[\"금액\"].std().round().copy()\r\n",
    "\r\n",
    "df_last = pd.concat([df5,df3,df6,df4] , axis=1) #axis=1을 해야 옆에다 붙임즉 column에 붙임. 디폴트는 axis=0 이고 이렇게하면 row에 붙이는것. \r\n",
    "\r\n",
    "\r\n",
    "df_last\r\n",
    "# 인덱스 초기화하기\r\n",
    "df_r = df_last.reset_index()\r\n",
    "df_r \r\n"
   ]
  },
  {
   "cell_type": "code",
   "execution_count": 168,
   "metadata": {},
   "outputs": [
    {
     "data": {
      "text/html": "<div>\n<style scoped>\n    .dataframe tbody tr th:only-of-type {\n        vertical-align: middle;\n    }\n\n    .dataframe tbody tr th {\n        vertical-align: top;\n    }\n\n    .dataframe thead th {\n        text-align: right;\n    }\n</style>\n<table border=\"1\" class=\"dataframe\">\n  <thead>\n    <tr style=\"text-align: right;\">\n      <th></th>\n      <th>지역</th>\n      <th>지역평균</th>\n      <th>소형평균</th>\n      <th>중형평균</th>\n      <th>대형평균</th>\n      <th>지역표준편차</th>\n      <th>소형표준편차</th>\n      <th>중형표준편차</th>\n      <th>대형표준편차</th>\n      <th>년월</th>\n    </tr>\n  </thead>\n  <tbody>\n    <tr>\n      <th>0</th>\n      <td>강원도</td>\n      <td>6361.000000</td>\n      <td>4802.000000</td>\n      <td>8661.000000</td>\n      <td>13083.000000</td>\n      <td>3503.000000</td>\n      <td>1958.000000</td>\n      <td>3211.00000</td>\n      <td>4855.000000</td>\n      <td>2006-01-01</td>\n    </tr>\n    <tr>\n      <th>1</th>\n      <td>경기도</td>\n      <td>23442.000000</td>\n      <td>12439.000000</td>\n      <td>22490.000000</td>\n      <td>48854.000000</td>\n      <td>19567.000000</td>\n      <td>6869.000000</td>\n      <td>12291.00000</td>\n      <td>26989.000000</td>\n      <td>2006-01-01</td>\n    </tr>\n    <tr>\n      <th>2</th>\n      <td>경상남도</td>\n      <td>9554.000000</td>\n      <td>6928.000000</td>\n      <td>11991.000000</td>\n      <td>21554.000000</td>\n      <td>6218.000000</td>\n      <td>2555.000000</td>\n      <td>5571.00000</td>\n      <td>11758.000000</td>\n      <td>2006-01-01</td>\n    </tr>\n    <tr>\n      <th>3</th>\n      <td>경상북도</td>\n      <td>6666.000000</td>\n      <td>4504.000000</td>\n      <td>8261.000000</td>\n      <td>13508.000000</td>\n      <td>3687.000000</td>\n      <td>1924.000000</td>\n      <td>3311.00000</td>\n      <td>4405.000000</td>\n      <td>2006-01-01</td>\n    </tr>\n    <tr>\n      <th>4</th>\n      <td>광주광역</td>\n      <td>9047.000000</td>\n      <td>5749.000000</td>\n      <td>10917.000000</td>\n      <td>17346.000000</td>\n      <td>4835.000000</td>\n      <td>1615.000000</td>\n      <td>3135.00000</td>\n      <td>5915.000000</td>\n      <td>2006-01-01</td>\n    </tr>\n    <tr>\n      <th>5</th>\n      <td>대구광역</td>\n      <td>12717.000000</td>\n      <td>8683.000000</td>\n      <td>15049.000000</td>\n      <td>25533.000000</td>\n      <td>6625.000000</td>\n      <td>2422.000000</td>\n      <td>4572.00000</td>\n      <td>8605.000000</td>\n      <td>2006-01-01</td>\n    </tr>\n    <tr>\n      <th>6</th>\n      <td>대전광역</td>\n      <td>14715.000000</td>\n      <td>7549.000000</td>\n      <td>14870.000000</td>\n      <td>30536.000000</td>\n      <td>9741.000000</td>\n      <td>2889.000000</td>\n      <td>5300.00000</td>\n      <td>10816.000000</td>\n      <td>2006-01-01</td>\n    </tr>\n    <tr>\n      <th>7</th>\n      <td>부산광역</td>\n      <td>11749.000000</td>\n      <td>8118.000000</td>\n      <td>12083.000000</td>\n      <td>21505.000000</td>\n      <td>6291.000000</td>\n      <td>2711.000000</td>\n      <td>4117.00000</td>\n      <td>8956.000000</td>\n      <td>2006-01-01</td>\n    </tr>\n    <tr>\n      <th>8</th>\n      <td>서울특별</td>\n      <td>42495.000000</td>\n      <td>24957.000000</td>\n      <td>40114.000000</td>\n      <td>80705.000000</td>\n      <td>32687.000000</td>\n      <td>16706.000000</td>\n      <td>21030.00000</td>\n      <td>43356.000000</td>\n      <td>2006-01-01</td>\n    </tr>\n    <tr>\n      <th>9</th>\n      <td>세종특별</td>\n      <td>6701.000000</td>\n      <td>5776.000000</td>\n      <td>9734.000000</td>\n      <td>12000.000000</td>\n      <td>2615.000000</td>\n      <td>1620.000000</td>\n      <td>2961.00000</td>\n      <td>NaN</td>\n      <td>2006-01-01</td>\n    </tr>\n    <tr>\n      <th>10</th>\n      <td>울산광역</td>\n      <td>8855.000000</td>\n      <td>6614.000000</td>\n      <td>10577.000000</td>\n      <td>19457.000000</td>\n      <td>4918.000000</td>\n      <td>2428.000000</td>\n      <td>4721.00000</td>\n      <td>9511.000000</td>\n      <td>2006-01-01</td>\n    </tr>\n    <tr>\n      <th>11</th>\n      <td>인천광역</td>\n      <td>11617.000000</td>\n      <td>8225.000000</td>\n      <td>14938.000000</td>\n      <td>23931.000000</td>\n      <td>5842.000000</td>\n      <td>2315.000000</td>\n      <td>3984.00000</td>\n      <td>6865.000000</td>\n      <td>2006-01-01</td>\n    </tr>\n    <tr>\n      <th>12</th>\n      <td>전라남도</td>\n      <td>5574.000000</td>\n      <td>3941.000000</td>\n      <td>6113.000000</td>\n      <td>11568.000000</td>\n      <td>3235.000000</td>\n      <td>1619.000000</td>\n      <td>2386.00000</td>\n      <td>4348.000000</td>\n      <td>2006-01-01</td>\n    </tr>\n    <tr>\n      <th>13</th>\n      <td>전라북도</td>\n      <td>6662.000000</td>\n      <td>4457.000000</td>\n      <td>8384.000000</td>\n      <td>13698.000000</td>\n      <td>4007.000000</td>\n      <td>1873.000000</td>\n      <td>3141.00000</td>\n      <td>6093.000000</td>\n      <td>2006-01-01</td>\n    </tr>\n    <tr>\n      <th>14</th>\n      <td>제주특별</td>\n      <td>10214.000000</td>\n      <td>5328.000000</td>\n      <td>11960.000000</td>\n      <td>16339.000000</td>\n      <td>5388.000000</td>\n      <td>1848.000000</td>\n      <td>4150.00000</td>\n      <td>9294.000000</td>\n      <td>2006-01-01</td>\n    </tr>\n    <tr>\n      <th>15</th>\n      <td>충청남도</td>\n      <td>8797.000000</td>\n      <td>5956.000000</td>\n      <td>11499.000000</td>\n      <td>18710.000000</td>\n      <td>5392.000000</td>\n      <td>2668.000000</td>\n      <td>4233.00000</td>\n      <td>8483.000000</td>\n      <td>2006-01-01</td>\n    </tr>\n    <tr>\n      <th>16</th>\n      <td>충청북도</td>\n      <td>7982.000000</td>\n      <td>5685.000000</td>\n      <td>10837.000000</td>\n      <td>18255.000000</td>\n      <td>4786.000000</td>\n      <td>2365.000000</td>\n      <td>3945.00000</td>\n      <td>6312.000000</td>\n      <td>2006-01-01</td>\n    </tr>\n    <tr>\n      <th>17</th>\n      <td>전국</td>\n      <td>21877.708383</td>\n      <td>11751.513621</td>\n      <td>22382.088282</td>\n      <td>51808.100455</td>\n      <td>23475.156737</td>\n      <td>10828.272536</td>\n      <td>17047.40386</td>\n      <td>37714.829857</td>\n      <td>2006-01-01</td>\n    </tr>\n  </tbody>\n</table>\n</div>",
      "text/plain": "      지역          지역평균          소형평균          중형평균          대형평균  \\\n0    강원도   6361.000000   4802.000000   8661.000000  13083.000000   \n1    경기도  23442.000000  12439.000000  22490.000000  48854.000000   \n2   경상남도   9554.000000   6928.000000  11991.000000  21554.000000   \n3   경상북도   6666.000000   4504.000000   8261.000000  13508.000000   \n4   광주광역   9047.000000   5749.000000  10917.000000  17346.000000   \n5   대구광역  12717.000000   8683.000000  15049.000000  25533.000000   \n6   대전광역  14715.000000   7549.000000  14870.000000  30536.000000   \n7   부산광역  11749.000000   8118.000000  12083.000000  21505.000000   \n8   서울특별  42495.000000  24957.000000  40114.000000  80705.000000   \n9   세종특별   6701.000000   5776.000000   9734.000000  12000.000000   \n10  울산광역   8855.000000   6614.000000  10577.000000  19457.000000   \n11  인천광역  11617.000000   8225.000000  14938.000000  23931.000000   \n12  전라남도   5574.000000   3941.000000   6113.000000  11568.000000   \n13  전라북도   6662.000000   4457.000000   8384.000000  13698.000000   \n14  제주특별  10214.000000   5328.000000  11960.000000  16339.000000   \n15  충청남도   8797.000000   5956.000000  11499.000000  18710.000000   \n16  충청북도   7982.000000   5685.000000  10837.000000  18255.000000   \n17    전국  21877.708383  11751.513621  22382.088282  51808.100455   \n\n          지역표준편차        소형표준편차       중형표준편차        대형표준편차         년월  \n0    3503.000000   1958.000000   3211.00000   4855.000000 2006-01-01  \n1   19567.000000   6869.000000  12291.00000  26989.000000 2006-01-01  \n2    6218.000000   2555.000000   5571.00000  11758.000000 2006-01-01  \n3    3687.000000   1924.000000   3311.00000   4405.000000 2006-01-01  \n4    4835.000000   1615.000000   3135.00000   5915.000000 2006-01-01  \n5    6625.000000   2422.000000   4572.00000   8605.000000 2006-01-01  \n6    9741.000000   2889.000000   5300.00000  10816.000000 2006-01-01  \n7    6291.000000   2711.000000   4117.00000   8956.000000 2006-01-01  \n8   32687.000000  16706.000000  21030.00000  43356.000000 2006-01-01  \n9    2615.000000   1620.000000   2961.00000           NaN 2006-01-01  \n10   4918.000000   2428.000000   4721.00000   9511.000000 2006-01-01  \n11   5842.000000   2315.000000   3984.00000   6865.000000 2006-01-01  \n12   3235.000000   1619.000000   2386.00000   4348.000000 2006-01-01  \n13   4007.000000   1873.000000   3141.00000   6093.000000 2006-01-01  \n14   5388.000000   1848.000000   4150.00000   9294.000000 2006-01-01  \n15   5392.000000   2668.000000   4233.00000   8483.000000 2006-01-01  \n16   4786.000000   2365.000000   3945.00000   6312.000000 2006-01-01  \n17  23475.156737  10828.272536  17047.40386  37714.829857 2006-01-01  "
     },
     "execution_count": 168,
     "metadata": {},
     "output_type": "execute_result"
    }
   ],
   "source": [
    "#전국 붙이기 \r\n",
    "nat = []\r\n",
    "nat =[\"전국\"]\r\n",
    "nat.append(df2[\"금액\"].mean())\r\n",
    "nat.append(df2.groupby([\"크기\"])[\"금액\"].mean()[\"소형\"])\r\n",
    "nat.append(df2.groupby([\"크기\"])[\"금액\"].mean()[\"중형\"])\r\n",
    "nat.append(df2.groupby([\"크기\"])[\"금액\"].mean()[\"대형\"])\r\n",
    "nat.append(df2[\"금액\"].std())\r\n",
    "nat.append(df2.groupby([\"크기\"])[\"금액\"].std()[\"소형\"])\r\n",
    "nat.append(df2.groupby([\"크기\"])[\"금액\"].std()[\"중형\"])\r\n",
    "nat.append(df2.groupby([\"크기\"])[\"금액\"].std()[\"대형\"])\r\n",
    "\r\n",
    "nat\r\n",
    "\r\n",
    "#시간축만들기. 여기 루프넣어야함. \r\n",
    "df_r.loc[17] = nat\r\n",
    "\r\n",
    "df_r[\"년월\"] = 200601\r\n",
    "df_r[\"년월\"] = pd.to_datetime(df_r[\"년월\"], format='%Y%m', errors='ignore')\r\n",
    "\r\n",
    "\r\n",
    "df_r"
   ]
  },
  {
   "cell_type": "code",
   "execution_count": 169,
   "metadata": {},
   "outputs": [
    {
     "data": {
      "text/html": "<div>\n<style scoped>\n    .dataframe tbody tr th:only-of-type {\n        vertical-align: middle;\n    }\n\n    .dataframe tbody tr th {\n        vertical-align: top;\n    }\n\n    .dataframe thead th {\n        text-align: right;\n    }\n</style>\n<table border=\"1\" class=\"dataframe\">\n  <thead>\n    <tr style=\"text-align: right;\">\n      <th></th>\n      <th>Unnamed: 0</th>\n      <th>시군구</th>\n      <th>건축년도</th>\n      <th>년월</th>\n      <th>금액</th>\n      <th>면적</th>\n      <th>크기</th>\n      <th>서울</th>\n      <th>대전</th>\n      <th>강원도</th>\n      <th>...</th>\n      <th>인천광역</th>\n      <th>전라남도</th>\n      <th>전라북도</th>\n      <th>제주특별</th>\n      <th>충청남도</th>\n      <th>충청북도</th>\n      <th>강남구</th>\n      <th>서초구</th>\n      <th>송파구</th>\n      <th>강남3구</th>\n    </tr>\n  </thead>\n  <tbody>\n    <tr>\n      <th>21198</th>\n      <td>21214</td>\n      <td>세종특별자치시 조치원읍 죽림리</td>\n      <td>1996</td>\n      <td>2006-01-01</td>\n      <td>12000</td>\n      <td>114.91</td>\n      <td>대형</td>\n      <td>0</td>\n      <td>0</td>\n      <td>0</td>\n      <td>...</td>\n      <td>0</td>\n      <td>0</td>\n      <td>0</td>\n      <td>0</td>\n      <td>0</td>\n      <td>0</td>\n      <td>0</td>\n      <td>0</td>\n      <td>0</td>\n      <td>0.0</td>\n    </tr>\n  </tbody>\n</table>\n<p>1 rows × 31 columns</p>\n</div>",
      "text/plain": "       Unnamed: 0               시군구  건축년도         년월     금액      면적  크기  서울  \\\n21198       21214  세종특별자치시 조치원읍 죽림리  1996 2006-01-01  12000  114.91  대형   0   \n\n       대전  강원도  ... 인천광역  전라남도  전라북도  제주특별  충청남도  충청북도  강남구  서초구  송파구  강남3구  \n21198   0    0  ...    0     0     0     0     0     0    0    0    0   0.0  \n\n[1 rows x 31 columns]"
     },
     "execution_count": 169,
     "metadata": {},
     "output_type": "execute_result"
    }
   ],
   "source": [
    "## 세종시 결측값 왜 생기는지 이해해보기\r\n",
    "## 관측치가 한개라 NAN임 이건 일괄적으로 1으로 고칩시다.\r\n",
    "df2.groupby([\"지역\",\"크기\"])[\"금액\"].var().unstack().round()\r\n",
    "\r\n",
    "\r\n",
    "size = df2['크기'] == '대형'\r\n",
    "location = df2['지역'] ==\"세종특별\"\r\n",
    "subset_df = df2[size & location]\r\n",
    "subset_df\r\n"
   ]
  }
 ],
 "metadata": {
  "hide_input": false,
  "kernelspec": {
   "display_name": "Python 3.8.5 64-bit ('base': conda)",
   "name": "python385jvsc74a57bd0b3ba2566441a7c06988d0923437866b63cedc61552a5af99d1f4fb67d367b25f"
  },
  "language_info": {
   "codemirror_mode": {
    "name": "ipython",
    "version": 3
   },
   "file_extension": ".py",
   "mimetype": "text/x-python",
   "name": "python",
   "nbconvert_exporter": "python",
   "pygments_lexer": "ipython3",
   "version": "3.8.5"
  },
  "toc": {
   "base_numbering": 1,
   "nav_menu": {},
   "number_sections": true,
   "sideBar": true,
   "skip_h1_title": false,
   "title_cell": "Table of Contents",
   "title_sidebar": "Contents",
   "toc_cell": false,
   "toc_position": {},
   "toc_section_display": true,
   "toc_window_display": false
  },
  "varInspector": {
   "cols": {
    "lenName": 16,
    "lenType": 16,
    "lenVar": 40
   },
   "kernels_config": {
    "python": {
     "delete_cmd_postfix": "",
     "delete_cmd_prefix": "del ",
     "library": "var_list.py",
     "varRefreshCmd": "print(var_dic_list())"
    },
    "r": {
     "delete_cmd_postfix": ") ",
     "delete_cmd_prefix": "rm(",
     "library": "var_list.r",
     "varRefreshCmd": "cat(var_dic_list()) "
    }
   },
   "types_to_exclude": [
    "module",
    "function",
    "builtin_function_or_method",
    "instance",
    "_Feature"
   ],
   "window_display": false
  }
 },
 "nbformat": 4,
 "nbformat_minor": 4
}