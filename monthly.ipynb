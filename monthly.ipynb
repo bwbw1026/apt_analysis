{
 "cells": [
  {
   "cell_type": "markdown",
   "metadata": {},
   "source": [
    "# 시행착오"
   ]
  },
  {
   "cell_type": "code",
   "execution_count": 6,
   "metadata": {
    "ExecuteTime": {
     "end_time": "2021-02-15T22:51:09.332552Z",
     "start_time": "2021-02-15T22:51:08.645518Z"
    }
   },
   "outputs": [],
   "source": [
    "import requests, bs4\n",
    "import pandas as pd\n",
    "from lxml import html #html.lxml 로 써진 것. 즉 html.lxml 로 써야하는 명령어를 lxml만써도 작동하게해줌.\n",
    "from urllib.request import Request, urlopen\n",
    "from urllib.parse import urlencode, quote_plus, unquote\n",
    "from pprint import pprint\n",
    "import numpy as np"
   ]
  },
  {
   "cell_type": "code",
   "execution_count": 4,
   "metadata": {
    "ExecuteTime": {
     "end_time": "2021-02-15T06:10:03.470323Z",
     "start_time": "2021-02-15T06:10:03.421429Z"
    },
    "scrolled": true
   },
   "outputs": [
    {
     "name": "stdout",
     "output_type": "stream",
     "text": [
      " Volume in drive C has no label.\n",
      " Volume Serial Number is 04ED-7805\n",
      "\n",
      " Directory of c:\\projects\\python\\apt\\trimdata\n",
      "\n",
      "2021-04-15  오전 01:00    <DIR>          .\n",
      "2021-04-15  오전 01:00    <DIR>          ..\n",
      "2021-04-15  오전 12:29         1,600,714 apt200601.xlsx\n",
      "2021-04-15  오전 12:30         2,634,168 apt200602.xlsx\n",
      "2021-04-15  오전 12:30         3,389,704 apt200603.xlsx\n",
      "2021-04-15  오전 12:30         2,942,021 apt200604.xlsx\n",
      "2021-04-15  오전 12:31         2,780,836 apt200605.xlsx\n",
      "2021-04-15  오전 12:31         2,219,198 apt200606.xlsx\n",
      "2021-04-15  오전 12:31         2,036,597 apt200607.xlsx\n",
      "2021-04-15  오전 12:31         2,531,730 apt200608.xlsx\n",
      "2021-04-15  오전 12:32         3,993,229 apt200609.xlsx\n",
      "2021-04-15  오전 12:48         4,785,614 apt200610.xlsx\n",
      "2021-04-15  오전 12:49         4,761,955 apt200611.xlsx\n",
      "2021-04-15  오전 12:49         3,362,008 apt200612.xlsx\n",
      "2021-04-15  오전 12:32         2,388,204 apt200701.xlsx\n",
      "2021-04-15  오전 12:33         2,159,101 apt200702.xlsx\n",
      "2021-04-15  오전 12:33         2,711,712 apt200703.xlsx\n",
      "2021-04-15  오전 12:33         2,399,722 apt200704.xlsx\n",
      "2021-04-15  오전 12:34         2,207,663 apt200705.xlsx\n",
      "2021-04-15  오전 12:34         2,361,032 apt200706.xlsx\n",
      "2021-04-15  오전 12:34         2,482,657 apt200707.xlsx\n",
      "2021-04-15  오전 12:34         2,429,248 apt200708.xlsx\n",
      "2021-04-15  오전 12:35         2,131,196 apt200709.xlsx\n",
      "2021-04-15  오전 12:50         3,069,726 apt200710.xlsx\n",
      "2021-04-15  오전 12:51         2,679,333 apt200711.xlsx\n",
      "2021-04-15  오전 12:51         2,567,837 apt200712.xlsx\n",
      "2021-03-21  오후 06:49         4,158,274 apt202010.xlsx\n",
      "              25 File(s)     70,783,479 bytes\n",
      "               2 Dir(s)  70,765,023,232 bytes free\n"
     ]
    }
   ],
   "source": [
    "%ls trimdata"
   ]
  },
  {
   "cell_type": "code",
   "execution_count": 5,
   "metadata": {
    "ExecuteTime": {
     "end_time": "2021-02-14T23:57:56.733698Z",
     "start_time": "2021-02-14T23:57:50.818696Z"
    }
   },
   "outputs": [],
   "source": [
    "# df_09 = pd.read_csv(\"APTdata/아파트(매매)__실거래가_202010.csv\",encoding=\"cp949\")\r\n",
    "# #에러났음. 왜그렇지? pd import를안함. \r\n",
    "# Parse error. . 이전 강의에서 배웠죠? 근데 sep을 바꿔줬었는데 이번엔 위에 내용이 있어서 안될수도있음.\r\n",
    "\r\n",
    "# 일단 좆된것. csv는 파일지워서 다른이름으로저장하면 손상이되어버림.\r\n",
    "# df = pd.read_csv(\"APTdata/아파트(매매)__실거래가_202010.csv\" ,sep='|',encoding=\"cp949\")\r\n",
    "df = pd.read_excel(\"trimdata/apt200601.xlsx\" )"
   ]
  },
  {
   "cell_type": "code",
   "execution_count": 9,
   "metadata": {
    "ExecuteTime": {
     "end_time": "2021-02-15T00:24:07.233357Z",
     "start_time": "2021-02-15T00:24:07.205432Z"
    }
   },
   "outputs": [
    {
     "data": {
      "text/plain": "Index(['Unnamed: 0', '시군구', '번지', '본번', '부번', '단지명', '전용면적(㎡)', '계약년월', '계약일',\n       '거래금액(만원)', '층', '건축년도', '도로명', '해제사유발생일'],\n      dtype='object')"
     },
     "execution_count": 9,
     "metadata": {},
     "output_type": "execute_result"
    }
   ],
   "source": [
    "df.columns"
   ]
  },
  {
   "cell_type": "code",
   "execution_count": 11,
   "metadata": {
    "ExecuteTime": {
     "end_time": "2021-02-15T00:44:16.433411Z",
     "start_time": "2021-02-15T00:44:16.411468Z"
    },
    "scrolled": true
   },
   "outputs": [
    {
     "name": "stdout",
     "output_type": "stream",
     "text": [
      "<class 'pandas.core.frame.DataFrame'>\n",
      "RangeIndex: 25921 entries, 0 to 25920\n",
      "Data columns (total 15 columns):\n",
      " #   Column      Non-Null Count  Dtype         \n",
      "---  ------      --------------  -----         \n",
      " 0   Unnamed: 0  25921 non-null  int64         \n",
      " 1   시군구         25921 non-null  object        \n",
      " 2   번지          25921 non-null  object        \n",
      " 3   본번          25921 non-null  int64         \n",
      " 4   부번          25921 non-null  int64         \n",
      " 5   단지명         25921 non-null  object        \n",
      " 6   전용면적(㎡)     25921 non-null  float64       \n",
      " 7   계약년월        25921 non-null  int64         \n",
      " 8   계약일         25921 non-null  int64         \n",
      " 9   거래금액(만원)    25921 non-null  object        \n",
      " 10  층           25921 non-null  int64         \n",
      " 11  건축년도        25921 non-null  int64         \n",
      " 12  도로명         25921 non-null  object        \n",
      " 13  해제사유발생일     0 non-null      float64       \n",
      " 14  년월          25921 non-null  datetime64[ns]\n",
      "dtypes: datetime64[ns](1), float64(2), int64(7), object(5)\n",
      "memory usage: 3.0+ MB\n"
     ]
    }
   ],
   "source": [
    "# 이전파일 건드리지 않으려면 반드시 copy로\r\n",
    "df1 = df.copy()\r\n",
    "\r\n",
    "# datetime으로 만들기\r\n",
    "\r\n",
    "df1[\"년월\"] = df1[\"계약년월\"].copy()\r\n",
    "#format=%Y%m 으로 포맷 바꿔주기.\r\n",
    "df1[\"년월\"] = pd.to_datetime(df1[\"년월\"], format='%Y%m', errors='ignore')\r\n",
    "\r\n",
    "df1[\"년월\"]\r\n",
    "# pd.to_datetime?\r\n",
    "df1.info()"
   ]
  },
  {
   "cell_type": "code",
   "execution_count": 18,
   "metadata": {},
   "outputs": [
    {
     "ename": "ValueError",
     "evalue": "Unable to parse string \"         4,200\" at position 0",
     "output_type": "error",
     "traceback": [
      "\u001b[1;31m---------------------------------------------------------------------------\u001b[0m",
      "\u001b[1;31mValueError\u001b[0m                                Traceback (most recent call last)",
      "\u001b[1;32mpandas\\_libs\\lib.pyx\u001b[0m in \u001b[0;36mpandas._libs.lib.maybe_convert_numeric\u001b[1;34m()\u001b[0m\n",
      "\u001b[1;31mValueError\u001b[0m: Unable to parse string \"         4,200\"",
      "\nDuring handling of the above exception, another exception occurred:\n",
      "\u001b[1;31mValueError\u001b[0m                                Traceback (most recent call last)",
      "\u001b[1;32m<ipython-input-18-f9d71fd77bc7>\u001b[0m in \u001b[0;36m<module>\u001b[1;34m\u001b[0m\n\u001b[0;32m      5\u001b[0m \u001b[0mdf1\u001b[0m\u001b[1;33m[\u001b[0m\u001b[1;34m\"금액\"\u001b[0m\u001b[1;33m]\u001b[0m\u001b[1;33m\u001b[0m\u001b[1;33m\u001b[0m\u001b[0m\n\u001b[0;32m      6\u001b[0m \"\"\"\n\u001b[1;32m----> 7\u001b[1;33m \u001b[0mdf1\u001b[0m\u001b[1;33m[\u001b[0m\u001b[1;34m\"금액\"\u001b[0m\u001b[1;33m]\u001b[0m \u001b[1;33m=\u001b[0m \u001b[0mpd\u001b[0m\u001b[1;33m.\u001b[0m\u001b[0mto_numeric\u001b[0m\u001b[1;33m(\u001b[0m\u001b[0mdf1\u001b[0m\u001b[1;33m[\u001b[0m\u001b[1;34m\"거래금액(만원)\"\u001b[0m\u001b[1;33m]\u001b[0m\u001b[1;33m)\u001b[0m\u001b[1;33m\u001b[0m\u001b[1;33m\u001b[0m\u001b[0m\n\u001b[0m\u001b[0;32m      8\u001b[0m \u001b[1;33m\u001b[0m\u001b[0m\n\u001b[0;32m      9\u001b[0m \u001b[1;33m\u001b[0m\u001b[0m\n",
      "\u001b[1;32mC:\\ProgramData\\Anaconda3\\lib\\site-packages\\pandas\\core\\tools\\numeric.py\u001b[0m in \u001b[0;36mto_numeric\u001b[1;34m(arg, errors, downcast)\u001b[0m\n\u001b[0;32m    150\u001b[0m         \u001b[0mcoerce_numeric\u001b[0m \u001b[1;33m=\u001b[0m \u001b[0merrors\u001b[0m \u001b[1;32mnot\u001b[0m \u001b[1;32min\u001b[0m \u001b[1;33m(\u001b[0m\u001b[1;34m\"ignore\"\u001b[0m\u001b[1;33m,\u001b[0m \u001b[1;34m\"raise\"\u001b[0m\u001b[1;33m)\u001b[0m\u001b[1;33m\u001b[0m\u001b[1;33m\u001b[0m\u001b[0m\n\u001b[0;32m    151\u001b[0m         \u001b[1;32mtry\u001b[0m\u001b[1;33m:\u001b[0m\u001b[1;33m\u001b[0m\u001b[1;33m\u001b[0m\u001b[0m\n\u001b[1;32m--> 152\u001b[1;33m             values = lib.maybe_convert_numeric(\n\u001b[0m\u001b[0;32m    153\u001b[0m                 \u001b[0mvalues\u001b[0m\u001b[1;33m,\u001b[0m \u001b[0mset\u001b[0m\u001b[1;33m(\u001b[0m\u001b[1;33m)\u001b[0m\u001b[1;33m,\u001b[0m \u001b[0mcoerce_numeric\u001b[0m\u001b[1;33m=\u001b[0m\u001b[0mcoerce_numeric\u001b[0m\u001b[1;33m\u001b[0m\u001b[1;33m\u001b[0m\u001b[0m\n\u001b[0;32m    154\u001b[0m             )\n",
      "\u001b[1;32mpandas\\_libs\\lib.pyx\u001b[0m in \u001b[0;36mpandas._libs.lib.maybe_convert_numeric\u001b[1;34m()\u001b[0m\n",
      "\u001b[1;31mValueError\u001b[0m: Unable to parse string \"         4,200\" at position 0"
     ]
    }
   ],
   "source": [
    "df1[\"거래금액(만원)\"]\r\n",
    "## 왜안돼?\r\n",
    "\"\"\"\r\n",
    "df1[\"금액\"] = pd.to_numeric(df1[\"거래금액(만원)\"],errors ='coerce')\r\n",
    "df1[\"금액\"]\r\n",
    "\"\"\"\r\n",
    "df1[\"금액\"] = pd.to_numeric(df1[\"거래금액(만원)\"])\r\n",
    "\r\n",
    "\"\"\"\r\n",
    "에러가 나는 이유. 아마 콤마때문인거같음.\r\n",
    "기본적으로 \r\n",
    " 값 중에 몇 개가 실수로 숫자로 된 문자열이 아니라 문자로 된 문자열이 몇 개 포함되어 있다고 해봅시다. 이럴 경우 문자열을 숫자로 파싱할 수 없다면서 ValueError가 발생하는데요,\r\n",
    "\r\n",
    "출처: https://rfriend.tistory.com/470 [R, Python 분석과 프로그래밍의 친구 (by R Friend)]\r\n",
    "\"\"\"\r\n",
    "\r\n"
   ]
  },
  {
   "cell_type": "code",
   "execution_count": 22,
   "metadata": {},
   "outputs": [],
   "source": [
    "import re"
   ]
  },
  {
   "cell_type": "code",
   "execution_count": 30,
   "metadata": {},
   "outputs": [
    {
     "name": "stdout",
     "output_type": "stream",
     "text": [
      "Hey What's up bro\n"
     ]
    }
   ],
   "source": [
    "# 문자열에서 제거하기\r\n",
    "\r\n",
    "string = \"Hey! What's up, bro?\"\r\n",
    "new_string = string.replace(\"!\",\"\").replace(\"?\",\"\").replace(\",\",\"\")\r\n",
    "#new_string = ''.join(filter(str.isalnum, string)) \r\n",
    "print(new_string)"
   ]
  },
  {
   "cell_type": "code",
   "execution_count": 38,
   "metadata": {},
   "outputs": [
    {
     "name": "stdout",
     "output_type": "stream",
     "text": [
      "Hey! What's up, bro?\n"
     ]
    }
   ],
   "source": [
    "\r\n",
    "\"\"\"\r\n",
    "# 특정 공백또는 문자 제거하기 \r\n",
    "string = \"Hey! What's up, bro?\"\r\n",
    "new_string = string.strip(\"W\")\r\n",
    "#df의 컬럼 a에 대해 적용 시킬 때\r\n",
    "df['a'].str.strip()\r\n",
    "#df 전체에 다 적용시킬 때\r\n",
    "df.apply(lambda x: x.str.strip(), axis = 1)\r\n",
    "print(new_string)\r\n",
    "\"\"\""
   ]
  },
  {
   "cell_type": "code",
   "execution_count": 42,
   "metadata": {},
   "outputs": [
    {
     "data": {
      "text/plain": "0                 4200\n1                 7500\n2                 8500\n3                12500\n4                 5998\n             ...      \n25916             6400\n25917             5500\n25918             4500\n25919             9000\n25920             7200\nName: 금액, Length: 25921, dtype: object"
     },
     "execution_count": 42,
     "metadata": {},
     "output_type": "execute_result"
    }
   ],
   "source": [
    "\r\n",
    "# ,가 문자열에 있어서 to_numeric에서  인식이 안되므로 ,제거하가ㅣ \r\n",
    "    # 성공! replace던 strip이던 컬럼에 적용할땐 항상 .str. 을 써야함을 잊지말것. \r\n",
    "df1[\"금액\"] =df1[\"거래금액(만원)\"].copy()\r\n",
    "df1[\"금액\"] = df1[\"금액\"].str.replace(\",\",\"\")\r\n",
    "df1[\"금액\"]"
   ]
  },
  {
   "cell_type": "code",
   "execution_count": 44,
   "metadata": {},
   "outputs": [
    {
     "data": {
      "text/plain": "0         4200\n1         7500\n2         8500\n3        12500\n4         5998\n         ...  \n25916     6400\n25917     5500\n25918     4500\n25919     9000\n25920     7200\nName: 금액, Length: 25921, dtype: int64"
     },
     "execution_count": 44,
     "metadata": {},
     "output_type": "execute_result"
    }
   ],
   "source": [
    "df1[\"금액\"] =pd.to_numeric(df1[\"금액\"])\r\n",
    "df1[\"금액\"]"
   ]
  },
  {
   "cell_type": "code",
   "execution_count": 12,
   "metadata": {},
   "outputs": [
    {
     "name": "stdout",
     "output_type": "stream",
     "text": [
      "<class 'pandas.core.frame.DataFrame'>\n",
      "RangeIndex: 25921 entries, 0 to 25920\n",
      "Data columns (total 17 columns):\n",
      " #   Column      Non-Null Count  Dtype         \n",
      "---  ------      --------------  -----         \n",
      " 0   Unnamed: 0  25921 non-null  int64         \n",
      " 1   시군구         25921 non-null  object        \n",
      " 2   번지          25921 non-null  object        \n",
      " 3   본번          25921 non-null  int64         \n",
      " 4   부번          25921 non-null  int64         \n",
      " 5   단지명         25921 non-null  object        \n",
      " 6   전용면적(㎡)     25921 non-null  float64       \n",
      " 7   계약년월        25921 non-null  int64         \n",
      " 8   계약일         25921 non-null  int64         \n",
      " 9   거래금액(만원)    25921 non-null  object        \n",
      " 10  층           25921 non-null  int64         \n",
      " 11  건축년도        25921 non-null  int64         \n",
      " 12  도로명         25921 non-null  object        \n",
      " 13  해제사유발생일     0 non-null      float64       \n",
      " 14  년월          25921 non-null  datetime64[ns]\n",
      " 15  금액          6 non-null      float64       \n",
      " 16  면적          25921 non-null  float64       \n",
      "dtypes: datetime64[ns](1), float64(4), int64(7), object(5)\n",
      "memory usage: 3.4+ MB\n"
     ]
    }
   ],
   "source": [
    "#스트링 숫자로 바꿔주기.\r\n",
    "#KeyError발생\r\n",
    "# df_next[\"분양가격\"] = pd.to_numeric(df_next[\"분양가격(㎡)\"],errors ='coerce')\r\n",
    "# 거래금액인데 잘못씀..\r\n",
    "df1[\"금액\"] = pd.to_numeric(df1[\"거래금액(만원)\"],errors ='coerce')\r\n",
    "\r\n",
    "df1[\"건축년도\"]=pd.to_numeric(df1[\"건축년도\"],errors ='coerce')\r\n",
    "\r\n",
    "df1[\"면적\"]=pd.to_numeric(df1[\"전용면적(㎡)\"],errors ='coerce')\r\n",
    "df1.info()"
   ]
  },
  {
   "cell_type": "code",
   "execution_count": 14,
   "metadata": {},
   "outputs": [
    {
     "data": {
      "text/plain": "0        1997\n1        1999\n2        1999\n3        1999\n4        1999\n         ... \n25916    1994\n25917    1994\n25918    1994\n25919    1994\n25920    1994\nName: 건축년도, Length: 25921, dtype: int64"
     },
     "execution_count": 14,
     "metadata": {},
     "output_type": "execute_result"
    }
   ],
   "source": [
    "df1[\"건축년도\"]\r\n"
   ]
  },
  {
   "cell_type": "code",
   "execution_count": null,
   "metadata": {
    "ExecuteTime": {
     "end_time": "2021-02-15T00:45:26.859604Z",
     "start_time": "2021-02-15T00:45:20.810477Z"
    }
   },
   "outputs": [],
   "source": [
    "\r\n"
   ]
  },
  {
   "cell_type": "code",
   "execution_count": null,
   "metadata": {
    "ExecuteTime": {
     "end_time": "2021-02-15T00:47:18.476997Z",
     "start_time": "2021-02-15T00:47:18.465029Z"
    },
    "scrolled": false
   },
   "outputs": [],
   "source": [
    "\r\n"
   ]
  },
  {
   "cell_type": "code",
   "execution_count": null,
   "metadata": {
    "ExecuteTime": {
     "end_time": "2021-02-15T00:52:57.472240Z",
     "start_time": "2021-02-15T00:52:57.435339Z"
    }
   },
   "outputs": [],
   "source": [
    "\r\n"
   ]
  },
  {
   "cell_type": "code",
   "execution_count": null,
   "metadata": {
    "ExecuteTime": {
     "end_time": "2021-02-15T00:49:13.341438Z",
     "start_time": "2021-02-15T00:49:13.334456Z"
    }
   },
   "outputs": [],
   "source": [
    "df.index[0:14]"
   ]
  },
  {
   "cell_type": "code",
   "execution_count": null,
   "metadata": {
    "ExecuteTime": {
     "end_time": "2021-03-21T06:44:37.813852Z",
     "start_time": "2021-03-21T06:44:31.035967Z"
    },
    "scrolled": true
   },
   "outputs": [],
   "source": []
  },
  {
   "cell_type": "code",
   "execution_count": null,
   "metadata": {
    "ExecuteTime": {
     "end_time": "2021-02-15T04:58:49.485197Z",
     "start_time": "2021-02-15T04:58:49.445304Z"
    },
    "scrolled": false
   },
   "outputs": [],
   "source": []
  },
  {
   "cell_type": "code",
   "execution_count": null,
   "metadata": {
    "ExecuteTime": {
     "end_time": "2021-02-15T05:22:34.757394Z",
     "start_time": "2021-02-15T05:22:34.697363Z"
    }
   },
   "outputs": [],
   "source": []
  },
  {
   "cell_type": "code",
   "execution_count": null,
   "metadata": {
    "ExecuteTime": {
     "end_time": "2021-02-15T05:51:47.807316Z",
     "start_time": "2021-02-15T05:51:47.747476Z"
    },
    "scrolled": true
   },
   "outputs": [],
   "source": [
    "#스트링 숫자로 바꿔주기.\n",
    "#KeyError발생\n",
    "# df_next[\"분양가격\"] = pd.to_numeric(df_next[\"분양가격(㎡)\"],errors ='coerce')\n",
    "# 거래금액인데 잘못씀..\n",
    "df1[\"금액\"] = pd.to_numeric(df1[\"거래금액(만원)\"],errors ='coerce')\n",
    "\n",
    "df1[\"건축년도\"]=pd.to_numeric(df1[\"건축년도\"],errors ='coerce')\n",
    "\n",
    "df1[\"면적\"]=pd.to_numeric(df1[\"전용면적(㎡)\"],errors ='coerce')\n",
    "df1.info()"
   ]
  },
  {
   "cell_type": "code",
   "execution_count": null,
   "metadata": {},
   "outputs": [],
   "source": []
  },
  {
   "cell_type": "markdown",
   "metadata": {},
   "source": [
    "계획. \n",
    "1. 지역명으로 분리 replace사용.\n",
    "\n",
    "2. 구별로 분리\n"
   ]
  },
  {
   "cell_type": "code",
   "execution_count": null,
   "metadata": {},
   "outputs": [],
   "source": [
    "df['동찾기'] = df[\"법정동\"].str.contains(\"창\", case=False, na=False).astype(int)\n",
    "df['동찾기']"
   ]
  },
  {
   "cell_type": "code",
   "execution_count": null,
   "metadata": {
    "ExecuteTime": {
     "end_time": "2021-02-15T05:58:12.611055Z",
     "start_time": "2021-02-15T05:58:12.586122Z"
    }
   },
   "outputs": [],
   "source": [
    "#해제사유등 필요없는것 제거하기.\n",
    "\n",
    "# axis=1을 쓰면 열을 지우고 df.drop([0, 1], axis=0) 처럼 0을쓰면 인덱스(행)을 지움.\n",
    "# 주의 행의 이름은 B랑 C가 아닌 0 1인데 이는 스트링이 아니므로 ''없이 하면됨.\n",
    "df2 = df1.drop([\"해제사유발생일\", \"계약년월\",\"단지명\",\"계약일\",\"층\",\"도로명\",\"번지\",\"본번\",\"거래금액(만원)\",\"전용면적(㎡)\",\"부번\"]\n",
    "               ,axis=1).copy()\n"
   ]
  },
  {
   "cell_type": "code",
   "execution_count": null,
   "metadata": {
    "ExecuteTime": {
     "end_time": "2021-02-15T08:01:42.278953Z",
     "start_time": "2021-02-15T08:01:42.249033Z"
    },
    "scrolled": true
   },
   "outputs": [],
   "source": [
    "df2['지역'] = \"서울\"\n",
    "df2.info()"
   ]
  },
  {
   "cell_type": "code",
   "execution_count": null,
   "metadata": {
    "ExecuteTime": {
     "end_time": "2021-02-15T22:56:09.582317Z",
     "start_time": "2021-02-15T22:56:09.025482Z"
    }
   },
   "outputs": [],
   "source": [
    " #지역으로 나누기.\n",
    "df2[\"서울\"] = df2[\"시군구\"].str.contains(\"서울\", case=False, na=False).astype(int)\n",
    "df2[\"서울\"].sum()\n",
    "df2[\"대전\"] = df2[\"시군구\"].str.contains(\"대전\", case=False, na=False).astype(int)\n",
    "df2[\"대전\"].sum()\n",
    "\n",
    "location =[]\n",
    "location = [\"강원도\",     \n",
    "            \"경기도\"  ,  \n",
    "            \"경상남도\" ,    \n",
    "            \"경상북도\"  ,   \n",
    "            \"광주광역\"     ,\n",
    "            \"대구광역\"  ,\n",
    "            \"대전광역\"   ,\n",
    "            \"부산광역\"   ,\n",
    "            \"서울특별\"    ,\n",
    "            \"세종특별\",\n",
    "             \"울산광역\"    ,\n",
    "            \"인천광역\"    ,\n",
    "            \"전라남도\" ,    \n",
    "            \"전라북도\"  ,   \n",
    "            \"제주특별\"    ,\n",
    "            \"충청남도\" ,   \n",
    "            \"충청북도\"  ] \n",
    "\n",
    "for i in location :\n",
    "    df2[i] =  df2[\"시군구\"].str.contains(i, case=False, na=False).astype(int)\n",
    "    df2.loc[(df2[i] ==  1) , '지역'] = i\n",
    "\n",
    "df2[\"지역\"].value_counts()"
   ]
  },
  {
   "cell_type": "code",
   "execution_count": null,
   "metadata": {
    "ExecuteTime": {
     "end_time": "2021-02-15T22:48:58.228433Z",
     "start_time": "2021-02-15T22:48:58.202504Z"
    }
   },
   "outputs": [],
   "source": [
    "df2[\"강원도\"].sum()+df2[\"경기도\"].sum()+df2[\"경상남도\"].sum()+df2[\"경상북도\"].sum()+df2[\"광주광역\"].sum()+df2[\"대구광역\"].sum()+df2[\"대전광역\"].sum()+df2[\"부산광역\"].sum()+df2[\"서울특별\"].sum()+df2[\"세종특별\"].sum()+df2[\"울산광역\"].sum()+df2[\"인천광역\"].sum()+df2[\"전라남도\"].sum()+df2[\"전라북도\"].sum()+df2[\"제주특별\"].sum()+df2[\"충청남도\"].sum() +df2[\"충청북도\"].sum()\n",
    "\n",
    "\n",
    "\n",
    "#뭔가잘못됐네.. 뭔가 누락됨. 해결 제주특별 이었음.."
   ]
  },
  {
   "cell_type": "code",
   "execution_count": 47,
   "metadata": {
    "ExecuteTime": {
     "end_time": "2021-02-15T08:27:54.464661Z",
     "start_time": "2021-02-15T08:27:54.444719Z"
    }
   },
   "outputs": [
    {
     "data": {
      "text/plain": "88"
     },
     "execution_count": 47,
     "metadata": {},
     "output_type": "execute_result"
    }
   ],
   "source": [
    "df2[\"세종특별\"].sum()"
   ]
  },
  {
   "cell_type": "code",
   "execution_count": 48,
   "metadata": {
    "ExecuteTime": {
     "end_time": "2021-02-15T08:20:09.197886Z",
     "start_time": "2021-02-15T08:20:09.127077Z"
    }
   },
   "outputs": [],
   "source": [
    "\r\n"
   ]
  },
  {
   "cell_type": "code",
   "execution_count": 49,
   "metadata": {},
   "outputs": [
    {
     "data": {
      "text/plain": "0        0\n1        0\n2        0\n3        0\n4        0\n        ..\n25916    0\n25917    0\n25918    0\n25919    0\n25920    0\nName: 강남구, Length: 25921, dtype: int32"
     },
     "execution_count": 49,
     "metadata": {},
     "output_type": "execute_result"
    }
   ],
   "source": [
    "df2[\"강남구\"]"
   ]
  },
  {
   "cell_type": "code",
   "execution_count": null,
   "metadata": {
    "ExecuteTime": {
     "end_time": "2021-02-15T22:47:13.084387Z",
     "start_time": "2021-02-15T22:47:13.044492Z"
    }
   },
   "outputs": [],
   "source": [
    "###문제 \n",
    "###문제 \n",
    "###문제 \n",
    "###문제 \n",
    "\n",
    "\n",
    "df2[\"면적\"]\n",
    "\n",
    "# value error \n",
    "# if df2[\"면적\"] <= 85 & df2[\"면적\"] >= 60 :\n",
    "#     df2[\"크기\"] = \"소형 \"\n",
    "#type error \n",
    "# if df2[\"면적\"] <= 85\n",
    "#  df2[\"크기\"] = \"소형 \"\n",
    "# if df2[\"면적\"] <= 60\n",
    "#     df2[\"크기\"] =  1 \n",
    "\n",
    "# print df2 if df2[\"면적\"] <= 60\n",
    "# #뭘 못하고있는가? 범주로 쪼개서 새로운 변수 만들기.\n",
    "#  [x for x in raw_fe.columns if x not in Y_colname+X_remove]\n",
    "\n",
    "df2[\"면적\"]>= 60 #이건됨 \n",
    "\n",
    "#이건 타입에러가남. \n",
    "# df2[\"면적\"]>= 60  & df2[\"면적\"] <= 85 \n",
    "\n",
    "# value error \n",
    "# df2[\"면적\"]>= 60.0 and   df2[\"면적\"] <= 85.0\n",
    "df2[\"크기\"] = df2[\"면적\"] <= 85.0 \n",
    "# if  df2[\"면적\"]>= 60.0 :\n",
    "#     if  df2[\"면적\"] <= 85.0 :\n",
    "#         df2[\"크기\"] = \"중형\"\n",
    "#     else :\n",
    "#         df2[\"크기\"] = \"대형\"\n",
    "# df2[\"확인\"] = 1 if df2[\"크기\"]==True #안됨\n",
    "\n",
    "\n",
    "\n",
    " \n",
    "#boolean 인덱싱 불리언 인덱싱\n",
    "\n",
    "# names = np.array[df2[\"면적\"]]\n",
    "df2[\"소형\"] = df2[\"면적\"]<= 60\n",
    "df2[\"대형\"] =  df2[\"면적\"]> 85\n",
    "# if df2[\"대형\"]==False and df2[\"소형\"] ==False :\n",
    "#     df2[\"중형\"]\n",
    "    \n",
    "#df2[\"면적\"]> 60  and  df2[\"면적\"] <85\n",
    "type(df2[\"소형\"])\n",
    "\n",
    "df2.loc[(df2['면적'] >  60) & (df2['면적'] <= 85), '크기'] = '중형' \n",
    "df2.loc[(df2['면적'] <=  60),'크기'] = '소형'\n",
    "df2.loc[(df2['면적'] > 85), '크기'] = '대형'\n",
    "\n",
    "# https://datatofish.com/if-condition-in-pandas-dataframe/\n",
    "\n",
    "\n",
    "# df2.count() if df2['크기'] ==\"대형\" \n",
    "#질문 '' 와 \" \" 의 차이? \n",
    "#갯수 카운트하기\n",
    "df2['크기'].value_counts()\n",
    "df2['제주특별'].value_counts() \n",
    "# df2.info()"
   ]
  },
  {
   "cell_type": "code",
   "execution_count": 81,
   "metadata": {},
   "outputs": [
    {
     "data": {
      "text/plain": "0        0.0\n1        0.0\n2        0.0\n3        0.0\n4        0.0\n        ... \n25916    0.0\n25917    0.0\n25918    0.0\n25919    0.0\n25920    0.0\nName: 강남3구, Length: 25921, dtype: float64"
     },
     "execution_count": 81,
     "metadata": {},
     "output_type": "execute_result"
    }
   ],
   "source": [
    "#강남 송파 서초 3구 따로 묶어보기 ..abs\r\n",
    "df2[\"강남구\"] = df2[\"시군구\"].str.contains(\"서울특별시 강남구\", case=False, na=False).astype(int)\r\n",
    "df2[\"서초구\"] = df2[\"시군구\"].str.contains(\"서울특별시 서초구\", case=False, na=False).astype(int)\r\n",
    "df2[\"송파구\"] = df2[\"시군구\"].str.contains(\"서울특별시 송파구\", case=False, na=False).astype(int)\r\n",
    "df2.loc[(df2['강남구'] == 1) | (df2['서초구'] == 1) |  (df2['송파구'] == 1) , \"강남3구\"] = 1\r\n",
    "\r\n",
    "#Nan 0으로 만들기\r\n",
    "df2[\"강남3구\"] = df2[\"강남3구\"].fillna(0).copy()\r\n",
    "\r\n",
    "#확인하기 \r\n",
    "df2[\"강남3구\"].value_counts()"
   ]
  },
  {
   "cell_type": "code",
   "execution_count": 4,
   "metadata": {},
   "outputs": [
    {
     "data": {
      "text/plain": "0.0    24158\n1.0     1763\nName: 강남3구, dtype: int64"
     },
     "execution_count": 4,
     "metadata": {},
     "output_type": "execute_result"
    }
   ],
   "source": [
    "df2[\"강남3구\"].value_counts()\r\n"
   ]
  },
  {
   "cell_type": "code",
   "execution_count": 51,
   "metadata": {},
   "outputs": [
    {
     "data": {
      "text/plain": "0.15790285868600748"
     },
     "execution_count": 51,
     "metadata": {},
     "output_type": "execute_result"
    }
   ],
   "source": [
    "#강남3구를 제외한 서울 만들기 \r\n",
    "df2.loc[(df2['서울특별'] == 1) & (df2['강남3구'] != 1) ,\"서울강남제외\"] = 1\r\n",
    "df2[\"서울강남제외\"] = df2[\"서울강남제외\"].fillna(0).copy()\r\n",
    "df2[\"서울강남제외\"].value_counts()\r\n",
    "df2[\"서울강남제외\"].mean()\r\n"
   ]
  },
  {
   "cell_type": "code",
   "execution_count": 48,
   "metadata": {},
   "outputs": [
    {
     "data": {
      "text/plain": "True     20065\nFalse     5856\nName: 지역, dtype: int64"
     },
     "execution_count": 48,
     "metadata": {},
     "output_type": "execute_result"
    }
   ],
   "source": [
    "#잘나왔나 확인해보기\r\n",
    "\r\n",
    "df2[\"서울특별\"].sum()\r\n",
    "\r\n",
    "#만약 어떤 조건에 맞는 값들만을 찾고싶으면\r\n",
    "noseoul = df2[\"지역\"] != \"서울특별\"\r\n",
    "noseoul.value_counts()\r\n"
   ]
  },
  {
   "cell_type": "code",
   "execution_count": 50,
   "metadata": {},
   "outputs": [
    {
     "ename": "TypeError",
     "evalue": "Cannot perform 'rand_' with a dtyped [float64] array and scalar of type [bool]",
     "output_type": "error",
     "traceback": [
      "\u001b[1;31m---------------------------------------------------------------------------\u001b[0m",
      "\u001b[1;31mTypeError\u001b[0m                                 Traceback (most recent call last)",
      "\u001b[1;32mC:\\ProgramData\\Anaconda3\\lib\\site-packages\\pandas\\core\\ops\\array_ops.py\u001b[0m in \u001b[0;36mna_logical_op\u001b[1;34m(x, y, op)\u001b[0m\n\u001b[0;32m    265\u001b[0m         \u001b[1;31m#  (xint or xbool) and (yint or bool)\u001b[0m\u001b[1;33m\u001b[0m\u001b[1;33m\u001b[0m\u001b[1;33m\u001b[0m\u001b[0m\n\u001b[1;32m--> 266\u001b[1;33m         \u001b[0mresult\u001b[0m \u001b[1;33m=\u001b[0m \u001b[0mop\u001b[0m\u001b[1;33m(\u001b[0m\u001b[0mx\u001b[0m\u001b[1;33m,\u001b[0m \u001b[0my\u001b[0m\u001b[1;33m)\u001b[0m\u001b[1;33m\u001b[0m\u001b[1;33m\u001b[0m\u001b[0m\n\u001b[0m\u001b[0;32m    267\u001b[0m     \u001b[1;32mexcept\u001b[0m \u001b[0mTypeError\u001b[0m\u001b[1;33m:\u001b[0m\u001b[1;33m\u001b[0m\u001b[1;33m\u001b[0m\u001b[0m\n",
      "\u001b[1;32mC:\\ProgramData\\Anaconda3\\lib\\site-packages\\pandas\\core\\ops\\roperator.py\u001b[0m in \u001b[0;36mrand_\u001b[1;34m(left, right)\u001b[0m\n\u001b[0;32m     51\u001b[0m \u001b[1;32mdef\u001b[0m \u001b[0mrand_\u001b[0m\u001b[1;33m(\u001b[0m\u001b[0mleft\u001b[0m\u001b[1;33m,\u001b[0m \u001b[0mright\u001b[0m\u001b[1;33m)\u001b[0m\u001b[1;33m:\u001b[0m\u001b[1;33m\u001b[0m\u001b[1;33m\u001b[0m\u001b[0m\n\u001b[1;32m---> 52\u001b[1;33m     \u001b[1;32mreturn\u001b[0m \u001b[0moperator\u001b[0m\u001b[1;33m.\u001b[0m\u001b[0mand_\u001b[0m\u001b[1;33m(\u001b[0m\u001b[0mright\u001b[0m\u001b[1;33m,\u001b[0m \u001b[0mleft\u001b[0m\u001b[1;33m)\u001b[0m\u001b[1;33m\u001b[0m\u001b[1;33m\u001b[0m\u001b[0m\n\u001b[0m\u001b[0;32m     53\u001b[0m \u001b[1;33m\u001b[0m\u001b[0m\n",
      "\u001b[1;31mTypeError\u001b[0m: ufunc 'bitwise_and' not supported for the input types, and the inputs could not be safely coerced to any supported types according to the casting rule ''safe''",
      "\nDuring handling of the above exception, another exception occurred:\n",
      "\u001b[1;31mValueError\u001b[0m                                Traceback (most recent call last)",
      "\u001b[1;32mC:\\ProgramData\\Anaconda3\\lib\\site-packages\\pandas\\core\\ops\\array_ops.py\u001b[0m in \u001b[0;36mna_logical_op\u001b[1;34m(x, y, op)\u001b[0m\n\u001b[0;32m    279\u001b[0m             \u001b[1;32mtry\u001b[0m\u001b[1;33m:\u001b[0m\u001b[1;33m\u001b[0m\u001b[1;33m\u001b[0m\u001b[0m\n\u001b[1;32m--> 280\u001b[1;33m                 \u001b[0mresult\u001b[0m \u001b[1;33m=\u001b[0m \u001b[0mlibops\u001b[0m\u001b[1;33m.\u001b[0m\u001b[0mscalar_binop\u001b[0m\u001b[1;33m(\u001b[0m\u001b[0mx\u001b[0m\u001b[1;33m,\u001b[0m \u001b[0my\u001b[0m\u001b[1;33m,\u001b[0m \u001b[0mop\u001b[0m\u001b[1;33m)\u001b[0m\u001b[1;33m\u001b[0m\u001b[1;33m\u001b[0m\u001b[0m\n\u001b[0m\u001b[0;32m    281\u001b[0m             except (\n",
      "\u001b[1;32mpandas\\_libs\\ops.pyx\u001b[0m in \u001b[0;36mpandas._libs.ops.scalar_binop\u001b[1;34m()\u001b[0m\n",
      "\u001b[1;31mValueError\u001b[0m: Buffer dtype mismatch, expected 'Python object' but got 'double'",
      "\nThe above exception was the direct cause of the following exception:\n",
      "\u001b[1;31mTypeError\u001b[0m                                 Traceback (most recent call last)",
      "\u001b[1;32m<ipython-input-50-5bf8834cf940>\u001b[0m in \u001b[0;36m<module>\u001b[1;34m\u001b[0m\n\u001b[1;32m----> 1\u001b[1;33m \u001b[0mnoseoul\u001b[0m \u001b[1;33m=\u001b[0m \u001b[0mdf2\u001b[0m\u001b[1;33m[\u001b[0m\u001b[1;34m\"지역\"\u001b[0m\u001b[1;33m]\u001b[0m \u001b[1;33m==\u001b[0m \u001b[1;34m\"서울특별\"\u001b[0m  \u001b[1;33m&\u001b[0m \u001b[0mdf2\u001b[0m\u001b[1;33m[\u001b[0m\u001b[1;34m\"강남3구\"\u001b[0m\u001b[1;33m]\u001b[0m \u001b[1;33m!=\u001b[0m \u001b[1;36m1\u001b[0m\u001b[1;33m\u001b[0m\u001b[1;33m\u001b[0m\u001b[0m\n\u001b[0m\u001b[0;32m      2\u001b[0m \u001b[0mnoseoul\u001b[0m\u001b[1;33m.\u001b[0m\u001b[0mvalue_counts\u001b[0m\u001b[1;33m(\u001b[0m\u001b[1;33m)\u001b[0m\u001b[1;33m\u001b[0m\u001b[1;33m\u001b[0m\u001b[0m\n",
      "\u001b[1;32mC:\\ProgramData\\Anaconda3\\lib\\site-packages\\pandas\\core\\ops\\common.py\u001b[0m in \u001b[0;36mnew_method\u001b[1;34m(self, other)\u001b[0m\n\u001b[0;32m     63\u001b[0m         \u001b[0mother\u001b[0m \u001b[1;33m=\u001b[0m \u001b[0mitem_from_zerodim\u001b[0m\u001b[1;33m(\u001b[0m\u001b[0mother\u001b[0m\u001b[1;33m)\u001b[0m\u001b[1;33m\u001b[0m\u001b[1;33m\u001b[0m\u001b[0m\n\u001b[0;32m     64\u001b[0m \u001b[1;33m\u001b[0m\u001b[0m\n\u001b[1;32m---> 65\u001b[1;33m         \u001b[1;32mreturn\u001b[0m \u001b[0mmethod\u001b[0m\u001b[1;33m(\u001b[0m\u001b[0mself\u001b[0m\u001b[1;33m,\u001b[0m \u001b[0mother\u001b[0m\u001b[1;33m)\u001b[0m\u001b[1;33m\u001b[0m\u001b[1;33m\u001b[0m\u001b[0m\n\u001b[0m\u001b[0;32m     66\u001b[0m \u001b[1;33m\u001b[0m\u001b[0m\n\u001b[0;32m     67\u001b[0m     \u001b[1;32mreturn\u001b[0m \u001b[0mnew_method\u001b[0m\u001b[1;33m\u001b[0m\u001b[1;33m\u001b[0m\u001b[0m\n",
      "\u001b[1;32mC:\\ProgramData\\Anaconda3\\lib\\site-packages\\pandas\\core\\ops\\__init__.py\u001b[0m in \u001b[0;36mwrapper\u001b[1;34m(self, other)\u001b[0m\n\u001b[0;32m    392\u001b[0m         \u001b[0mrvalues\u001b[0m \u001b[1;33m=\u001b[0m \u001b[0mextract_array\u001b[0m\u001b[1;33m(\u001b[0m\u001b[0mother\u001b[0m\u001b[1;33m,\u001b[0m \u001b[0mextract_numpy\u001b[0m\u001b[1;33m=\u001b[0m\u001b[1;32mTrue\u001b[0m\u001b[1;33m)\u001b[0m\u001b[1;33m\u001b[0m\u001b[1;33m\u001b[0m\u001b[0m\n\u001b[0;32m    393\u001b[0m \u001b[1;33m\u001b[0m\u001b[0m\n\u001b[1;32m--> 394\u001b[1;33m         \u001b[0mres_values\u001b[0m \u001b[1;33m=\u001b[0m \u001b[0mlogical_op\u001b[0m\u001b[1;33m(\u001b[0m\u001b[0mlvalues\u001b[0m\u001b[1;33m,\u001b[0m \u001b[0mrvalues\u001b[0m\u001b[1;33m,\u001b[0m \u001b[0mop\u001b[0m\u001b[1;33m)\u001b[0m\u001b[1;33m\u001b[0m\u001b[1;33m\u001b[0m\u001b[0m\n\u001b[0m\u001b[0;32m    395\u001b[0m         \u001b[1;32mreturn\u001b[0m \u001b[0mself\u001b[0m\u001b[1;33m.\u001b[0m\u001b[0m_construct_result\u001b[0m\u001b[1;33m(\u001b[0m\u001b[0mres_values\u001b[0m\u001b[1;33m,\u001b[0m \u001b[0mname\u001b[0m\u001b[1;33m=\u001b[0m\u001b[0mres_name\u001b[0m\u001b[1;33m)\u001b[0m\u001b[1;33m\u001b[0m\u001b[1;33m\u001b[0m\u001b[0m\n\u001b[0;32m    396\u001b[0m \u001b[1;33m\u001b[0m\u001b[0m\n",
      "\u001b[1;32mC:\\ProgramData\\Anaconda3\\lib\\site-packages\\pandas\\core\\ops\\array_ops.py\u001b[0m in \u001b[0;36mlogical_op\u001b[1;34m(left, right, op)\u001b[0m\n\u001b[0;32m    354\u001b[0m         \u001b[0mfiller\u001b[0m \u001b[1;33m=\u001b[0m \u001b[0mfill_int\u001b[0m \u001b[1;32mif\u001b[0m \u001b[0mis_self_int_dtype\u001b[0m \u001b[1;32mand\u001b[0m \u001b[0mis_other_int_dtype\u001b[0m \u001b[1;32melse\u001b[0m \u001b[0mfill_bool\u001b[0m\u001b[1;33m\u001b[0m\u001b[1;33m\u001b[0m\u001b[0m\n\u001b[0;32m    355\u001b[0m \u001b[1;33m\u001b[0m\u001b[0m\n\u001b[1;32m--> 356\u001b[1;33m         \u001b[0mres_values\u001b[0m \u001b[1;33m=\u001b[0m \u001b[0mna_logical_op\u001b[0m\u001b[1;33m(\u001b[0m\u001b[0mlvalues\u001b[0m\u001b[1;33m,\u001b[0m \u001b[0mrvalues\u001b[0m\u001b[1;33m,\u001b[0m \u001b[0mop\u001b[0m\u001b[1;33m)\u001b[0m\u001b[1;33m\u001b[0m\u001b[1;33m\u001b[0m\u001b[0m\n\u001b[0m\u001b[0;32m    357\u001b[0m         \u001b[0mres_values\u001b[0m \u001b[1;33m=\u001b[0m \u001b[0mfiller\u001b[0m\u001b[1;33m(\u001b[0m\u001b[0mres_values\u001b[0m\u001b[1;33m)\u001b[0m  \u001b[1;31m# type: ignore\u001b[0m\u001b[1;33m\u001b[0m\u001b[1;33m\u001b[0m\u001b[0m\n\u001b[0;32m    358\u001b[0m \u001b[1;33m\u001b[0m\u001b[0m\n",
      "\u001b[1;32mC:\\ProgramData\\Anaconda3\\lib\\site-packages\\pandas\\core\\ops\\array_ops.py\u001b[0m in \u001b[0;36mna_logical_op\u001b[1;34m(x, y, op)\u001b[0m\n\u001b[0;32m    287\u001b[0m             ) as err:\n\u001b[0;32m    288\u001b[0m                 \u001b[0mtyp\u001b[0m \u001b[1;33m=\u001b[0m \u001b[0mtype\u001b[0m\u001b[1;33m(\u001b[0m\u001b[0my\u001b[0m\u001b[1;33m)\u001b[0m\u001b[1;33m.\u001b[0m\u001b[0m__name__\u001b[0m\u001b[1;33m\u001b[0m\u001b[1;33m\u001b[0m\u001b[0m\n\u001b[1;32m--> 289\u001b[1;33m                 raise TypeError(\n\u001b[0m\u001b[0;32m    290\u001b[0m                     \u001b[1;34mf\"Cannot perform '{op.__name__}' with a dtyped [{x.dtype}] array \"\u001b[0m\u001b[1;33m\u001b[0m\u001b[1;33m\u001b[0m\u001b[0m\n\u001b[0;32m    291\u001b[0m                     \u001b[1;34mf\"and scalar of type [{typ}]\"\u001b[0m\u001b[1;33m\u001b[0m\u001b[1;33m\u001b[0m\u001b[0m\n",
      "\u001b[1;31mTypeError\u001b[0m: Cannot perform 'rand_' with a dtyped [float64] array and scalar of type [bool]"
     ]
    }
   ],
   "source": [
    "# 두개 조건은 안되나?  \r\n",
    "\"\"\"에러 \r\n",
    "noseoul = df2[\"지역\"] == \"서울특별\"  & df2[\"강남3구\"] != 1\r\n",
    "noseoul.value_counts()\r\n",
    "\r\n",
    "TypeError: Cannot perform 'rand_' with a dtyped [float64] array and scalar of type [bool]\r\n",
    "\"\"\""
   ]
  },
  {
   "cell_type": "code",
   "execution_count": 52,
   "metadata": {},
   "outputs": [
    {
     "data": {
      "text/plain": "0"
     },
     "execution_count": 52,
     "metadata": {},
     "output_type": "execute_result"
    }
   ],
   "source": [
    "z = 0\r\n",
    "if  df2[\"강남3구\"].loc() ==1 :\r\n",
    "    z = df2[\"금액\"].mean()\r\n",
    "    z\r\n",
    "z"
   ]
  },
  {
   "cell_type": "code",
   "execution_count": 26,
   "metadata": {},
   "outputs": [
    {
     "data": {
      "text/plain": "0         강원도\n1         강원도\n2         강원도\n3         강원도\n4         강원도\n         ... \n25916    충청북도\n25917    충청북도\n25918    충청북도\n25919    충청북도\n25920    충청북도\nName: 지역, Length: 25921, dtype: object"
     },
     "execution_count": 26,
     "metadata": {},
     "output_type": "execute_result"
    }
   ],
   "source": [
    "# groupby로 통계값들을 얻기위한 작업 이미 근데 있네..?\r\n",
    "\r\n",
    "# 왜 에러날까?\r\n",
    "\"\"\"\r\n",
    "for i in location:\r\n",
    "    if df2[location[i]]==1 :\r\n",
    "        df2[\"지역명\"] = i\r\n",
    "df2[\"지역명\"]\r\n",
    "\r\n",
    "뜬 에러 :  TypeError: list indices must be integers or slices, not str\r\n",
    "일단 루프가 각 스트링에 대해 돌아가므로 당연히 그냥 i가들어가야됨. \r\n",
    "근데 일단 지역명할때 이프문 필요없는듯?\r\n",
    "\r\n",
    "loc를 사용해봅시다.  \r\n",
    "\"\"\"\r\n",
    "\"\"\"\r\n",
    "df2[\"지역명\"] = []\r\n",
    "for i in location:\r\n",
    "\r\n",
    "z= df2[location[1]]==1\r\n",
    "location[1]\r\n",
    "\"\"\"\r\n",
    "\"\"\r\n",
    "df2[\"지역\"]"
   ]
  },
  {
   "cell_type": "code",
   "execution_count": 55,
   "metadata": {},
   "outputs": [
    {
     "data": {
      "text/plain": "강남3구\n0.0    18421.007658\n1.0    69244.115712\nName: 금액, dtype: float64"
     },
     "execution_count": 55,
     "metadata": {},
     "output_type": "execute_result"
    }
   ],
   "source": [
    "## 해당 지역으로 평균내기\r\n",
    "# ?하고명령어쓰면 설명뜸. \r\n",
    "# ?df2.groupby\r\n",
    "df2.groupby([\"지역\"])[\"금액\"].mean()\r\n",
    "df2.groupby([\"강남3구\"])[\"금액\"].mean()\r\n",
    "# df2.groupby([\"서울강남제외\"])[\"금액\"].mean()\r\n"
   ]
  },
  {
   "cell_type": "markdown",
   "metadata": {},
   "source": [
    "조건문 여러개 달기 .\r\n",
    "\r\n",
    "if (cond1 AND/OR COND2) AND/OR (cond3 AND/OR cond4):\r\n",
    "    code1\r\n",
    "else:\r\n",
    "    code2\r\n",
    "\r\n",
    "데이터에서 조건문 여러개 달기\r\n",
    "\r\n",
    "df1 = df[(df.a != -1) & (df.b != -1)]\r\n",
    "또는\r\n",
    "df[\"A\"][(df[\"B\"] > 50) & (df[\"C\"] == 900)]\r\n",
    "위에꺼는  에러가 날 수도있으므로 특정값을 찾는 .loc 사용을 추천.\r\n",
    "df.loc[(df[\"B\"] > 50) & (df[\"C\"] == 900), \"A\"] *= 1000 \r\n",
    "\r\n",
    "https://stackoverflow.com/questions/15315452/selecting-with-complex-criteria-from-pandas-dataframe"
   ]
  },
  {
   "cell_type": "code",
   "execution_count": 57,
   "metadata": {},
   "outputs": [
    {
     "ename": "KeyError",
     "evalue": "'지역'",
     "output_type": "error",
     "traceback": [
      "\u001b[1;31m---------------------------------------------------------------------------\u001b[0m",
      "\u001b[1;31mKeyError\u001b[0m                                  Traceback (most recent call last)",
      "\u001b[1;32mC:\\ProgramData\\Anaconda3\\lib\\site-packages\\pandas\\core\\indexes\\base.py\u001b[0m in \u001b[0;36mget_loc\u001b[1;34m(self, key, method, tolerance)\u001b[0m\n\u001b[0;32m   2894\u001b[0m             \u001b[1;32mtry\u001b[0m\u001b[1;33m:\u001b[0m\u001b[1;33m\u001b[0m\u001b[1;33m\u001b[0m\u001b[0m\n\u001b[1;32m-> 2895\u001b[1;33m                 \u001b[1;32mreturn\u001b[0m \u001b[0mself\u001b[0m\u001b[1;33m.\u001b[0m\u001b[0m_engine\u001b[0m\u001b[1;33m.\u001b[0m\u001b[0mget_loc\u001b[0m\u001b[1;33m(\u001b[0m\u001b[0mcasted_key\u001b[0m\u001b[1;33m)\u001b[0m\u001b[1;33m\u001b[0m\u001b[1;33m\u001b[0m\u001b[0m\n\u001b[0m\u001b[0;32m   2896\u001b[0m             \u001b[1;32mexcept\u001b[0m \u001b[0mKeyError\u001b[0m \u001b[1;32mas\u001b[0m \u001b[0merr\u001b[0m\u001b[1;33m:\u001b[0m\u001b[1;33m\u001b[0m\u001b[1;33m\u001b[0m\u001b[0m\n",
      "\u001b[1;32mpandas\\_libs\\index.pyx\u001b[0m in \u001b[0;36mpandas._libs.index.IndexEngine.get_loc\u001b[1;34m()\u001b[0m\n",
      "\u001b[1;32mpandas\\_libs\\index.pyx\u001b[0m in \u001b[0;36mpandas._libs.index.IndexEngine.get_loc\u001b[1;34m()\u001b[0m\n",
      "\u001b[1;32mpandas\\_libs\\hashtable_class_helper.pxi\u001b[0m in \u001b[0;36mpandas._libs.hashtable.PyObjectHashTable.get_item\u001b[1;34m()\u001b[0m\n",
      "\u001b[1;32mpandas\\_libs\\hashtable_class_helper.pxi\u001b[0m in \u001b[0;36mpandas._libs.hashtable.PyObjectHashTable.get_item\u001b[1;34m()\u001b[0m\n",
      "\u001b[1;31mKeyError\u001b[0m: '지역'",
      "\nThe above exception was the direct cause of the following exception:\n",
      "\u001b[1;31mKeyError\u001b[0m                                  Traceback (most recent call last)",
      "\u001b[1;32m<ipython-input-57-53363ced761e>\u001b[0m in \u001b[0;36m<module>\u001b[1;34m\u001b[0m\n\u001b[1;32m----> 1\u001b[1;33m \u001b[0mdf\u001b[0m\u001b[1;33m[\u001b[0m\u001b[1;34m\"지역\"\u001b[0m\u001b[1;33m]\u001b[0m\u001b[1;33m\u001b[0m\u001b[1;33m\u001b[0m\u001b[0m\n\u001b[0m",
      "\u001b[1;32mC:\\ProgramData\\Anaconda3\\lib\\site-packages\\pandas\\core\\frame.py\u001b[0m in \u001b[0;36m__getitem__\u001b[1;34m(self, key)\u001b[0m\n\u001b[0;32m   2900\u001b[0m             \u001b[1;32mif\u001b[0m \u001b[0mself\u001b[0m\u001b[1;33m.\u001b[0m\u001b[0mcolumns\u001b[0m\u001b[1;33m.\u001b[0m\u001b[0mnlevels\u001b[0m \u001b[1;33m>\u001b[0m \u001b[1;36m1\u001b[0m\u001b[1;33m:\u001b[0m\u001b[1;33m\u001b[0m\u001b[1;33m\u001b[0m\u001b[0m\n\u001b[0;32m   2901\u001b[0m                 \u001b[1;32mreturn\u001b[0m \u001b[0mself\u001b[0m\u001b[1;33m.\u001b[0m\u001b[0m_getitem_multilevel\u001b[0m\u001b[1;33m(\u001b[0m\u001b[0mkey\u001b[0m\u001b[1;33m)\u001b[0m\u001b[1;33m\u001b[0m\u001b[1;33m\u001b[0m\u001b[0m\n\u001b[1;32m-> 2902\u001b[1;33m             \u001b[0mindexer\u001b[0m \u001b[1;33m=\u001b[0m \u001b[0mself\u001b[0m\u001b[1;33m.\u001b[0m\u001b[0mcolumns\u001b[0m\u001b[1;33m.\u001b[0m\u001b[0mget_loc\u001b[0m\u001b[1;33m(\u001b[0m\u001b[0mkey\u001b[0m\u001b[1;33m)\u001b[0m\u001b[1;33m\u001b[0m\u001b[1;33m\u001b[0m\u001b[0m\n\u001b[0m\u001b[0;32m   2903\u001b[0m             \u001b[1;32mif\u001b[0m \u001b[0mis_integer\u001b[0m\u001b[1;33m(\u001b[0m\u001b[0mindexer\u001b[0m\u001b[1;33m)\u001b[0m\u001b[1;33m:\u001b[0m\u001b[1;33m\u001b[0m\u001b[1;33m\u001b[0m\u001b[0m\n\u001b[0;32m   2904\u001b[0m                 \u001b[0mindexer\u001b[0m \u001b[1;33m=\u001b[0m \u001b[1;33m[\u001b[0m\u001b[0mindexer\u001b[0m\u001b[1;33m]\u001b[0m\u001b[1;33m\u001b[0m\u001b[1;33m\u001b[0m\u001b[0m\n",
      "\u001b[1;32mC:\\ProgramData\\Anaconda3\\lib\\site-packages\\pandas\\core\\indexes\\base.py\u001b[0m in \u001b[0;36mget_loc\u001b[1;34m(self, key, method, tolerance)\u001b[0m\n\u001b[0;32m   2895\u001b[0m                 \u001b[1;32mreturn\u001b[0m \u001b[0mself\u001b[0m\u001b[1;33m.\u001b[0m\u001b[0m_engine\u001b[0m\u001b[1;33m.\u001b[0m\u001b[0mget_loc\u001b[0m\u001b[1;33m(\u001b[0m\u001b[0mcasted_key\u001b[0m\u001b[1;33m)\u001b[0m\u001b[1;33m\u001b[0m\u001b[1;33m\u001b[0m\u001b[0m\n\u001b[0;32m   2896\u001b[0m             \u001b[1;32mexcept\u001b[0m \u001b[0mKeyError\u001b[0m \u001b[1;32mas\u001b[0m \u001b[0merr\u001b[0m\u001b[1;33m:\u001b[0m\u001b[1;33m\u001b[0m\u001b[1;33m\u001b[0m\u001b[0m\n\u001b[1;32m-> 2897\u001b[1;33m                 \u001b[1;32mraise\u001b[0m \u001b[0mKeyError\u001b[0m\u001b[1;33m(\u001b[0m\u001b[0mkey\u001b[0m\u001b[1;33m)\u001b[0m \u001b[1;32mfrom\u001b[0m \u001b[0merr\u001b[0m\u001b[1;33m\u001b[0m\u001b[1;33m\u001b[0m\u001b[0m\n\u001b[0m\u001b[0;32m   2898\u001b[0m \u001b[1;33m\u001b[0m\u001b[0m\n\u001b[0;32m   2899\u001b[0m         \u001b[1;32mif\u001b[0m \u001b[0mtolerance\u001b[0m \u001b[1;32mis\u001b[0m \u001b[1;32mnot\u001b[0m \u001b[1;32mNone\u001b[0m\u001b[1;33m:\u001b[0m\u001b[1;33m\u001b[0m\u001b[1;33m\u001b[0m\u001b[0m\n",
      "\u001b[1;31mKeyError\u001b[0m: '지역'"
     ]
    }
   ],
   "source": [
    "df[\"지역\"]"
   ]
  },
  {
   "cell_type": "code",
   "execution_count": 65,
   "metadata": {},
   "outputs": [
    {
     "data": {
      "text/plain": "4093"
     },
     "execution_count": 65,
     "metadata": {},
     "output_type": "execute_result"
    }
   ],
   "source": [
    "#여러조건으로 dataframe수정하기.\r\n",
    "\r\n",
    "df2[\"새로운\"]=0\r\n",
    "df2.loc[(df2[\"지역\"] ==\"서울특별\" ) & (df2[\"강남3구\"] != 1), \"새로운\"] = 1\r\n",
    "\r\n",
    "df2[\"새로운\"].sum()"
   ]
  },
  {
   "cell_type": "markdown",
   "metadata": {},
   "source": [
    "to do list\r\n",
    "\r\n",
    "\r\n",
    "시계열데이터 추출해내기\r\n",
    "    뭘 추출해야되는가?\r\n",
    "        금액의 평균 분산\r\n",
    "        지역에따라서 가져와야할듯\r\n",
    "        어떤식으로 할것인가? 평균 분산등 데이터 한다음 그냥 각각마다 column만들고 비시계열인 부문지우고 특정조건만족하는식으로하면될듯.\r\n",
    "\r\n",
    "        즉 column들을 무수히 늘린형태로 만든다음  row를 한줄만남기고  가야될듯\r\n",
    "\r\n",
    "    여러 시계열 데이터들을 한번에 frame에 추출하기\r\n",
    "        데이터를 불러와서 각각의 dfi에 집어넣어놓고 작업을하는게맞을거같긴한데..\r\n",
    "    시계열 데이터합치기 \r\n",
    "        달마다의 시계열데이터들을 각각의 frame에 저장해두고 이걸 melt로 녹이는 방식을 써야도리듯?\r\n"
   ]
  },
  {
   "cell_type": "markdown",
   "metadata": {},
   "source": [
    "\n",
    "# Code Summary\n",
    "\n"
   ]
  },
  {
   "cell_type": "code",
   "execution_count": 2,
   "metadata": {
    "ExecuteTime": {
     "end_time": "2021-03-21T06:46:31.486143Z",
     "start_time": "2021-03-21T06:46:31.127097Z"
    }
   },
   "outputs": [],
   "source": [
    "import requests, bs4\n",
    "import pandas as pd\n",
    "from lxml import html #html.lxml 로 써진 것. 즉 html.lxml 로 써야하는 명령어를 lxml만써도 작동하게해줌.\n",
    "from urllib.request import Request, urlopen\n",
    "from urllib.parse import urlencode, quote_plus, unquote\n",
    "from pprint import pprint\n",
    "import numpy as np"
   ]
  },
  {
   "cell_type": "code",
   "execution_count": null,
   "metadata": {
    "ExecuteTime": {
     "end_time": "2021-03-21T06:39:21.653746Z",
     "start_time": "2021-03-21T06:39:21.606872Z"
    }
   },
   "outputs": [],
   "source": [
    "%ls APTdata"
   ]
  },
  {
   "cell_type": "code",
   "execution_count": 3,
   "metadata": {
    "ExecuteTime": {
     "end_time": "2021-03-21T06:46:41.072481Z",
     "start_time": "2021-03-21T06:46:33.442977Z"
    }
   },
   "outputs": [
    {
     "name": "stdout",
     "output_type": "stream",
     "text": [
      "<class 'pandas.core.frame.DataFrame'>\n",
      "RangeIndex: 25921 entries, 0 to 25920\n",
      "Data columns (total 31 columns):\n",
      " #   Column      Non-Null Count  Dtype         \n",
      "---  ------      --------------  -----         \n",
      " 0   Unnamed: 0  25921 non-null  int64         \n",
      " 1   시군구         25921 non-null  object        \n",
      " 2   건축년도        25921 non-null  int64         \n",
      " 3   년월          25921 non-null  datetime64[ns]\n",
      " 4   금액          25921 non-null  int64         \n",
      " 5   면적          25921 non-null  float64       \n",
      " 6   크기          25921 non-null  object        \n",
      " 7   서울          25921 non-null  int32         \n",
      " 8   대전          25921 non-null  int32         \n",
      " 9   강원도         25921 non-null  int32         \n",
      " 10  지역          25921 non-null  object        \n",
      " 11  경기도         25921 non-null  int32         \n",
      " 12  경상남도        25921 non-null  int32         \n",
      " 13  경상북도        25921 non-null  int32         \n",
      " 14  광주광역        25921 non-null  int32         \n",
      " 15  대구광역        25921 non-null  int32         \n",
      " 16  대전광역        25921 non-null  int32         \n",
      " 17  부산광역        25921 non-null  int32         \n",
      " 18  서울특별        25921 non-null  int32         \n",
      " 19  세종특별        25921 non-null  int32         \n",
      " 20  울산광역        25921 non-null  int32         \n",
      " 21  인천광역        25921 non-null  int32         \n",
      " 22  전라남도        25921 non-null  int32         \n",
      " 23  전라북도        25921 non-null  int32         \n",
      " 24  제주특별        25921 non-null  int32         \n",
      " 25  충청남도        25921 non-null  int32         \n",
      " 26  충청북도        25921 non-null  int32         \n",
      " 27  강남구         25921 non-null  int32         \n",
      " 28  서초구         25921 non-null  int32         \n",
      " 29  송파구         25921 non-null  int32         \n",
      " 30  강남3구        25921 non-null  float64       \n",
      "dtypes: datetime64[ns](1), float64(2), int32(22), int64(3), object(3)\n",
      "memory usage: 4.0+ MB\n"
     ]
    }
   ],
   "source": [
    "\r\n",
    "# 파일 불러오기 \r\n",
    "df = pd.read_excel(\"trimdata/apt200601.xlsx\" )\r\n",
    "\r\n",
    "# 이전파일 건드리지 않으려면 반드시 copy로\r\n",
    "df1 = df.copy()\r\n",
    "\r\n",
    "# datetime으로 만들기\r\n",
    "\r\n",
    "df1[\"년월\"] = df1[\"계약년월\"].copy()\r\n",
    "#format=%Y%m 으로 포맷 바꿔주기.\r\n",
    "df1[\"년월\"] = pd.to_datetime(df1[\"년월\"], format='%Y%m', errors='ignore')\r\n",
    "\r\n",
    "df1[\"년월\"]\r\n",
    "# pd.to_datetime?\r\n",
    "# df1.info()\r\n",
    "\r\n",
    "\r\n",
    "# ,가 문자열에 있어서 to_numeric에서  인식이 안되므로 ,제거하기 \r\n",
    "    # 성공! replace던 strip이던 컬럼에 적용할땐 항상 .str. 을 써야함을 잊지말것. \r\n",
    "df1[\"금액\"] =df1[\"거래금액(만원)\"].copy()\r\n",
    "df1[\"금액\"] = df1[\"금액\"].str.replace(\",\",\"\")\r\n",
    "\r\n",
    "\r\n",
    "# 문자열인 값 숫자로 변환하기 \r\n",
    "df1[\"금액\"] =pd.to_numeric(df1[\"금액\"])\r\n",
    "df1[\"면적\"]=pd.to_numeric(df1[\"전용면적(㎡)\"],errors ='coerce')\r\n",
    "df1[\"건축년도\"]=pd.to_numeric(df1[\"건축년도\"],errors ='coerce')\r\n",
    "\r\n",
    "\r\n",
    "#해제사유등 필요없는것 제거하기.\r\n",
    "\r\n",
    "# axis=1을 쓰면 열을 지우고 df.drop([0, 1], axis=0) 처럼 0을쓰면 인덱스(행)을 지움.\r\n",
    "# 주의 행의 이름은 B랑 C가 아닌 0 1인데 이는 스트링이 아니므로 ''없이 하면됨.\r\n",
    "df2 = df1.drop([\"해제사유발생일\", \"계약년월\",\"단지명\",\"계약일\",\"층\",\"도로명\",\"번지\",\"본번\",\"거래금액(만원)\",\"전용면적(㎡)\",\"부번\"]\r\n",
    "               ,axis=1).copy()\r\n",
    "df2\r\n",
    "\r\n",
    "\r\n",
    "    \r\n",
    "#크기로 나누기\r\n",
    "df2.loc[(df2['면적'] >  60) & (df2['면적'] <= 85), '크기'] = '중형' \r\n",
    "df2.loc[(df2['면적'] <=  60),'크기'] = '소형'\r\n",
    "df2.loc[(df2['면적'] > 85), '크기'] = '대형'\r\n",
    "#확인 \r\n",
    "df2['크기'].value_counts()\r\n",
    "\r\n",
    "\r\n",
    " #지역으로 나누기.\r\n",
    "df2[\"서울\"] = df2[\"시군구\"].str.contains(\"서울\", case=False, na=False).astype(int)\r\n",
    "df2[\"서울\"].sum()\r\n",
    "df2[\"대전\"] = df2[\"시군구\"].str.contains(\"대전\", case=False, na=False).astype(int)\r\n",
    "df2[\"대전\"].sum()\r\n",
    "\r\n",
    "location =[]\r\n",
    "location = [\"강원도\",     \r\n",
    "            \"경기도\"  ,  \r\n",
    "            \"경상남도\" ,    \r\n",
    "            \"경상북도\"  ,   \r\n",
    "            \"광주광역\"     ,\r\n",
    "            \"대구광역\"  ,\r\n",
    "            \"대전광역\"   ,\r\n",
    "            \"부산광역\"   ,\r\n",
    "            \"서울특별\"    ,\r\n",
    "            \"세종특별\",\r\n",
    "             \"울산광역\"    ,\r\n",
    "            \"인천광역\"    ,\r\n",
    "            \"전라남도\" ,    \r\n",
    "            \"전라북도\"  ,   \r\n",
    "            \"제주특별\"    ,\r\n",
    "            \"충청남도\" ,   \r\n",
    "            \"충청북도\"  ] \r\n",
    "\r\n",
    "for i in location :\r\n",
    "    df2[i] =  df2[\"시군구\"].str.contains(i, case=False, na=False).astype(int)\r\n",
    "    df2.loc[(df2[i] ==  1) , '지역'] = i\r\n",
    "\r\n",
    "\r\n",
    "#확인\r\n",
    "df2[\"지역\"].value_counts()\r\n",
    "df2[\"강원도\"].sum()+df2[\"경기도\"].sum()+df2[\"경상남도\"].sum()+df2[\"경상북도\"].sum()+df2[\"광주광역\"].sum()+df2[\"대구광역\"].sum()+df2[\"대전광역\"].sum()+df2[\"부산광역\"].sum()+df2[\"서울특별\"].sum()+df2[\"세종특별\"].sum()+df2[\"울산광역\"].sum()+df2[\"인천광역\"].sum()+df2[\"전라남도\"].sum()+df2[\"전라북도\"].sum()+df2[\"제주특별\"].sum()+df2[\"충청남도\"].sum() +df2[\"충청북도\"].sum()\r\n",
    "\r\n",
    "\r\n",
    "#강남 송파 서초 3구 따로 묶어보기 ..abs\r\n",
    "df2[\"강남구\"] = df2[\"시군구\"].str.contains(\"서울특별시 강남구\", case=False, na=False).astype(int)\r\n",
    "df2[\"서초구\"] = df2[\"시군구\"].str.contains(\"서울특별시 서초구\", case=False, na=False).astype(int)\r\n",
    "df2[\"송파구\"] = df2[\"시군구\"].str.contains(\"서울특별시 송파구\", case=False, na=False).astype(int)\r\n",
    "df2.loc[(df2['강남구'] == 1) | (df2['서초구'] == 1) |  (df2['송파구'] == 1) , \"강남3구\"] = 1\r\n",
    "\r\n",
    "#Nan 0으로 만들기\r\n",
    "df2[\"강남3구\"] = df2[\"강남3구\"].fillna(0).copy()\r\n",
    "\r\n",
    "#확인하기 \r\n",
    "df2[\"강남3구\"].value_counts()\r\n",
    "\r\n",
    "\r\n",
    "# 전체관측치와 각도별 관측치 갯수의합이 같은지 확인하기.\r\n",
    "df2[\"강원도\"].sum()+df2[\"경기도\"].sum()+df2[\"경상남도\"].sum()+df2[\"경상북도\"].sum()+df2[\"광주광역\"].sum()+df2[\"대구광역\"].sum()+df2[\"대전광역\"].sum()+df2[\"부산광역\"].sum()+df2[\"서울특별\"].sum()+df2[\"세종특별\"].sum()+df2[\"울산광역\"].sum()+df2[\"인천광역\"].sum()+df2[\"전라남도\"].sum()+df2[\"전라북도\"].sum()+df2[\"제주특별\"].sum()+df2[\"충청남도\"].sum() +df2[\"충청북도\"].sum()\r\n",
    "\r\n",
    "#결과 확인\r\n",
    "df2.info()\r\n",
    "\r\n",
    "# 결과 출력하기 "
   ]
  },
  {
   "cell_type": "code",
   "execution_count": 91,
   "metadata": {
    "ExecuteTime": {
     "end_time": "2021-03-21T06:38:08.849760Z",
     "start_time": "2021-03-21T06:38:05.831Z"
    }
   },
   "outputs": [
    {
     "data": {
      "text/plain": "25921"
     },
     "execution_count": 91,
     "metadata": {},
     "output_type": "execute_result"
    }
   ],
   "source": [
    "# 전체관측치와 각도별 관측치 갯수의합이 같은지 확인하기.\r\n",
    "df2[\"강원도\"].sum()+df2[\"경기도\"].sum()+df2[\"경상남도\"].sum()+df2[\"경상북도\"].sum()+df2[\"광주광역\"].sum()+df2[\"대구광역\"].sum()+df2[\"대전광역\"].sum()+df2[\"부산광역\"].sum()+df2[\"서울특별\"].sum()+df2[\"세종특별\"].sum()+df2[\"울산광역\"].sum()+df2[\"인천광역\"].sum()+df2[\"전라남도\"].sum()+df2[\"전라북도\"].sum()+df2[\"제주특별\"].sum()+df2[\"충청남도\"].sum() +df2[\"충청북도\"].sum()\r\n"
   ]
  },
  {
   "cell_type": "code",
   "execution_count": 86,
   "metadata": {
    "ExecuteTime": {
     "end_time": "2021-03-21T06:38:14.815007Z",
     "start_time": "2021-03-21T06:38:14.792067Z"
    },
    "scrolled": true
   },
   "outputs": [
    {
     "name": "stdout",
     "output_type": "stream",
     "text": [
      "<class 'pandas.core.frame.DataFrame'>\n",
      "RangeIndex: 25921 entries, 0 to 25920\n",
      "Data columns (total 31 columns):\n",
      " #   Column      Non-Null Count  Dtype         \n",
      "---  ------      --------------  -----         \n",
      " 0   Unnamed: 0  25921 non-null  int64         \n",
      " 1   시군구         25921 non-null  object        \n",
      " 2   건축년도        25921 non-null  int64         \n",
      " 3   년월          25921 non-null  datetime64[ns]\n",
      " 4   금액          25921 non-null  int64         \n",
      " 5   면적          25921 non-null  float64       \n",
      " 6   서울          25921 non-null  int32         \n",
      " 7   대전          25921 non-null  int32         \n",
      " 8   강원도         25921 non-null  int32         \n",
      " 9   지역          25921 non-null  object        \n",
      " 10  경기도         25921 non-null  int32         \n",
      " 11  경상남도        25921 non-null  int32         \n",
      " 12  경상북도        25921 non-null  int32         \n",
      " 13  광주광역        25921 non-null  int32         \n",
      " 14  대구광역        25921 non-null  int32         \n",
      " 15  대전광역        25921 non-null  int32         \n",
      " 16  부산광역        25921 non-null  int32         \n",
      " 17  서울특별        25921 non-null  int32         \n",
      " 18  세종특별        25921 non-null  int32         \n",
      " 19  울산광역        25921 non-null  int32         \n",
      " 20  인천광역        25921 non-null  int32         \n",
      " 21  전라남도        25921 non-null  int32         \n",
      " 22  전라북도        25921 non-null  int32         \n",
      " 23  제주특별        25921 non-null  int32         \n",
      " 24  충청남도        25921 non-null  int32         \n",
      " 25  충청북도        25921 non-null  int32         \n",
      " 26  크기          25921 non-null  object        \n",
      " 27  강남구         25921 non-null  int32         \n",
      " 28  서초구         25921 non-null  int32         \n",
      " 29  송파구         25921 non-null  int32         \n",
      " 30  강남3구        25921 non-null  float64       \n",
      "dtypes: datetime64[ns](1), float64(2), int32(22), int64(3), object(3)\n",
      "memory usage: 4.0+ MB\n"
     ]
    }
   ],
   "source": [
    "df2.info()"
   ]
  },
  {
   "cell_type": "code",
   "execution_count": null,
   "metadata": {},
   "outputs": [],
   "source": [
    "if "
   ]
  }
 ],
 "metadata": {
  "hide_input": false,
  "kernelspec": {
   "display_name": "Python 3.8.5 64-bit ('base': conda)",
   "name": "python385jvsc74a57bd0b3ba2566441a7c06988d0923437866b63cedc61552a5af99d1f4fb67d367b25f"
  },
  "language_info": {
   "codemirror_mode": {
    "name": "ipython",
    "version": 3
   },
   "file_extension": ".py",
   "mimetype": "text/x-python",
   "name": "python",
   "nbconvert_exporter": "python",
   "pygments_lexer": "ipython3",
   "version": "3.8.5"
  },
  "toc": {
   "base_numbering": 1,
   "nav_menu": {},
   "number_sections": true,
   "sideBar": true,
   "skip_h1_title": false,
   "title_cell": "Table of Contents",
   "title_sidebar": "Contents",
   "toc_cell": false,
   "toc_position": {},
   "toc_section_display": true,
   "toc_window_display": false
  },
  "varInspector": {
   "cols": {
    "lenName": 16,
    "lenType": 16,
    "lenVar": 40
   },
   "kernels_config": {
    "python": {
     "delete_cmd_postfix": "",
     "delete_cmd_prefix": "del ",
     "library": "var_list.py",
     "varRefreshCmd": "print(var_dic_list())"
    },
    "r": {
     "delete_cmd_postfix": ") ",
     "delete_cmd_prefix": "rm(",
     "library": "var_list.r",
     "varRefreshCmd": "cat(var_dic_list()) "
    }
   },
   "types_to_exclude": [
    "module",
    "function",
    "builtin_function_or_method",
    "instance",
    "_Feature"
   ],
   "window_display": false
  }
 },
 "nbformat": 4,
 "nbformat_minor": 4
}