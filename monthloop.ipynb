{
 "cells": [
  {
   "cell_type": "markdown",
   "metadata": {},
   "source": [
    "# 시행착오"
   ]
  },
  {
   "cell_type": "code",
   "execution_count": 6,
   "metadata": {
    "ExecuteTime": {
     "end_time": "2021-02-15T22:51:09.332552Z",
     "start_time": "2021-02-15T22:51:08.645518Z"
    }
   },
   "outputs": [],
   "source": [
    "import requests, bs4\n",
    "import pandas as pd\n",
    "from lxml import html #html.lxml 로 써진 것. 즉 html.lxml 로 써야하는 명령어를 lxml만써도 작동하게해줌.\n",
    "from urllib.request import Request, urlopen\n",
    "from urllib.parse import urlencode, quote_plus, unquote\n",
    "from pprint import pprint\n",
    "import numpy as np"
   ]
  },
  {
   "cell_type": "code",
   "execution_count": 4,
   "metadata": {
    "ExecuteTime": {
     "end_time": "2021-02-15T06:10:03.470323Z",
     "start_time": "2021-02-15T06:10:03.421429Z"
    },
    "scrolled": true
   },
   "outputs": [
    {
     "name": "stdout",
     "output_type": "stream",
     "text": [
      " Volume in drive C has no label.\n",
      " Volume Serial Number is 04ED-7805\n",
      "\n",
      " Directory of c:\\projects\\python\\apt\\trimdata\n",
      "\n",
      "2021-04-15  오전 01:00    <DIR>          .\n",
      "2021-04-15  오전 01:00    <DIR>          ..\n",
      "2021-04-15  오전 12:29         1,600,714 apt200601.xlsx\n",
      "2021-04-15  오전 12:30         2,634,168 apt200602.xlsx\n",
      "2021-04-15  오전 12:30         3,389,704 apt200603.xlsx\n",
      "2021-04-15  오전 12:30         2,942,021 apt200604.xlsx\n",
      "2021-04-15  오전 12:31         2,780,836 apt200605.xlsx\n",
      "2021-04-15  오전 12:31         2,219,198 apt200606.xlsx\n",
      "2021-04-15  오전 12:31         2,036,597 apt200607.xlsx\n",
      "2021-04-15  오전 12:31         2,531,730 apt200608.xlsx\n",
      "2021-04-15  오전 12:32         3,993,229 apt200609.xlsx\n",
      "2021-04-15  오전 12:48         4,785,614 apt200610.xlsx\n",
      "2021-04-15  오전 12:49         4,761,955 apt200611.xlsx\n",
      "2021-04-15  오전 12:49         3,362,008 apt200612.xlsx\n",
      "2021-04-15  오전 12:32         2,388,204 apt200701.xlsx\n",
      "2021-04-15  오전 12:33         2,159,101 apt200702.xlsx\n",
      "2021-04-15  오전 12:33         2,711,712 apt200703.xlsx\n",
      "2021-04-15  오전 12:33         2,399,722 apt200704.xlsx\n",
      "2021-04-15  오전 12:34         2,207,663 apt200705.xlsx\n",
      "2021-04-15  오전 12:34         2,361,032 apt200706.xlsx\n",
      "2021-04-15  오전 12:34         2,482,657 apt200707.xlsx\n",
      "2021-04-15  오전 12:34         2,429,248 apt200708.xlsx\n",
      "2021-04-15  오전 12:35         2,131,196 apt200709.xlsx\n",
      "2021-04-15  오전 12:50         3,069,726 apt200710.xlsx\n",
      "2021-04-15  오전 12:51         2,679,333 apt200711.xlsx\n",
      "2021-04-15  오전 12:51         2,567,837 apt200712.xlsx\n",
      "2021-03-21  오후 06:49         4,158,274 apt202010.xlsx\n",
      "              25 File(s)     70,783,479 bytes\n",
      "               2 Dir(s)  70,765,023,232 bytes free\n"
     ]
    }
   ],
   "source": [
    "%ls trimdata"
   ]
  },
  {
   "cell_type": "code",
   "execution_count": 5,
   "metadata": {
    "ExecuteTime": {
     "end_time": "2021-02-14T23:57:56.733698Z",
     "start_time": "2021-02-14T23:57:50.818696Z"
    }
   },
   "outputs": [],
   "source": [
    "# df_09 = pd.read_csv(\"APTdata/아파트(매매)__실거래가_202010.csv\",encoding=\"cp949\")\r\n",
    "# #에러났음. 왜그렇지? pd import를안함. \r\n",
    "# Parse error. . 이전 강의에서 배웠죠? 근데 sep을 바꿔줬었는데 이번엔 위에 내용이 있어서 안될수도있음.\r\n",
    "\r\n",
    "# 일단 좆된것. csv는 파일지워서 다른이름으로저장하면 손상이되어버림.\r\n",
    "# df = pd.read_csv(\"APTdata/아파트(매매)__실거래가_202010.csv\" ,sep='|',encoding=\"cp949\")\r\n",
    "df = pd.read_excel(\"trimdata/apt200601.xlsx\" )"
   ]
  },
  {
   "cell_type": "code",
   "execution_count": 9,
   "metadata": {
    "ExecuteTime": {
     "end_time": "2021-02-15T00:24:07.233357Z",
     "start_time": "2021-02-15T00:24:07.205432Z"
    }
   },
   "outputs": [
    {
     "data": {
      "text/plain": "Index(['Unnamed: 0', '시군구', '번지', '본번', '부번', '단지명', '전용면적(㎡)', '계약년월', '계약일',\n       '거래금액(만원)', '층', '건축년도', '도로명', '해제사유발생일'],\n      dtype='object')"
     },
     "execution_count": 9,
     "metadata": {},
     "output_type": "execute_result"
    }
   ],
   "source": [
    "df.columns"
   ]
  },
  {
   "cell_type": "code",
   "execution_count": 11,
   "metadata": {
    "ExecuteTime": {
     "end_time": "2021-02-15T00:44:16.433411Z",
     "start_time": "2021-02-15T00:44:16.411468Z"
    },
    "scrolled": true
   },
   "outputs": [
    {
     "name": "stdout",
     "output_type": "stream",
     "text": [
      "<class 'pandas.core.frame.DataFrame'>\n",
      "RangeIndex: 25921 entries, 0 to 25920\n",
      "Data columns (total 15 columns):\n",
      " #   Column      Non-Null Count  Dtype         \n",
      "---  ------      --------------  -----         \n",
      " 0   Unnamed: 0  25921 non-null  int64         \n",
      " 1   시군구         25921 non-null  object        \n",
      " 2   번지          25921 non-null  object        \n",
      " 3   본번          25921 non-null  int64         \n",
      " 4   부번          25921 non-null  int64         \n",
      " 5   단지명         25921 non-null  object        \n",
      " 6   전용면적(㎡)     25921 non-null  float64       \n",
      " 7   계약년월        25921 non-null  int64         \n",
      " 8   계약일         25921 non-null  int64         \n",
      " 9   거래금액(만원)    25921 non-null  object        \n",
      " 10  층           25921 non-null  int64         \n",
      " 11  건축년도        25921 non-null  int64         \n",
      " 12  도로명         25921 non-null  object        \n",
      " 13  해제사유발생일     0 non-null      float64       \n",
      " 14  년월          25921 non-null  datetime64[ns]\n",
      "dtypes: datetime64[ns](1), float64(2), int64(7), object(5)\n",
      "memory usage: 3.0+ MB\n"
     ]
    }
   ],
   "source": [
    "# 이전파일 건드리지 않으려면 반드시 copy로\r\n",
    "df1 = df.copy()\r\n",
    "\r\n",
    "# datetime으로 만들기\r\n",
    "\r\n",
    "df1[\"년월\"] = df1[\"계약년월\"].copy()\r\n",
    "#format=%Y%m 으로 포맷 바꿔주기.\r\n",
    "df1[\"년월\"] = pd.to_datetime(df1[\"년월\"], format='%Y%m', errors='ignore')\r\n",
    "\r\n",
    "df1[\"년월\"]\r\n",
    "# pd.to_datetime?\r\n",
    "df1.info()"
   ]
  },
  {
   "cell_type": "code",
   "execution_count": 18,
   "metadata": {},
   "outputs": [
    {
     "ename": "ValueError",
     "evalue": "Unable to parse string \"         4,200\" at position 0",
     "output_type": "error",
     "traceback": [
      "\u001b[1;31m---------------------------------------------------------------------------\u001b[0m",
      "\u001b[1;31mValueError\u001b[0m                                Traceback (most recent call last)",
      "\u001b[1;32mpandas\\_libs\\lib.pyx\u001b[0m in \u001b[0;36mpandas._libs.lib.maybe_convert_numeric\u001b[1;34m()\u001b[0m\n",
      "\u001b[1;31mValueError\u001b[0m: Unable to parse string \"         4,200\"",
      "\nDuring handling of the above exception, another exception occurred:\n",
      "\u001b[1;31mValueError\u001b[0m                                Traceback (most recent call last)",
      "\u001b[1;32m<ipython-input-18-f9d71fd77bc7>\u001b[0m in \u001b[0;36m<module>\u001b[1;34m\u001b[0m\n\u001b[0;32m      5\u001b[0m \u001b[0mdf1\u001b[0m\u001b[1;33m[\u001b[0m\u001b[1;34m\"금액\"\u001b[0m\u001b[1;33m]\u001b[0m\u001b[1;33m\u001b[0m\u001b[1;33m\u001b[0m\u001b[0m\n\u001b[0;32m      6\u001b[0m \"\"\"\n\u001b[1;32m----> 7\u001b[1;33m \u001b[0mdf1\u001b[0m\u001b[1;33m[\u001b[0m\u001b[1;34m\"금액\"\u001b[0m\u001b[1;33m]\u001b[0m \u001b[1;33m=\u001b[0m \u001b[0mpd\u001b[0m\u001b[1;33m.\u001b[0m\u001b[0mto_numeric\u001b[0m\u001b[1;33m(\u001b[0m\u001b[0mdf1\u001b[0m\u001b[1;33m[\u001b[0m\u001b[1;34m\"거래금액(만원)\"\u001b[0m\u001b[1;33m]\u001b[0m\u001b[1;33m)\u001b[0m\u001b[1;33m\u001b[0m\u001b[1;33m\u001b[0m\u001b[0m\n\u001b[0m\u001b[0;32m      8\u001b[0m \u001b[1;33m\u001b[0m\u001b[0m\n\u001b[0;32m      9\u001b[0m \u001b[1;33m\u001b[0m\u001b[0m\n",
      "\u001b[1;32mC:\\ProgramData\\Anaconda3\\lib\\site-packages\\pandas\\core\\tools\\numeric.py\u001b[0m in \u001b[0;36mto_numeric\u001b[1;34m(arg, errors, downcast)\u001b[0m\n\u001b[0;32m    150\u001b[0m         \u001b[0mcoerce_numeric\u001b[0m \u001b[1;33m=\u001b[0m \u001b[0merrors\u001b[0m \u001b[1;32mnot\u001b[0m \u001b[1;32min\u001b[0m \u001b[1;33m(\u001b[0m\u001b[1;34m\"ignore\"\u001b[0m\u001b[1;33m,\u001b[0m \u001b[1;34m\"raise\"\u001b[0m\u001b[1;33m)\u001b[0m\u001b[1;33m\u001b[0m\u001b[1;33m\u001b[0m\u001b[0m\n\u001b[0;32m    151\u001b[0m         \u001b[1;32mtry\u001b[0m\u001b[1;33m:\u001b[0m\u001b[1;33m\u001b[0m\u001b[1;33m\u001b[0m\u001b[0m\n\u001b[1;32m--> 152\u001b[1;33m             values = lib.maybe_convert_numeric(\n\u001b[0m\u001b[0;32m    153\u001b[0m                 \u001b[0mvalues\u001b[0m\u001b[1;33m,\u001b[0m \u001b[0mset\u001b[0m\u001b[1;33m(\u001b[0m\u001b[1;33m)\u001b[0m\u001b[1;33m,\u001b[0m \u001b[0mcoerce_numeric\u001b[0m\u001b[1;33m=\u001b[0m\u001b[0mcoerce_numeric\u001b[0m\u001b[1;33m\u001b[0m\u001b[1;33m\u001b[0m\u001b[0m\n\u001b[0;32m    154\u001b[0m             )\n",
      "\u001b[1;32mpandas\\_libs\\lib.pyx\u001b[0m in \u001b[0;36mpandas._libs.lib.maybe_convert_numeric\u001b[1;34m()\u001b[0m\n",
      "\u001b[1;31mValueError\u001b[0m: Unable to parse string \"         4,200\" at position 0"
     ]
    }
   ],
   "source": [
    "df1[\"거래금액(만원)\"]\r\n",
    "## 왜안돼?\r\n",
    "\"\"\"\r\n",
    "df1[\"금액\"] = pd.to_numeric(df1[\"거래금액(만원)\"],errors ='coerce')\r\n",
    "df1[\"금액\"]\r\n",
    "\"\"\"\r\n",
    "df1[\"금액\"] = pd.to_numeric(df1[\"거래금액(만원)\"])\r\n",
    "\r\n",
    "\"\"\"\r\n",
    "에러가 나는 이유. 아마 콤마때문인거같음.\r\n",
    "기본적으로 \r\n",
    " 값 중에 몇 개가 실수로 숫자로 된 문자열이 아니라 문자로 된 문자열이 몇 개 포함되어 있다고 해봅시다. 이럴 경우 문자열을 숫자로 파싱할 수 없다면서 ValueError가 발생하는데요,\r\n",
    "\r\n",
    "출처: https://rfriend.tistory.com/470 [R, Python 분석과 프로그래밍의 친구 (by R Friend)]\r\n",
    "\"\"\"\r\n",
    "\r\n"
   ]
  },
  {
   "cell_type": "code",
   "execution_count": 22,
   "metadata": {},
   "outputs": [],
   "source": [
    "import re"
   ]
  },
  {
   "cell_type": "code",
   "execution_count": 30,
   "metadata": {},
   "outputs": [
    {
     "name": "stdout",
     "output_type": "stream",
     "text": [
      "Hey What's up bro\n"
     ]
    }
   ],
   "source": [
    "# 문자열에서 제거하기\r\n",
    "\r\n",
    "string = \"Hey! What's up, bro?\"\r\n",
    "new_string = string.replace(\"!\",\"\").replace(\"?\",\"\").replace(\",\",\"\")\r\n",
    "#new_string = ''.join(filter(str.isalnum, string)) \r\n",
    "print(new_string)"
   ]
  },
  {
   "cell_type": "code",
   "execution_count": 38,
   "metadata": {},
   "outputs": [
    {
     "name": "stdout",
     "output_type": "stream",
     "text": [
      "Hey! What's up, bro?\n"
     ]
    }
   ],
   "source": [
    "\r\n",
    "\"\"\"\r\n",
    "# 특정 공백또는 문자 제거하기 \r\n",
    "string = \"Hey! What's up, bro?\"\r\n",
    "new_string = string.strip(\"W\")\r\n",
    "#df의 컬럼 a에 대해 적용 시킬 때\r\n",
    "df['a'].str.strip()\r\n",
    "#df 전체에 다 적용시킬 때\r\n",
    "df.apply(lambda x: x.str.strip(), axis = 1)\r\n",
    "print(new_string)\r\n",
    "\"\"\""
   ]
  },
  {
   "cell_type": "code",
   "execution_count": 42,
   "metadata": {},
   "outputs": [
    {
     "data": {
      "text/plain": "0                 4200\n1                 7500\n2                 8500\n3                12500\n4                 5998\n             ...      \n25916             6400\n25917             5500\n25918             4500\n25919             9000\n25920             7200\nName: 금액, Length: 25921, dtype: object"
     },
     "execution_count": 42,
     "metadata": {},
     "output_type": "execute_result"
    }
   ],
   "source": [
    "\r\n",
    "# ,가 문자열에 있어서 to_numeric에서  인식이 안되므로 ,제거하가ㅣ \r\n",
    "    # 성공! replace던 strip이던 컬럼에 적용할땐 항상 .str. 을 써야함을 잊지말것. \r\n",
    "df1[\"금액\"] =df1[\"거래금액(만원)\"].copy()\r\n",
    "df1[\"금액\"] = df1[\"금액\"].str.replace(\",\",\"\")\r\n",
    "df1[\"금액\"]"
   ]
  },
  {
   "cell_type": "code",
   "execution_count": 44,
   "metadata": {},
   "outputs": [
    {
     "data": {
      "text/plain": "0         4200\n1         7500\n2         8500\n3        12500\n4         5998\n         ...  \n25916     6400\n25917     5500\n25918     4500\n25919     9000\n25920     7200\nName: 금액, Length: 25921, dtype: int64"
     },
     "execution_count": 44,
     "metadata": {},
     "output_type": "execute_result"
    }
   ],
   "source": [
    "df1[\"금액\"] =pd.to_numeric(df1[\"금액\"])\r\n",
    "df1[\"금액\"]"
   ]
  },
  {
   "cell_type": "code",
   "execution_count": 12,
   "metadata": {},
   "outputs": [
    {
     "name": "stdout",
     "output_type": "stream",
     "text": [
      "<class 'pandas.core.frame.DataFrame'>\n",
      "RangeIndex: 25921 entries, 0 to 25920\n",
      "Data columns (total 17 columns):\n",
      " #   Column      Non-Null Count  Dtype         \n",
      "---  ------      --------------  -----         \n",
      " 0   Unnamed: 0  25921 non-null  int64         \n",
      " 1   시군구         25921 non-null  object        \n",
      " 2   번지          25921 non-null  object        \n",
      " 3   본번          25921 non-null  int64         \n",
      " 4   부번          25921 non-null  int64         \n",
      " 5   단지명         25921 non-null  object        \n",
      " 6   전용면적(㎡)     25921 non-null  float64       \n",
      " 7   계약년월        25921 non-null  int64         \n",
      " 8   계약일         25921 non-null  int64         \n",
      " 9   거래금액(만원)    25921 non-null  object        \n",
      " 10  층           25921 non-null  int64         \n",
      " 11  건축년도        25921 non-null  int64         \n",
      " 12  도로명         25921 non-null  object        \n",
      " 13  해제사유발생일     0 non-null      float64       \n",
      " 14  년월          25921 non-null  datetime64[ns]\n",
      " 15  금액          6 non-null      float64       \n",
      " 16  면적          25921 non-null  float64       \n",
      "dtypes: datetime64[ns](1), float64(4), int64(7), object(5)\n",
      "memory usage: 3.4+ MB\n"
     ]
    }
   ],
   "source": [
    "#스트링 숫자로 바꿔주기.\r\n",
    "#KeyError발생\r\n",
    "# df_next[\"분양가격\"] = pd.to_numeric(df_next[\"분양가격(㎡)\"],errors ='coerce')\r\n",
    "# 거래금액인데 잘못씀..\r\n",
    "df1[\"금액\"] = pd.to_numeric(df1[\"거래금액(만원)\"],errors ='coerce')\r\n",
    "\r\n",
    "df1[\"건축년도\"]=pd.to_numeric(df1[\"건축년도\"],errors ='coerce')\r\n",
    "\r\n",
    "df1[\"면적\"]=pd.to_numeric(df1[\"전용면적(㎡)\"],errors ='coerce')\r\n",
    "df1.info()"
   ]
  },
  {
   "cell_type": "code",
   "execution_count": 14,
   "metadata": {},
   "outputs": [
    {
     "data": {
      "text/plain": "0        1997\n1        1999\n2        1999\n3        1999\n4        1999\n         ... \n25916    1994\n25917    1994\n25918    1994\n25919    1994\n25920    1994\nName: 건축년도, Length: 25921, dtype: int64"
     },
     "execution_count": 14,
     "metadata": {},
     "output_type": "execute_result"
    }
   ],
   "source": [
    "df1[\"건축년도\"]\r\n"
   ]
  },
  {
   "cell_type": "code",
   "execution_count": null,
   "metadata": {
    "ExecuteTime": {
     "end_time": "2021-02-15T00:45:26.859604Z",
     "start_time": "2021-02-15T00:45:20.810477Z"
    }
   },
   "outputs": [],
   "source": [
    "\r\n"
   ]
  },
  {
   "cell_type": "code",
   "execution_count": null,
   "metadata": {
    "ExecuteTime": {
     "end_time": "2021-02-15T00:47:18.476997Z",
     "start_time": "2021-02-15T00:47:18.465029Z"
    },
    "scrolled": false
   },
   "outputs": [],
   "source": [
    "\r\n"
   ]
  },
  {
   "cell_type": "code",
   "execution_count": null,
   "metadata": {
    "ExecuteTime": {
     "end_time": "2021-02-15T00:52:57.472240Z",
     "start_time": "2021-02-15T00:52:57.435339Z"
    }
   },
   "outputs": [],
   "source": [
    "\r\n"
   ]
  },
  {
   "cell_type": "code",
   "execution_count": null,
   "metadata": {
    "ExecuteTime": {
     "end_time": "2021-02-15T00:49:13.341438Z",
     "start_time": "2021-02-15T00:49:13.334456Z"
    }
   },
   "outputs": [],
   "source": [
    "df.index[0:14]"
   ]
  },
  {
   "cell_type": "code",
   "execution_count": null,
   "metadata": {
    "ExecuteTime": {
     "end_time": "2021-03-21T06:44:37.813852Z",
     "start_time": "2021-03-21T06:44:31.035967Z"
    },
    "scrolled": true
   },
   "outputs": [],
   "source": []
  },
  {
   "cell_type": "code",
   "execution_count": null,
   "metadata": {
    "ExecuteTime": {
     "end_time": "2021-02-15T04:58:49.485197Z",
     "start_time": "2021-02-15T04:58:49.445304Z"
    },
    "scrolled": false
   },
   "outputs": [],
   "source": []
  },
  {
   "cell_type": "code",
   "execution_count": null,
   "metadata": {
    "ExecuteTime": {
     "end_time": "2021-02-15T05:22:34.757394Z",
     "start_time": "2021-02-15T05:22:34.697363Z"
    }
   },
   "outputs": [],
   "source": []
  },
  {
   "cell_type": "code",
   "execution_count": null,
   "metadata": {
    "ExecuteTime": {
     "end_time": "2021-02-15T05:51:47.807316Z",
     "start_time": "2021-02-15T05:51:47.747476Z"
    },
    "scrolled": true
   },
   "outputs": [],
   "source": [
    "#스트링 숫자로 바꿔주기.\n",
    "#KeyError발생\n",
    "# df_next[\"분양가격\"] = pd.to_numeric(df_next[\"분양가격(㎡)\"],errors ='coerce')\n",
    "# 거래금액인데 잘못씀..\n",
    "df1[\"금액\"] = pd.to_numeric(df1[\"거래금액(만원)\"],errors ='coerce')\n",
    "\n",
    "df1[\"건축년도\"]=pd.to_numeric(df1[\"건축년도\"],errors ='coerce')\n",
    "\n",
    "df1[\"면적\"]=pd.to_numeric(df1[\"전용면적(㎡)\"],errors ='coerce')\n",
    "df1.info()"
   ]
  },
  {
   "cell_type": "code",
   "execution_count": null,
   "metadata": {},
   "outputs": [],
   "source": []
  },
  {
   "cell_type": "markdown",
   "metadata": {},
   "source": [
    "계획. \n",
    "1. 지역명으로 분리 replace사용.\n",
    "\n",
    "2. 구별로 분리\n"
   ]
  },
  {
   "cell_type": "code",
   "execution_count": null,
   "metadata": {},
   "outputs": [],
   "source": [
    "df['동찾기'] = df[\"법정동\"].str.contains(\"창\", case=False, na=False).astype(int)\n",
    "df['동찾기']"
   ]
  },
  {
   "cell_type": "code",
   "execution_count": null,
   "metadata": {
    "ExecuteTime": {
     "end_time": "2021-02-15T05:58:12.611055Z",
     "start_time": "2021-02-15T05:58:12.586122Z"
    }
   },
   "outputs": [],
   "source": [
    "#해제사유등 필요없는것 제거하기.\n",
    "\n",
    "# axis=1을 쓰면 열을 지우고 df.drop([0, 1], axis=0) 처럼 0을쓰면 인덱스(행)을 지움.\n",
    "# 주의 행의 이름은 B랑 C가 아닌 0 1인데 이는 스트링이 아니므로 ''없이 하면됨.\n",
    "df2 = df1.drop([\"해제사유발생일\", \"계약년월\",\"단지명\",\"계약일\",\"층\",\"도로명\",\"번지\",\"본번\",\"거래금액(만원)\",\"전용면적(㎡)\",\"부번\"]\n",
    "               ,axis=1).copy()\n"
   ]
  },
  {
   "cell_type": "code",
   "execution_count": null,
   "metadata": {
    "ExecuteTime": {
     "end_time": "2021-02-15T08:01:42.278953Z",
     "start_time": "2021-02-15T08:01:42.249033Z"
    },
    "scrolled": true
   },
   "outputs": [],
   "source": [
    "df2['지역'] = \"서울\"\n",
    "df2.info()"
   ]
  },
  {
   "cell_type": "code",
   "execution_count": null,
   "metadata": {
    "ExecuteTime": {
     "end_time": "2021-02-15T22:56:09.582317Z",
     "start_time": "2021-02-15T22:56:09.025482Z"
    }
   },
   "outputs": [],
   "source": [
    " #지역으로 나누기.\n",
    "df2[\"서울\"] = df2[\"시군구\"].str.contains(\"서울\", case=False, na=False).astype(int)\n",
    "df2[\"서울\"].sum()\n",
    "df2[\"대전\"] = df2[\"시군구\"].str.contains(\"대전\", case=False, na=False).astype(int)\n",
    "df2[\"대전\"].sum()\n",
    "\n",
    "location =[]\n",
    "location = [\"강원도\",     \n",
    "            \"경기도\"  ,  \n",
    "            \"경상남도\" ,    \n",
    "            \"경상북도\"  ,   \n",
    "            \"광주광역\"     ,\n",
    "            \"대구광역\"  ,\n",
    "            \"대전광역\"   ,\n",
    "            \"부산광역\"   ,\n",
    "            \"서울특별\"    ,\n",
    "            \"세종특별\",\n",
    "             \"울산광역\"    ,\n",
    "            \"인천광역\"    ,\n",
    "            \"전라남도\" ,    \n",
    "            \"전라북도\"  ,   \n",
    "            \"제주특별\"    ,\n",
    "            \"충청남도\" ,   \n",
    "            \"충청북도\"  ] \n",
    "\n",
    "for i in location :\n",
    "    df2[i] =  df2[\"시군구\"].str.contains(i, case=False, na=False).astype(int)\n",
    "    df2.loc[(df2[i] ==  1) , '지역'] = i\n",
    "\n",
    "df2[\"지역\"].value_counts()"
   ]
  },
  {
   "cell_type": "code",
   "execution_count": null,
   "metadata": {
    "ExecuteTime": {
     "end_time": "2021-02-15T22:48:58.228433Z",
     "start_time": "2021-02-15T22:48:58.202504Z"
    }
   },
   "outputs": [],
   "source": [
    "df2[\"강원도\"].sum()+df2[\"경기도\"].sum()+df2[\"경상남도\"].sum()+df2[\"경상북도\"].sum()+df2[\"광주광역\"].sum()+df2[\"대구광역\"].sum()+df2[\"대전광역\"].sum()+df2[\"부산광역\"].sum()+df2[\"서울특별\"].sum()+df2[\"세종특별\"].sum()+df2[\"울산광역\"].sum()+df2[\"인천광역\"].sum()+df2[\"전라남도\"].sum()+df2[\"전라북도\"].sum()+df2[\"제주특별\"].sum()+df2[\"충청남도\"].sum() +df2[\"충청북도\"].sum()\n",
    "\n",
    "\n",
    "\n",
    "#뭔가잘못됐네.. 뭔가 누락됨. 해결 제주특별 이었음.."
   ]
  },
  {
   "cell_type": "code",
   "execution_count": 47,
   "metadata": {
    "ExecuteTime": {
     "end_time": "2021-02-15T08:27:54.464661Z",
     "start_time": "2021-02-15T08:27:54.444719Z"
    }
   },
   "outputs": [
    {
     "data": {
      "text/plain": "88"
     },
     "execution_count": 47,
     "metadata": {},
     "output_type": "execute_result"
    }
   ],
   "source": [
    "df2[\"세종특별\"].sum()"
   ]
  },
  {
   "cell_type": "code",
   "execution_count": 48,
   "metadata": {
    "ExecuteTime": {
     "end_time": "2021-02-15T08:20:09.197886Z",
     "start_time": "2021-02-15T08:20:09.127077Z"
    }
   },
   "outputs": [],
   "source": [
    "\r\n"
   ]
  },
  {
   "cell_type": "code",
   "execution_count": 49,
   "metadata": {},
   "outputs": [
    {
     "data": {
      "text/plain": "0        0\n1        0\n2        0\n3        0\n4        0\n        ..\n25916    0\n25917    0\n25918    0\n25919    0\n25920    0\nName: 강남구, Length: 25921, dtype: int32"
     },
     "execution_count": 49,
     "metadata": {},
     "output_type": "execute_result"
    }
   ],
   "source": [
    "df2[\"강남구\"]"
   ]
  },
  {
   "cell_type": "code",
   "execution_count": null,
   "metadata": {
    "ExecuteTime": {
     "end_time": "2021-02-15T22:47:13.084387Z",
     "start_time": "2021-02-15T22:47:13.044492Z"
    }
   },
   "outputs": [],
   "source": [
    "###문제 \n",
    "###문제 \n",
    "###문제 \n",
    "###문제 \n",
    "\n",
    "\n",
    "df2[\"면적\"]\n",
    "\n",
    "# value error \n",
    "# if df2[\"면적\"] <= 85 & df2[\"면적\"] >= 60 :\n",
    "#     df2[\"크기\"] = \"소형 \"\n",
    "#type error \n",
    "# if df2[\"면적\"] <= 85\n",
    "#  df2[\"크기\"] = \"소형 \"\n",
    "# if df2[\"면적\"] <= 60\n",
    "#     df2[\"크기\"] =  1 \n",
    "\n",
    "# print df2 if df2[\"면적\"] <= 60\n",
    "# #뭘 못하고있는가? 범주로 쪼개서 새로운 변수 만들기.\n",
    "#  [x for x in raw_fe.columns if x not in Y_colname+X_remove]\n",
    "\n",
    "df2[\"면적\"]>= 60 #이건됨 \n",
    "\n",
    "#이건 타입에러가남. \n",
    "# df2[\"면적\"]>= 60  & df2[\"면적\"] <= 85 \n",
    "\n",
    "# value error \n",
    "# df2[\"면적\"]>= 60.0 and   df2[\"면적\"] <= 85.0\n",
    "df2[\"크기\"] = df2[\"면적\"] <= 85.0 \n",
    "# if  df2[\"면적\"]>= 60.0 :\n",
    "#     if  df2[\"면적\"] <= 85.0 :\n",
    "#         df2[\"크기\"] = \"중형\"\n",
    "#     else :\n",
    "#         df2[\"크기\"] = \"대형\"\n",
    "# df2[\"확인\"] = 1 if df2[\"크기\"]==True #안됨\n",
    "\n",
    "\n",
    "\n",
    " \n",
    "#boolean 인덱싱 불리언 인덱싱\n",
    "\n",
    "# names = np.array[df2[\"면적\"]]\n",
    "df2[\"소형\"] = df2[\"면적\"]<= 60\n",
    "df2[\"대형\"] =  df2[\"면적\"]> 85\n",
    "# if df2[\"대형\"]==False and df2[\"소형\"] ==False :\n",
    "#     df2[\"중형\"]\n",
    "    \n",
    "#df2[\"면적\"]> 60  and  df2[\"면적\"] <85\n",
    "type(df2[\"소형\"])\n",
    "\n",
    "df2.loc[(df2['면적'] >  60) & (df2['면적'] <= 85), '크기'] = '중형' \n",
    "df2.loc[(df2['면적'] <=  60),'크기'] = '소형'\n",
    "df2.loc[(df2['면적'] > 85), '크기'] = '대형'\n",
    "\n",
    "# https://datatofish.com/if-condition-in-pandas-dataframe/\n",
    "\n",
    "\n",
    "# df2.count() if df2['크기'] ==\"대형\" \n",
    "#질문 '' 와 \" \" 의 차이? \n",
    "#갯수 카운트하기\n",
    "df2['크기'].value_counts()\n",
    "df2['제주특별'].value_counts() \n",
    "# df2.info()"
   ]
  },
  {
   "cell_type": "code",
   "execution_count": 81,
   "metadata": {},
   "outputs": [
    {
     "data": {
      "text/plain": "0        0.0\n1        0.0\n2        0.0\n3        0.0\n4        0.0\n        ... \n25916    0.0\n25917    0.0\n25918    0.0\n25919    0.0\n25920    0.0\nName: 강남3구, Length: 25921, dtype: float64"
     },
     "execution_count": 81,
     "metadata": {},
     "output_type": "execute_result"
    }
   ],
   "source": [
    "#강남 송파 서초 3구 따로 묶어보기 ..abs\r\n",
    "df2[\"강남구\"] = df2[\"시군구\"].str.contains(\"서울특별시 강남구\", case=False, na=False).astype(int)\r\n",
    "df2[\"서초구\"] = df2[\"시군구\"].str.contains(\"서울특별시 서초구\", case=False, na=False).astype(int)\r\n",
    "df2[\"송파구\"] = df2[\"시군구\"].str.contains(\"서울특별시 송파구\", case=False, na=False).astype(int)\r\n",
    "df2.loc[(df2['강남구'] == 1) | (df2['서초구'] == 1) |  (df2['송파구'] == 1) , \"강남3구\"] = 1\r\n",
    "\r\n",
    "#Nan 0으로 만들기\r\n",
    "df2[\"강남3구\"] = df2[\"강남3구\"].fillna(0).copy()\r\n",
    "\r\n",
    "#확인하기 \r\n",
    "df2[\"강남3구\"].value_counts()"
   ]
  },
  {
   "cell_type": "code",
   "execution_count": 84,
   "metadata": {},
   "outputs": [
    {
     "data": {
      "text/plain": "0.0    24158\n1.0     1763\nName: 강남3구, dtype: int64"
     },
     "execution_count": 84,
     "metadata": {},
     "output_type": "execute_result"
    }
   ],
   "source": [
    "df2[\"강남3구\"].value_counts()\r\n"
   ]
  },
  {
   "cell_type": "markdown",
   "metadata": {},
   "source": [
    "\n",
    "# Code Summary\n",
    "\n"
   ]
  },
  {
   "cell_type": "code",
   "execution_count": 4,
   "metadata": {
    "ExecuteTime": {
     "end_time": "2021-03-21T06:46:31.486143Z",
     "start_time": "2021-03-21T06:46:31.127097Z"
    }
   },
   "outputs": [],
   "source": [
    "import requests, bs4\r\n",
    "import pandas as pd\r\n",
    "import tqdm\r\n",
    "from lxml import html #html.lxml 로 써진 것. 즉 html.lxml 로 써야하는 명령어를 lxml만써도 작동하게해줌.\r\n",
    "from urllib.request import Request, urlopen\r\n",
    "from urllib.parse import urlencode, quote_plus, unquote\r\n",
    "from pprint import pprint\r\n",
    "import numpy as np"
   ]
  },
  {
   "cell_type": "code",
   "execution_count": 8,
   "metadata": {
    "ExecuteTime": {
     "end_time": "2021-03-21T06:46:41.072481Z",
     "start_time": "2021-03-21T06:46:33.442977Z"
    }
   },
   "outputs": [
    {
     "name": "stdout",
     "output_type": "stream",
     "text": [
      "<class 'pandas.core.frame.DataFrame'>\n",
      "RangeIndex: 25921 entries, 0 to 25920\n",
      "Data columns (total 31 columns):\n",
      " #   Column      Non-Null Count  Dtype         \n",
      "---  ------      --------------  -----         \n",
      " 0   Unnamed: 0  25921 non-null  int64         \n",
      " 1   시군구         25921 non-null  object        \n",
      " 2   건축년도        25921 non-null  int64         \n",
      " 3   년월          25921 non-null  datetime64[ns]\n",
      " 4   금액          25921 non-null  int64         \n",
      " 5   면적          25921 non-null  float64       \n",
      " 6   크기          25921 non-null  object        \n",
      " 7   서울          25921 non-null  int32         \n",
      " 8   대전          25921 non-null  int32         \n",
      " 9   강원도         25921 non-null  int32         \n",
      " 10  지역          25921 non-null  object        \n",
      " 11  경기도         25921 non-null  int32         \n",
      " 12  경상남도        25921 non-null  int32         \n",
      " 13  경상북도        25921 non-null  int32         \n",
      " 14  광주광역        25921 non-null  int32         \n",
      " 15  대구광역        25921 non-null  int32         \n",
      " 16  대전광역        25921 non-null  int32         \n",
      " 17  부산광역        25921 non-null  int32         \n",
      " 18  서울특별        25921 non-null  int32         \n",
      " 19  세종특별        25921 non-null  int32         \n",
      " 20  울산광역        25921 non-null  int32         \n",
      " 21  인천광역        25921 non-null  int32         \n",
      " 22  전라남도        25921 non-null  int32         \n",
      " 23  전라북도        25921 non-null  int32         \n",
      " 24  제주특별        25921 non-null  int32         \n",
      " 25  충청남도        25921 non-null  int32         \n",
      " 26  충청북도        25921 non-null  int32         \n",
      " 27  강남구         25921 non-null  int32         \n",
      " 28  서초구         25921 non-null  int32         \n",
      " 29  송파구         25921 non-null  int32         \n",
      " 30  강남3구        25921 non-null  float64       \n",
      "dtypes: datetime64[ns](1), float64(2), int32(22), int64(3), object(3)\n",
      "memory usage: 4.0+ MB\n",
      "<class 'pandas.core.frame.DataFrame'>\n",
      "RangeIndex: 44742 entries, 0 to 44741\n",
      "Data columns (total 31 columns):\n",
      " #   Column      Non-Null Count  Dtype         \n",
      "---  ------      --------------  -----         \n",
      " 0   Unnamed: 0  44742 non-null  int64         \n",
      " 1   시군구         44742 non-null  object        \n",
      " 2   건축년도        44742 non-null  int64         \n",
      " 3   년월          44742 non-null  datetime64[ns]\n",
      " 4   금액          44742 non-null  int64         \n",
      " 5   면적          44742 non-null  float64       \n",
      " 6   크기          44742 non-null  object        \n",
      " 7   서울          44742 non-null  int32         \n",
      " 8   대전          44742 non-null  int32         \n",
      " 9   강원도         44742 non-null  int32         \n",
      " 10  지역          44742 non-null  object        \n",
      " 11  경기도         44742 non-null  int32         \n",
      " 12  경상남도        44742 non-null  int32         \n",
      " 13  경상북도        44742 non-null  int32         \n",
      " 14  광주광역        44742 non-null  int32         \n",
      " 15  대구광역        44742 non-null  int32         \n",
      " 16  대전광역        44742 non-null  int32         \n",
      " 17  부산광역        44742 non-null  int32         \n",
      " 18  서울특별        44742 non-null  int32         \n",
      " 19  세종특별        44742 non-null  int32         \n",
      " 20  울산광역        44742 non-null  int32         \n",
      " 21  인천광역        44742 non-null  int32         \n",
      " 22  전라남도        44742 non-null  int32         \n",
      " 23  전라북도        44742 non-null  int32         \n",
      " 24  제주특별        44742 non-null  int32         \n",
      " 25  충청남도        44742 non-null  int32         \n",
      " 26  충청북도        44742 non-null  int32         \n",
      " 27  강남구         44742 non-null  int32         \n",
      " 28  서초구         44742 non-null  int32         \n",
      " 29  송파구         44742 non-null  int32         \n",
      " 30  강남3구        44742 non-null  float64       \n",
      "dtypes: datetime64[ns](1), float64(2), int32(22), int64(3), object(3)\n",
      "memory usage: 6.8+ MB\n",
      "<class 'pandas.core.frame.DataFrame'>\n",
      "RangeIndex: 58448 entries, 0 to 58447\n",
      "Data columns (total 31 columns):\n",
      " #   Column      Non-Null Count  Dtype         \n",
      "---  ------      --------------  -----         \n",
      " 0   Unnamed: 0  58448 non-null  int64         \n",
      " 1   시군구         58448 non-null  object        \n",
      " 2   건축년도        58448 non-null  int64         \n",
      " 3   년월          58448 non-null  datetime64[ns]\n",
      " 4   금액          58448 non-null  int64         \n",
      " 5   면적          58448 non-null  float64       \n",
      " 6   크기          58448 non-null  object        \n",
      " 7   서울          58448 non-null  int32         \n",
      " 8   대전          58448 non-null  int32         \n",
      " 9   강원도         58448 non-null  int32         \n",
      " 10  지역          58448 non-null  object        \n",
      " 11  경기도         58448 non-null  int32         \n",
      " 12  경상남도        58448 non-null  int32         \n",
      " 13  경상북도        58448 non-null  int32         \n",
      " 14  광주광역        58448 non-null  int32         \n",
      " 15  대구광역        58448 non-null  int32         \n",
      " 16  대전광역        58448 non-null  int32         \n",
      " 17  부산광역        58448 non-null  int32         \n",
      " 18  서울특별        58448 non-null  int32         \n",
      " 19  세종특별        58448 non-null  int32         \n",
      " 20  울산광역        58448 non-null  int32         \n",
      " 21  인천광역        58448 non-null  int32         \n",
      " 22  전라남도        58448 non-null  int32         \n",
      " 23  전라북도        58448 non-null  int32         \n",
      " 24  제주특별        58448 non-null  int32         \n",
      " 25  충청남도        58448 non-null  int32         \n",
      " 26  충청북도        58448 non-null  int32         \n",
      " 27  강남구         58448 non-null  int32         \n",
      " 28  서초구         58448 non-null  int32         \n",
      " 29  송파구         58448 non-null  int32         \n",
      " 30  강남3구        58448 non-null  float64       \n",
      "dtypes: datetime64[ns](1), float64(2), int32(22), int64(3), object(3)\n",
      "memory usage: 8.9+ MB\n",
      "<class 'pandas.core.frame.DataFrame'>\n",
      "RangeIndex: 50075 entries, 0 to 50074\n",
      "Data columns (total 31 columns):\n",
      " #   Column      Non-Null Count  Dtype         \n",
      "---  ------      --------------  -----         \n",
      " 0   Unnamed: 0  50075 non-null  int64         \n",
      " 1   시군구         50075 non-null  object        \n",
      " 2   건축년도        50075 non-null  int64         \n",
      " 3   년월          50075 non-null  datetime64[ns]\n",
      " 4   금액          50075 non-null  int64         \n",
      " 5   면적          50075 non-null  float64       \n",
      " 6   크기          50075 non-null  object        \n",
      " 7   서울          50075 non-null  int32         \n",
      " 8   대전          50075 non-null  int32         \n",
      " 9   강원도         50075 non-null  int32         \n",
      " 10  지역          50075 non-null  object        \n",
      " 11  경기도         50075 non-null  int32         \n",
      " 12  경상남도        50075 non-null  int32         \n",
      " 13  경상북도        50075 non-null  int32         \n",
      " 14  광주광역        50075 non-null  int32         \n",
      " 15  대구광역        50075 non-null  int32         \n",
      " 16  대전광역        50075 non-null  int32         \n",
      " 17  부산광역        50075 non-null  int32         \n",
      " 18  서울특별        50075 non-null  int32         \n",
      " 19  세종특별        50075 non-null  int32         \n",
      " 20  울산광역        50075 non-null  int32         \n",
      " 21  인천광역        50075 non-null  int32         \n",
      " 22  전라남도        50075 non-null  int32         \n",
      " 23  전라북도        50075 non-null  int32         \n",
      " 24  제주특별        50075 non-null  int32         \n",
      " 25  충청남도        50075 non-null  int32         \n",
      " 26  충청북도        50075 non-null  int32         \n",
      " 27  강남구         50075 non-null  int32         \n",
      " 28  서초구         50075 non-null  int32         \n",
      " 29  송파구         50075 non-null  int32         \n",
      " 30  강남3구        50075 non-null  float64       \n",
      "dtypes: datetime64[ns](1), float64(2), int32(22), int64(3), object(3)\n",
      "memory usage: 7.6+ MB\n"
     ]
    },
    {
     "ename": "KeyboardInterrupt",
     "evalue": "",
     "output_type": "error",
     "traceback": [
      "\u001b[1;31m---------------------------------------------------------------------------\u001b[0m",
      "\u001b[1;31mKeyboardInterrupt\u001b[0m                         Traceback (most recent call last)",
      "\u001b[1;32m<ipython-input-8-9788c13eb66b>\u001b[0m in \u001b[0;36m<module>\u001b[1;34m\u001b[0m\n\u001b[0;32m    103\u001b[0m \u001b[1;33m\u001b[0m\u001b[0m\n\u001b[0;32m    104\u001b[0m     \u001b[1;31m#수정된 파일 새경로에 저장하기\u001b[0m\u001b[1;33m\u001b[0m\u001b[1;33m\u001b[0m\u001b[1;33m\u001b[0m\u001b[0m\n\u001b[1;32m--> 105\u001b[1;33m     \u001b[0mdf1\u001b[0m\u001b[1;33m.\u001b[0m\u001b[0mto_excel\u001b[0m\u001b[1;33m(\u001b[0m\u001b[1;33m(\u001b[0m\u001b[1;34m\"monthlydata/apt20060\"\u001b[0m\u001b[1;33m+\u001b[0m\u001b[0mstr\u001b[0m\u001b[1;33m(\u001b[0m\u001b[0mz\u001b[0m\u001b[1;33m)\u001b[0m\u001b[1;33m+\u001b[0m\u001b[1;34m\".xlsx\"\u001b[0m \u001b[1;33m)\u001b[0m\u001b[1;33m)\u001b[0m\u001b[1;33m\u001b[0m\u001b[1;33m\u001b[0m\u001b[0m\n\u001b[0m",
      "\u001b[1;32mC:\\ProgramData\\Anaconda3\\lib\\site-packages\\pandas\\core\\generic.py\u001b[0m in \u001b[0;36mto_excel\u001b[1;34m(self, excel_writer, sheet_name, na_rep, float_format, columns, header, index, index_label, startrow, startcol, engine, merge_cells, encoding, inf_rep, verbose, freeze_panes)\u001b[0m\n\u001b[0;32m   2024\u001b[0m             \u001b[0minf_rep\u001b[0m\u001b[1;33m=\u001b[0m\u001b[0minf_rep\u001b[0m\u001b[1;33m,\u001b[0m\u001b[1;33m\u001b[0m\u001b[1;33m\u001b[0m\u001b[0m\n\u001b[0;32m   2025\u001b[0m         )\n\u001b[1;32m-> 2026\u001b[1;33m         formatter.write(\n\u001b[0m\u001b[0;32m   2027\u001b[0m             \u001b[0mexcel_writer\u001b[0m\u001b[1;33m,\u001b[0m\u001b[1;33m\u001b[0m\u001b[1;33m\u001b[0m\u001b[0m\n\u001b[0;32m   2028\u001b[0m             \u001b[0msheet_name\u001b[0m\u001b[1;33m=\u001b[0m\u001b[0msheet_name\u001b[0m\u001b[1;33m,\u001b[0m\u001b[1;33m\u001b[0m\u001b[1;33m\u001b[0m\u001b[0m\n",
      "\u001b[1;32mC:\\ProgramData\\Anaconda3\\lib\\site-packages\\pandas\\io\\formats\\excel.py\u001b[0m in \u001b[0;36mwrite\u001b[1;34m(self, writer, sheet_name, startrow, startcol, freeze_panes, engine)\u001b[0m\n\u001b[0;32m    740\u001b[0m         )\n\u001b[0;32m    741\u001b[0m         \u001b[1;32mif\u001b[0m \u001b[0mneed_save\u001b[0m\u001b[1;33m:\u001b[0m\u001b[1;33m\u001b[0m\u001b[1;33m\u001b[0m\u001b[0m\n\u001b[1;32m--> 742\u001b[1;33m             \u001b[0mwriter\u001b[0m\u001b[1;33m.\u001b[0m\u001b[0msave\u001b[0m\u001b[1;33m(\u001b[0m\u001b[1;33m)\u001b[0m\u001b[1;33m\u001b[0m\u001b[1;33m\u001b[0m\u001b[0m\n\u001b[0m",
      "\u001b[1;32mC:\\ProgramData\\Anaconda3\\lib\\site-packages\\pandas\\io\\excel\\_xlsxwriter.py\u001b[0m in \u001b[0;36msave\u001b[1;34m(self)\u001b[0m\n\u001b[0;32m    191\u001b[0m         \u001b[0mSave\u001b[0m \u001b[0mworkbook\u001b[0m \u001b[0mto\u001b[0m \u001b[0mdisk\u001b[0m\u001b[1;33m.\u001b[0m\u001b[1;33m\u001b[0m\u001b[1;33m\u001b[0m\u001b[0m\n\u001b[0;32m    192\u001b[0m         \"\"\"\n\u001b[1;32m--> 193\u001b[1;33m         \u001b[1;32mreturn\u001b[0m \u001b[0mself\u001b[0m\u001b[1;33m.\u001b[0m\u001b[0mbook\u001b[0m\u001b[1;33m.\u001b[0m\u001b[0mclose\u001b[0m\u001b[1;33m(\u001b[0m\u001b[1;33m)\u001b[0m\u001b[1;33m\u001b[0m\u001b[1;33m\u001b[0m\u001b[0m\n\u001b[0m\u001b[0;32m    194\u001b[0m \u001b[1;33m\u001b[0m\u001b[0m\n\u001b[0;32m    195\u001b[0m     def write_cells(\n",
      "\u001b[1;32mC:\\ProgramData\\Anaconda3\\lib\\site-packages\\xlsxwriter\\workbook.py\u001b[0m in \u001b[0;36mclose\u001b[1;34m(self)\u001b[0m\n\u001b[0;32m    318\u001b[0m \u001b[1;33m\u001b[0m\u001b[0m\n\u001b[0;32m    319\u001b[0m             \u001b[1;32mtry\u001b[0m\u001b[1;33m:\u001b[0m\u001b[1;33m\u001b[0m\u001b[1;33m\u001b[0m\u001b[0m\n\u001b[1;32m--> 320\u001b[1;33m                 \u001b[0mself\u001b[0m\u001b[1;33m.\u001b[0m\u001b[0m_store_workbook\u001b[0m\u001b[1;33m(\u001b[0m\u001b[1;33m)\u001b[0m\u001b[1;33m\u001b[0m\u001b[1;33m\u001b[0m\u001b[0m\n\u001b[0m\u001b[0;32m    321\u001b[0m             \u001b[1;32mexcept\u001b[0m \u001b[0mIOError\u001b[0m \u001b[1;32mas\u001b[0m \u001b[0me\u001b[0m\u001b[1;33m:\u001b[0m\u001b[1;33m\u001b[0m\u001b[1;33m\u001b[0m\u001b[0m\n\u001b[0;32m    322\u001b[0m                 \u001b[1;32mraise\u001b[0m \u001b[0mFileCreateError\u001b[0m\u001b[1;33m(\u001b[0m\u001b[0me\u001b[0m\u001b[1;33m)\u001b[0m\u001b[1;33m\u001b[0m\u001b[1;33m\u001b[0m\u001b[0m\n",
      "\u001b[1;32mC:\\ProgramData\\Anaconda3\\lib\\site-packages\\xlsxwriter\\workbook.py\u001b[0m in \u001b[0;36m_store_workbook\u001b[1;34m(self)\u001b[0m\n\u001b[0;32m    683\u001b[0m         \u001b[0mpackager\u001b[0m\u001b[1;33m.\u001b[0m\u001b[0m_set_tmpdir\u001b[0m\u001b[1;33m(\u001b[0m\u001b[0mself\u001b[0m\u001b[1;33m.\u001b[0m\u001b[0mtmpdir\u001b[0m\u001b[1;33m)\u001b[0m\u001b[1;33m\u001b[0m\u001b[1;33m\u001b[0m\u001b[0m\n\u001b[0;32m    684\u001b[0m         \u001b[0mpackager\u001b[0m\u001b[1;33m.\u001b[0m\u001b[0m_set_in_memory\u001b[0m\u001b[1;33m(\u001b[0m\u001b[0mself\u001b[0m\u001b[1;33m.\u001b[0m\u001b[0min_memory\u001b[0m\u001b[1;33m)\u001b[0m\u001b[1;33m\u001b[0m\u001b[1;33m\u001b[0m\u001b[0m\n\u001b[1;32m--> 685\u001b[1;33m         \u001b[0mxml_files\u001b[0m \u001b[1;33m=\u001b[0m \u001b[0mpackager\u001b[0m\u001b[1;33m.\u001b[0m\u001b[0m_create_package\u001b[0m\u001b[1;33m(\u001b[0m\u001b[1;33m)\u001b[0m\u001b[1;33m\u001b[0m\u001b[1;33m\u001b[0m\u001b[0m\n\u001b[0m\u001b[0;32m    686\u001b[0m \u001b[1;33m\u001b[0m\u001b[0m\n\u001b[0;32m    687\u001b[0m         \u001b[1;31m# Free up the Packager object.\u001b[0m\u001b[1;33m\u001b[0m\u001b[1;33m\u001b[0m\u001b[1;33m\u001b[0m\u001b[0m\n",
      "\u001b[1;32mC:\\ProgramData\\Anaconda3\\lib\\site-packages\\xlsxwriter\\packager.py\u001b[0m in \u001b[0;36m_create_package\u001b[1;34m(self)\u001b[0m\n\u001b[0;32m    133\u001b[0m         \u001b[0mself\u001b[0m\u001b[1;33m.\u001b[0m\u001b[0m_write_root_rels_file\u001b[0m\u001b[1;33m(\u001b[0m\u001b[1;33m)\u001b[0m\u001b[1;33m\u001b[0m\u001b[1;33m\u001b[0m\u001b[0m\n\u001b[0;32m    134\u001b[0m         \u001b[0mself\u001b[0m\u001b[1;33m.\u001b[0m\u001b[0m_write_workbook_rels_file\u001b[0m\u001b[1;33m(\u001b[0m\u001b[1;33m)\u001b[0m\u001b[1;33m\u001b[0m\u001b[1;33m\u001b[0m\u001b[0m\n\u001b[1;32m--> 135\u001b[1;33m         \u001b[0mself\u001b[0m\u001b[1;33m.\u001b[0m\u001b[0m_write_worksheet_files\u001b[0m\u001b[1;33m(\u001b[0m\u001b[1;33m)\u001b[0m\u001b[1;33m\u001b[0m\u001b[1;33m\u001b[0m\u001b[0m\n\u001b[0m\u001b[0;32m    136\u001b[0m         \u001b[0mself\u001b[0m\u001b[1;33m.\u001b[0m\u001b[0m_write_chartsheet_files\u001b[0m\u001b[1;33m(\u001b[0m\u001b[1;33m)\u001b[0m\u001b[1;33m\u001b[0m\u001b[1;33m\u001b[0m\u001b[0m\n\u001b[0;32m    137\u001b[0m         \u001b[0mself\u001b[0m\u001b[1;33m.\u001b[0m\u001b[0m_write_workbook_file\u001b[0m\u001b[1;33m(\u001b[0m\u001b[1;33m)\u001b[0m\u001b[1;33m\u001b[0m\u001b[1;33m\u001b[0m\u001b[0m\n",
      "\u001b[1;32mC:\\ProgramData\\Anaconda3\\lib\\site-packages\\xlsxwriter\\packager.py\u001b[0m in \u001b[0;36m_write_worksheet_files\u001b[1;34m(self)\u001b[0m\n\u001b[0;32m    188\u001b[0m             worksheet._set_xml_writer(self._filename('xl/worksheets/sheet'\n\u001b[0;32m    189\u001b[0m                                                      + str(index) + '.xml'))\n\u001b[1;32m--> 190\u001b[1;33m             \u001b[0mworksheet\u001b[0m\u001b[1;33m.\u001b[0m\u001b[0m_assemble_xml_file\u001b[0m\u001b[1;33m(\u001b[0m\u001b[1;33m)\u001b[0m\u001b[1;33m\u001b[0m\u001b[1;33m\u001b[0m\u001b[0m\n\u001b[0m\u001b[0;32m    191\u001b[0m             \u001b[0mindex\u001b[0m \u001b[1;33m+=\u001b[0m \u001b[1;36m1\u001b[0m\u001b[1;33m\u001b[0m\u001b[1;33m\u001b[0m\u001b[0m\n\u001b[0;32m    192\u001b[0m \u001b[1;33m\u001b[0m\u001b[0m\n",
      "\u001b[1;32mC:\\ProgramData\\Anaconda3\\lib\\site-packages\\xlsxwriter\\worksheet.py\u001b[0m in \u001b[0;36m_assemble_xml_file\u001b[1;34m(self)\u001b[0m\n\u001b[0;32m   3873\u001b[0m         \u001b[1;31m# Write the worksheet data such as rows columns and cells.\u001b[0m\u001b[1;33m\u001b[0m\u001b[1;33m\u001b[0m\u001b[1;33m\u001b[0m\u001b[0m\n\u001b[0;32m   3874\u001b[0m         \u001b[1;32mif\u001b[0m \u001b[1;32mnot\u001b[0m \u001b[0mself\u001b[0m\u001b[1;33m.\u001b[0m\u001b[0mconstant_memory\u001b[0m\u001b[1;33m:\u001b[0m\u001b[1;33m\u001b[0m\u001b[1;33m\u001b[0m\u001b[0m\n\u001b[1;32m-> 3875\u001b[1;33m             \u001b[0mself\u001b[0m\u001b[1;33m.\u001b[0m\u001b[0m_write_sheet_data\u001b[0m\u001b[1;33m(\u001b[0m\u001b[1;33m)\u001b[0m\u001b[1;33m\u001b[0m\u001b[1;33m\u001b[0m\u001b[0m\n\u001b[0m\u001b[0;32m   3876\u001b[0m         \u001b[1;32melse\u001b[0m\u001b[1;33m:\u001b[0m\u001b[1;33m\u001b[0m\u001b[1;33m\u001b[0m\u001b[0m\n\u001b[0;32m   3877\u001b[0m             \u001b[0mself\u001b[0m\u001b[1;33m.\u001b[0m\u001b[0m_write_optimized_sheet_data\u001b[0m\u001b[1;33m(\u001b[0m\u001b[1;33m)\u001b[0m\u001b[1;33m\u001b[0m\u001b[1;33m\u001b[0m\u001b[0m\n",
      "\u001b[1;32mC:\\ProgramData\\Anaconda3\\lib\\site-packages\\xlsxwriter\\worksheet.py\u001b[0m in \u001b[0;36m_write_sheet_data\u001b[1;34m(self)\u001b[0m\n\u001b[0;32m   5481\u001b[0m         \u001b[1;32melse\u001b[0m\u001b[1;33m:\u001b[0m\u001b[1;33m\u001b[0m\u001b[1;33m\u001b[0m\u001b[0m\n\u001b[0;32m   5482\u001b[0m             \u001b[0mself\u001b[0m\u001b[1;33m.\u001b[0m\u001b[0m_xml_start_tag\u001b[0m\u001b[1;33m(\u001b[0m\u001b[1;34m'sheetData'\u001b[0m\u001b[1;33m)\u001b[0m\u001b[1;33m\u001b[0m\u001b[1;33m\u001b[0m\u001b[0m\n\u001b[1;32m-> 5483\u001b[1;33m             \u001b[0mself\u001b[0m\u001b[1;33m.\u001b[0m\u001b[0m_write_rows\u001b[0m\u001b[1;33m(\u001b[0m\u001b[1;33m)\u001b[0m\u001b[1;33m\u001b[0m\u001b[1;33m\u001b[0m\u001b[0m\n\u001b[0m\u001b[0;32m   5484\u001b[0m             \u001b[0mself\u001b[0m\u001b[1;33m.\u001b[0m\u001b[0m_xml_end_tag\u001b[0m\u001b[1;33m(\u001b[0m\u001b[1;34m'sheetData'\u001b[0m\u001b[1;33m)\u001b[0m\u001b[1;33m\u001b[0m\u001b[1;33m\u001b[0m\u001b[0m\n\u001b[0;32m   5485\u001b[0m \u001b[1;33m\u001b[0m\u001b[0m\n",
      "\u001b[1;32mC:\\ProgramData\\Anaconda3\\lib\\site-packages\\xlsxwriter\\worksheet.py\u001b[0m in \u001b[0;36m_write_rows\u001b[1;34m(self)\u001b[0m\n\u001b[0;32m   5674\u001b[0m                         \u001b[1;32mif\u001b[0m \u001b[0mcol_num\u001b[0m \u001b[1;32min\u001b[0m \u001b[0mself\u001b[0m\u001b[1;33m.\u001b[0m\u001b[0mtable\u001b[0m\u001b[1;33m[\u001b[0m\u001b[0mrow_num\u001b[0m\u001b[1;33m]\u001b[0m\u001b[1;33m:\u001b[0m\u001b[1;33m\u001b[0m\u001b[1;33m\u001b[0m\u001b[0m\n\u001b[0;32m   5675\u001b[0m                             \u001b[0mcol_ref\u001b[0m \u001b[1;33m=\u001b[0m \u001b[0mself\u001b[0m\u001b[1;33m.\u001b[0m\u001b[0mtable\u001b[0m\u001b[1;33m[\u001b[0m\u001b[0mrow_num\u001b[0m\u001b[1;33m]\u001b[0m\u001b[1;33m[\u001b[0m\u001b[0mcol_num\u001b[0m\u001b[1;33m]\u001b[0m\u001b[1;33m\u001b[0m\u001b[1;33m\u001b[0m\u001b[0m\n\u001b[1;32m-> 5676\u001b[1;33m                             \u001b[0mself\u001b[0m\u001b[1;33m.\u001b[0m\u001b[0m_write_cell\u001b[0m\u001b[1;33m(\u001b[0m\u001b[0mrow_num\u001b[0m\u001b[1;33m,\u001b[0m \u001b[0mcol_num\u001b[0m\u001b[1;33m,\u001b[0m \u001b[0mcol_ref\u001b[0m\u001b[1;33m)\u001b[0m\u001b[1;33m\u001b[0m\u001b[1;33m\u001b[0m\u001b[0m\n\u001b[0m\u001b[0;32m   5677\u001b[0m \u001b[1;33m\u001b[0m\u001b[0m\n\u001b[0;32m   5678\u001b[0m                     \u001b[0mself\u001b[0m\u001b[1;33m.\u001b[0m\u001b[0m_xml_end_tag\u001b[0m\u001b[1;33m(\u001b[0m\u001b[1;34m'row'\u001b[0m\u001b[1;33m)\u001b[0m\u001b[1;33m\u001b[0m\u001b[1;33m\u001b[0m\u001b[0m\n",
      "\u001b[1;32mC:\\ProgramData\\Anaconda3\\lib\\site-packages\\xlsxwriter\\worksheet.py\u001b[0m in \u001b[0;36m_write_cell\u001b[1;34m(self, row, col, cell)\u001b[0m\n\u001b[0;32m   5863\u001b[0m             \u001b[1;32mif\u001b[0m \u001b[1;32mnot\u001b[0m \u001b[0mself\u001b[0m\u001b[1;33m.\u001b[0m\u001b[0mconstant_memory\u001b[0m\u001b[1;33m:\u001b[0m\u001b[1;33m\u001b[0m\u001b[1;33m\u001b[0m\u001b[0m\n\u001b[0;32m   5864\u001b[0m                 \u001b[1;31m# Write a shared string.\u001b[0m\u001b[1;33m\u001b[0m\u001b[1;33m\u001b[0m\u001b[1;33m\u001b[0m\u001b[0m\n\u001b[1;32m-> 5865\u001b[1;33m                 \u001b[0mself\u001b[0m\u001b[1;33m.\u001b[0m\u001b[0m_xml_string_element\u001b[0m\u001b[1;33m(\u001b[0m\u001b[0mstring\u001b[0m\u001b[1;33m,\u001b[0m \u001b[0mattributes\u001b[0m\u001b[1;33m)\u001b[0m\u001b[1;33m\u001b[0m\u001b[1;33m\u001b[0m\u001b[0m\n\u001b[0m\u001b[0;32m   5866\u001b[0m             \u001b[1;32melse\u001b[0m\u001b[1;33m:\u001b[0m\u001b[1;33m\u001b[0m\u001b[1;33m\u001b[0m\u001b[0m\n\u001b[0;32m   5867\u001b[0m                 \u001b[1;31m# Write an optimized in-line string.\u001b[0m\u001b[1;33m\u001b[0m\u001b[1;33m\u001b[0m\u001b[1;33m\u001b[0m\u001b[0m\n",
      "\u001b[1;32mC:\\ProgramData\\Anaconda3\\lib\\site-packages\\xlsxwriter\\xmlwriter.py\u001b[0m in \u001b[0;36m_xml_string_element\u001b[1;34m(self, index, attributes)\u001b[0m\n\u001b[0;32m    108\u001b[0m             \u001b[0mattr\u001b[0m \u001b[1;33m+=\u001b[0m \u001b[1;34m' %s=\"%s\"'\u001b[0m \u001b[1;33m%\u001b[0m \u001b[1;33m(\u001b[0m\u001b[0mkey\u001b[0m\u001b[1;33m,\u001b[0m \u001b[0mvalue\u001b[0m\u001b[1;33m)\u001b[0m\u001b[1;33m\u001b[0m\u001b[1;33m\u001b[0m\u001b[0m\n\u001b[0;32m    109\u001b[0m \u001b[1;33m\u001b[0m\u001b[0m\n\u001b[1;32m--> 110\u001b[1;33m         \u001b[0mself\u001b[0m\u001b[1;33m.\u001b[0m\u001b[0mfh\u001b[0m\u001b[1;33m.\u001b[0m\u001b[0mwrite\u001b[0m\u001b[1;33m(\u001b[0m\u001b[1;34m\"\"\"<c%s t=\"s\"><v>%d</v></c>\"\"\"\u001b[0m \u001b[1;33m%\u001b[0m \u001b[1;33m(\u001b[0m\u001b[0mattr\u001b[0m\u001b[1;33m,\u001b[0m \u001b[0mindex\u001b[0m\u001b[1;33m)\u001b[0m\u001b[1;33m)\u001b[0m\u001b[1;33m\u001b[0m\u001b[1;33m\u001b[0m\u001b[0m\n\u001b[0m\u001b[0;32m    111\u001b[0m \u001b[1;33m\u001b[0m\u001b[0m\n\u001b[0;32m    112\u001b[0m     \u001b[1;32mdef\u001b[0m \u001b[0m_xml_si_element\u001b[0m\u001b[1;33m(\u001b[0m\u001b[0mself\u001b[0m\u001b[1;33m,\u001b[0m \u001b[0mstring\u001b[0m\u001b[1;33m,\u001b[0m \u001b[0mattributes\u001b[0m\u001b[1;33m=\u001b[0m\u001b[1;33m[\u001b[0m\u001b[1;33m]\u001b[0m\u001b[1;33m)\u001b[0m\u001b[1;33m:\u001b[0m\u001b[1;33m\u001b[0m\u001b[1;33m\u001b[0m\u001b[0m\n",
      "\u001b[1;32mC:\\ProgramData\\Anaconda3\\lib\\codecs.py\u001b[0m in \u001b[0;36mwrite\u001b[1;34m(self, data)\u001b[0m\n\u001b[0;32m    719\u001b[0m     \u001b[1;32mdef\u001b[0m \u001b[0mwrite\u001b[0m\u001b[1;33m(\u001b[0m\u001b[0mself\u001b[0m\u001b[1;33m,\u001b[0m \u001b[0mdata\u001b[0m\u001b[1;33m)\u001b[0m\u001b[1;33m:\u001b[0m\u001b[1;33m\u001b[0m\u001b[1;33m\u001b[0m\u001b[0m\n\u001b[0;32m    720\u001b[0m \u001b[1;33m\u001b[0m\u001b[0m\n\u001b[1;32m--> 721\u001b[1;33m         \u001b[1;32mreturn\u001b[0m \u001b[0mself\u001b[0m\u001b[1;33m.\u001b[0m\u001b[0mwriter\u001b[0m\u001b[1;33m.\u001b[0m\u001b[0mwrite\u001b[0m\u001b[1;33m(\u001b[0m\u001b[0mdata\u001b[0m\u001b[1;33m)\u001b[0m\u001b[1;33m\u001b[0m\u001b[1;33m\u001b[0m\u001b[0m\n\u001b[0m\u001b[0;32m    722\u001b[0m \u001b[1;33m\u001b[0m\u001b[0m\n\u001b[0;32m    723\u001b[0m     \u001b[1;32mdef\u001b[0m \u001b[0mwritelines\u001b[0m\u001b[1;33m(\u001b[0m\u001b[0mself\u001b[0m\u001b[1;33m,\u001b[0m \u001b[0mlist\u001b[0m\u001b[1;33m)\u001b[0m\u001b[1;33m:\u001b[0m\u001b[1;33m\u001b[0m\u001b[1;33m\u001b[0m\u001b[0m\n",
      "\u001b[1;32mC:\\ProgramData\\Anaconda3\\lib\\codecs.py\u001b[0m in \u001b[0;36mwrite\u001b[1;34m(self, object)\u001b[0m\n\u001b[0;32m    376\u001b[0m         \"\"\"\n\u001b[0;32m    377\u001b[0m         \u001b[0mdata\u001b[0m\u001b[1;33m,\u001b[0m \u001b[0mconsumed\u001b[0m \u001b[1;33m=\u001b[0m \u001b[0mself\u001b[0m\u001b[1;33m.\u001b[0m\u001b[0mencode\u001b[0m\u001b[1;33m(\u001b[0m\u001b[0mobject\u001b[0m\u001b[1;33m,\u001b[0m \u001b[0mself\u001b[0m\u001b[1;33m.\u001b[0m\u001b[0merrors\u001b[0m\u001b[1;33m)\u001b[0m\u001b[1;33m\u001b[0m\u001b[1;33m\u001b[0m\u001b[0m\n\u001b[1;32m--> 378\u001b[1;33m         \u001b[0mself\u001b[0m\u001b[1;33m.\u001b[0m\u001b[0mstream\u001b[0m\u001b[1;33m.\u001b[0m\u001b[0mwrite\u001b[0m\u001b[1;33m(\u001b[0m\u001b[0mdata\u001b[0m\u001b[1;33m)\u001b[0m\u001b[1;33m\u001b[0m\u001b[1;33m\u001b[0m\u001b[0m\n\u001b[0m\u001b[0;32m    379\u001b[0m \u001b[1;33m\u001b[0m\u001b[0m\n\u001b[0;32m    380\u001b[0m     \u001b[1;32mdef\u001b[0m \u001b[0mwritelines\u001b[0m\u001b[1;33m(\u001b[0m\u001b[0mself\u001b[0m\u001b[1;33m,\u001b[0m \u001b[0mlist\u001b[0m\u001b[1;33m)\u001b[0m\u001b[1;33m:\u001b[0m\u001b[1;33m\u001b[0m\u001b[1;33m\u001b[0m\u001b[0m\n",
      "\u001b[1;31mKeyboardInterrupt\u001b[0m: "
     ]
    }
   ],
   "source": [
    "#2006년 1~10월 \r\n",
    "for z in range(1,10):\r\n",
    "    # 파일 불러오기 \r\n",
    "    df = pd.read_excel(\"trimdata/apt20060\" +str(z)+\".xlsx\" )\r\n",
    "\r\n",
    "    # 이전파일 건드리지 않으려면 반드시 copy로\r\n",
    "    df1 = df.copy()\r\n",
    "\r\n",
    "    # datetime으로 만들기\r\n",
    "\r\n",
    "    df1[\"년월\"] = df1[\"계약년월\"].copy()\r\n",
    "    #format=%Y%m 으로 포맷 바꿔주기.\r\n",
    "    df1[\"년월\"] = pd.to_datetime(df1[\"년월\"], format='%Y%m', errors='ignore')\r\n",
    "\r\n",
    "    df1[\"년월\"]\r\n",
    "    # pd.to_datetime?\r\n",
    "    # df1.info()\r\n",
    "\r\n",
    "\r\n",
    "    # ,가 문자열에 있어서 to_numeric에서  인식이 안되므로 ,제거하기 \r\n",
    "        # 성공! replace던 strip이던 컬럼에 적용할땐 항상 .str. 을 써야함을 잊지말것. \r\n",
    "    df1[\"금액\"] =df1[\"거래금액(만원)\"].copy()\r\n",
    "    df1[\"금액\"] = df1[\"금액\"].str.replace(\",\",\"\")\r\n",
    "\r\n",
    "\r\n",
    "    # 문자열인 값 숫자로 변환하기 \r\n",
    "    df1[\"금액\"] =pd.to_numeric(df1[\"금액\"])\r\n",
    "    df1[\"면적\"]=pd.to_numeric(df1[\"전용면적(㎡)\"],errors ='coerce')\r\n",
    "    df1[\"건축년도\"]=pd.to_numeric(df1[\"건축년도\"],errors ='coerce')\r\n",
    "\r\n",
    "\r\n",
    "    #해제사유등 필요없는것 제거하기.\r\n",
    "\r\n",
    "    # axis=1을 쓰면 열을 지우고 df.drop([0, 1], axis=0) 처럼 0을쓰면 인덱스(행)을 지움.\r\n",
    "    # 주의 행의 이름은 B랑 C가 아닌 0 1인데 이는 스트링이 아니므로 ''없이 하면됨.\r\n",
    "    df2 = df1.drop([\"해제사유발생일\", \"계약년월\",\"단지명\",\"계약일\",\"층\",\"도로명\",\"번지\",\"본번\",\"거래금액(만원)\",\"전용면적(㎡)\",\"부번\"]\r\n",
    "                ,axis=1).copy()\r\n",
    "    df2\r\n",
    "\r\n",
    "\r\n",
    "        \r\n",
    "    #크기로 나누기\r\n",
    "    df2.loc[(df2['면적'] >  60) & (df2['면적'] <= 85), '크기'] = '중형' \r\n",
    "    df2.loc[(df2['면적'] <=  60),'크기'] = '소형'\r\n",
    "    df2.loc[(df2['면적'] > 85), '크기'] = '대형'\r\n",
    "    #확인 \r\n",
    "    df2['크기'].value_counts()\r\n",
    "\r\n",
    "\r\n",
    "    #지역으로 나누기.\r\n",
    "    df2[\"서울\"] = df2[\"시군구\"].str.contains(\"서울\", case=False, na=False).astype(int)\r\n",
    "    df2[\"서울\"].sum()\r\n",
    "    df2[\"대전\"] = df2[\"시군구\"].str.contains(\"대전\", case=False, na=False).astype(int)\r\n",
    "    df2[\"대전\"].sum()\r\n",
    "\r\n",
    "    location =[]\r\n",
    "    location = [\"강원도\",     \r\n",
    "                \"경기도\"  ,  \r\n",
    "                \"경상남도\" ,    \r\n",
    "                \"경상북도\"  ,   \r\n",
    "                \"광주광역\"     ,\r\n",
    "                \"대구광역\"  ,\r\n",
    "                \"대전광역\"   ,\r\n",
    "                \"부산광역\"   ,\r\n",
    "                \"서울특별\"    ,\r\n",
    "                \"세종특별\",\r\n",
    "                \"울산광역\"    ,\r\n",
    "                \"인천광역\"    ,\r\n",
    "                \"전라남도\" ,    \r\n",
    "                \"전라북도\"  ,   \r\n",
    "                \"제주특별\"    ,\r\n",
    "                \"충청남도\" ,   \r\n",
    "                \"충청북도\"  ] \r\n",
    "\r\n",
    "    for i in location :\r\n",
    "        df2[i] =  df2[\"시군구\"].str.contains(i, case=False, na=False).astype(int)\r\n",
    "        df2.loc[(df2[i] ==  1) , '지역'] = i\r\n",
    "\r\n",
    "\r\n",
    "    #확인\r\n",
    "    df2[\"지역\"].value_counts()\r\n",
    "    df2[\"강원도\"].sum()+df2[\"경기도\"].sum()+df2[\"경상남도\"].sum()+df2[\"경상북도\"].sum()+df2[\"광주광역\"].sum()+df2[\"대구광역\"].sum()+df2[\"대전광역\"].sum()+df2[\"부산광역\"].sum()+df2[\"서울특별\"].sum()+df2[\"세종특별\"].sum()+df2[\"울산광역\"].sum()+df2[\"인천광역\"].sum()+df2[\"전라남도\"].sum()+df2[\"전라북도\"].sum()+df2[\"제주특별\"].sum()+df2[\"충청남도\"].sum() +df2[\"충청북도\"].sum()\r\n",
    "\r\n",
    "\r\n",
    "    #강남 송파 서초 3구 따로 묶어보기 ..abs\r\n",
    "    df2[\"강남구\"] = df2[\"시군구\"].str.contains(\"서울특별시 강남구\", case=False, na=False).astype(int)\r\n",
    "    df2[\"서초구\"] = df2[\"시군구\"].str.contains(\"서울특별시 서초구\", case=False, na=False).astype(int)\r\n",
    "    df2[\"송파구\"] = df2[\"시군구\"].str.contains(\"서울특별시 송파구\", case=False, na=False).astype(int)\r\n",
    "    df2.loc[(df2['강남구'] == 1) | (df2['서초구'] == 1) |  (df2['송파구'] == 1) , \"강남3구\"] = 1\r\n",
    "\r\n",
    "    #Nan 0으로 만들기\r\n",
    "    df2[\"강남3구\"] = df2[\"강남3구\"].fillna(0).copy()\r\n",
    "\r\n",
    "    #확인하기 \r\n",
    "    df2[\"강남3구\"].value_counts()\r\n",
    "\r\n",
    "\r\n",
    "    # 전체관측치와 각도별 관측치 갯수의합이 같은지 확인하기.\r\n",
    "    df2[\"강원도\"].sum()+df2[\"경기도\"].sum()+df2[\"경상남도\"].sum()+df2[\"경상북도\"].sum()+df2[\"광주광역\"].sum()+df2[\"대구광역\"].sum()+df2[\"대전광역\"].sum()+df2[\"부산광역\"].sum()+df2[\"서울특별\"].sum()+df2[\"세종특별\"].sum()+df2[\"울산광역\"].sum()+df2[\"인천광역\"].sum()+df2[\"전라남도\"].sum()+df2[\"전라북도\"].sum()+df2[\"제주특별\"].sum()+df2[\"충청남도\"].sum() +df2[\"충청북도\"].sum()\r\n",
    "\r\n",
    "    #결과 확인\r\n",
    "    df2.info()\r\n",
    "\r\n",
    "    #수정된 파일 새경로에 저장하기\r\n",
    "    df2.to_excel((\"monthlydata/apt20060\"+str(z)+\".xlsx\" ))\r\n"
   ]
  },
  {
   "cell_type": "code",
   "execution_count": 91,
   "metadata": {
    "ExecuteTime": {
     "end_time": "2021-03-21T06:38:08.849760Z",
     "start_time": "2021-03-21T06:38:05.831Z"
    }
   },
   "outputs": [
    {
     "data": {
      "text/plain": "25921"
     },
     "execution_count": 91,
     "metadata": {},
     "output_type": "execute_result"
    }
   ],
   "source": [
    "# 전체관측치와 각도별 관측치 갯수의합이 같은지 확인하기.\r\n",
    "df2[\"강원도\"].sum()+df2[\"경기도\"].sum()+df2[\"경상남도\"].sum()+df2[\"경상북도\"].sum()+df2[\"광주광역\"].sum()+df2[\"대구광역\"].sum()+df2[\"대전광역\"].sum()+df2[\"부산광역\"].sum()+df2[\"서울특별\"].sum()+df2[\"세종특별\"].sum()+df2[\"울산광역\"].sum()+df2[\"인천광역\"].sum()+df2[\"전라남도\"].sum()+df2[\"전라북도\"].sum()+df2[\"제주특별\"].sum()+df2[\"충청남도\"].sum() +df2[\"충청북도\"].sum()\r\n"
   ]
  },
  {
   "cell_type": "code",
   "execution_count": 86,
   "metadata": {
    "ExecuteTime": {
     "end_time": "2021-03-21T06:38:14.815007Z",
     "start_time": "2021-03-21T06:38:14.792067Z"
    },
    "scrolled": true
   },
   "outputs": [
    {
     "name": "stdout",
     "output_type": "stream",
     "text": [
      "<class 'pandas.core.frame.DataFrame'>\n",
      "RangeIndex: 25921 entries, 0 to 25920\n",
      "Data columns (total 31 columns):\n",
      " #   Column      Non-Null Count  Dtype         \n",
      "---  ------      --------------  -----         \n",
      " 0   Unnamed: 0  25921 non-null  int64         \n",
      " 1   시군구         25921 non-null  object        \n",
      " 2   건축년도        25921 non-null  int64         \n",
      " 3   년월          25921 non-null  datetime64[ns]\n",
      " 4   금액          25921 non-null  int64         \n",
      " 5   면적          25921 non-null  float64       \n",
      " 6   서울          25921 non-null  int32         \n",
      " 7   대전          25921 non-null  int32         \n",
      " 8   강원도         25921 non-null  int32         \n",
      " 9   지역          25921 non-null  object        \n",
      " 10  경기도         25921 non-null  int32         \n",
      " 11  경상남도        25921 non-null  int32         \n",
      " 12  경상북도        25921 non-null  int32         \n",
      " 13  광주광역        25921 non-null  int32         \n",
      " 14  대구광역        25921 non-null  int32         \n",
      " 15  대전광역        25921 non-null  int32         \n",
      " 16  부산광역        25921 non-null  int32         \n",
      " 17  서울특별        25921 non-null  int32         \n",
      " 18  세종특별        25921 non-null  int32         \n",
      " 19  울산광역        25921 non-null  int32         \n",
      " 20  인천광역        25921 non-null  int32         \n",
      " 21  전라남도        25921 non-null  int32         \n",
      " 22  전라북도        25921 non-null  int32         \n",
      " 23  제주특별        25921 non-null  int32         \n",
      " 24  충청남도        25921 non-null  int32         \n",
      " 25  충청북도        25921 non-null  int32         \n",
      " 26  크기          25921 non-null  object        \n",
      " 27  강남구         25921 non-null  int32         \n",
      " 28  서초구         25921 non-null  int32         \n",
      " 29  송파구         25921 non-null  int32         \n",
      " 30  강남3구        25921 non-null  float64       \n",
      "dtypes: datetime64[ns](1), float64(2), int32(22), int64(3), object(3)\n",
      "memory usage: 4.0+ MB\n"
     ]
    }
   ],
   "source": [
    "df2.info()"
   ]
  },
  {
   "cell_type": "code",
   "execution_count": null,
   "metadata": {},
   "outputs": [],
   "source": []
  }
 ],
 "metadata": {
  "hide_input": false,
  "kernelspec": {
   "display_name": "Python 3.8.5 64-bit ('base': conda)",
   "name": "python385jvsc74a57bd0b3ba2566441a7c06988d0923437866b63cedc61552a5af99d1f4fb67d367b25f"
  },
  "language_info": {
   "codemirror_mode": {
    "name": "ipython",
    "version": 3
   },
   "file_extension": ".py",
   "mimetype": "text/x-python",
   "name": "python",
   "nbconvert_exporter": "python",
   "pygments_lexer": "ipython3",
   "version": "3.8.5"
  },
  "toc": {
   "base_numbering": 1,
   "nav_menu": {},
   "number_sections": true,
   "sideBar": true,
   "skip_h1_title": false,
   "title_cell": "Table of Contents",
   "title_sidebar": "Contents",
   "toc_cell": false,
   "toc_position": {},
   "toc_section_display": true,
   "toc_window_display": false
  },
  "varInspector": {
   "cols": {
    "lenName": 16,
    "lenType": 16,
    "lenVar": 40
   },
   "kernels_config": {
    "python": {
     "delete_cmd_postfix": "",
     "delete_cmd_prefix": "del ",
     "library": "var_list.py",
     "varRefreshCmd": "print(var_dic_list())"
    },
    "r": {
     "delete_cmd_postfix": ") ",
     "delete_cmd_prefix": "rm(",
     "library": "var_list.r",
     "varRefreshCmd": "cat(var_dic_list()) "
    }
   },
   "types_to_exclude": [
    "module",
    "function",
    "builtin_function_or_method",
    "instance",
    "_Feature"
   ],
   "window_display": false
  }
 },
 "nbformat": 4,
 "nbformat_minor": 4
}