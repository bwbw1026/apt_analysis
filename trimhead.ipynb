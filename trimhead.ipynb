{
 "cells": [
  {
   "cell_type": "markdown",
   "metadata": {},
   "source": [
    "# 1월 9월"
   ]
  },
  {
   "cell_type": "code",
   "execution_count": 1,
   "metadata": {},
   "outputs": [],
   "source": [
    "import requests, bs4\r\n",
    "import pandas as pd\r\n",
    "from lxml import html #html.lxml 로 써진 것. 즉 html.lxml 로 써야하는 명령어를 lxml만써도 작동하게해줌.\r\n",
    "from urllib.request import Request, urlopen\r\n",
    "from urllib.parse import urlencode, quote_plus, unquote\r\n",
    "from pprint import pprint\r\n",
    "import numpy as np\r\n",
    "from tqdm import tqdm"
   ]
  },
  {
   "cell_type": "code",
   "execution_count": 4,
   "metadata": {},
   "outputs": [
    {
     "name": "stderr",
     "output_type": "stream",
     "text": [
      "100%|██████████| 9/9 [02:55<00:00, 19.46s/it]\n"
     ]
    }
   ],
   "source": [
    "# 최종정리코드.\r\n",
    "# 파일불러오기\r\n",
    "\r\n",
    "\r\n",
    "#2006 1~9\r\n",
    "for i in tqdm(range(1,10)):\r\n",
    "    df = pd.read_excel(\"rawdata/aptexcel20060\" +str(i)+ \".xlsx\" )\r\n",
    "    df1 = df.copy()\r\n",
    "    list = []\r\n",
    "\r\n",
    "    #df2.values[14]  column 이름 위치확인\r\n",
    "    list =  df1.values[15]\r\n",
    "    list\r\n",
    "    # column이름 변경 \r\n",
    "    df1.columns = list\r\n",
    "    df1.sample()\r\n",
    "\r\n",
    "\r\n",
    "    # 불필요한내용 삭제  (다만 인덱싱을 다시 0부터 시작하게 못하긴했음.)\r\n",
    "    df1 = df1.drop(df1.index[0:16])\r\n",
    "    df1.head()\r\n",
    "\r\n",
    "    #수정된 파일 새경로에 저장하기\r\n",
    "    df1.to_excel((\"trimdata/apt20060\"+str(i)+\".xlsx\" ))\r\n"
   ]
  },
  {
   "cell_type": "code",
   "execution_count": 5,
   "metadata": {},
   "outputs": [
    {
     "name": "stderr",
     "output_type": "stream",
     "text": [
      "100%|██████████| 9/9 [02:44<00:00, 18.27s/it]\n"
     ]
    }
   ],
   "source": [
    "#2007\r\n",
    "for i in tqdm(range(1,10)):\r\n",
    "    df = pd.read_excel(\"rawdata/aptexcel20070\" +str(i)+ \".xlsx\" )\r\n",
    "    df1 = df.copy()\r\n",
    "    list = []\r\n",
    "\r\n",
    "    #df2.values[14]  column 이름 위치확인\r\n",
    "    list =  df1.values[15]\r\n",
    "    list\r\n",
    "    # column이름 변경 \r\n",
    "    df1.columns = list\r\n",
    "    df1.sample()\r\n",
    "\r\n",
    "\r\n",
    "    # 불필요한내용 삭제  (다만 인덱싱을 다시 0부터 시작하게 못하긴했음.)\r\n",
    "    df1 = df1.drop(df1.index[0:16])\r\n",
    "    df1.head()\r\n",
    "\r\n",
    "    #수정된 파일 새경로에 저장하기\r\n",
    "    df1.to_excel((\"trimdata/apt20070\"+str(i)+\".xlsx\" ))\r\n"
   ]
  },
  {
   "cell_type": "code",
   "execution_count": 3,
   "metadata": {},
   "outputs": [
    {
     "name": "stderr",
     "output_type": "stream",
     "text": [
      "100%|██████████| 9/9 [02:36<00:00, 17.40s/it]\n",
      "  0%|          | 0/9 [00:12<?, ?it/s]\n",
      " 10%|█         | 1/10 [02:48<25:19, 168.79s/it]\n"
     ]
    },
    {
     "ename": "KeyboardInterrupt",
     "evalue": "",
     "output_type": "error",
     "traceback": [
      "\u001b[1;31m---------------------------------------------------------------------------\u001b[0m",
      "\u001b[1;31mKeyboardInterrupt\u001b[0m                         Traceback (most recent call last)",
      "\u001b[1;32m<ipython-input-3-256e3cd98f50>\u001b[0m in \u001b[0;36m<module>\u001b[1;34m\u001b[0m\n\u001b[0;32m     21\u001b[0m \u001b[1;33m\u001b[0m\u001b[0m\n\u001b[0;32m     22\u001b[0m         \u001b[1;31m#수정된 파일 새경로에 저장하기\u001b[0m\u001b[1;33m\u001b[0m\u001b[1;33m\u001b[0m\u001b[1;33m\u001b[0m\u001b[0m\n\u001b[1;32m---> 23\u001b[1;33m         \u001b[0mdf1\u001b[0m\u001b[1;33m.\u001b[0m\u001b[0mto_excel\u001b[0m\u001b[1;33m(\u001b[0m\u001b[1;33m(\u001b[0m\u001b[1;34m\"trimdata/apt201\"\u001b[0m\u001b[1;33m+\u001b[0m\u001b[0mstr\u001b[0m\u001b[1;33m(\u001b[0m\u001b[0mz\u001b[0m\u001b[1;33m)\u001b[0m\u001b[1;33m+\u001b[0m\u001b[1;34m\"0\"\u001b[0m\u001b[1;33m+\u001b[0m\u001b[0mstr\u001b[0m\u001b[1;33m(\u001b[0m\u001b[0mi\u001b[0m\u001b[1;33m)\u001b[0m\u001b[1;33m+\u001b[0m \u001b[1;34m\".xlsx\"\u001b[0m \u001b[1;33m)\u001b[0m\u001b[1;33m)\u001b[0m\u001b[1;33m\u001b[0m\u001b[1;33m\u001b[0m\u001b[0m\n\u001b[0m",
      "\u001b[1;32mC:\\ProgramData\\Anaconda3\\lib\\site-packages\\pandas\\core\\generic.py\u001b[0m in \u001b[0;36mto_excel\u001b[1;34m(self, excel_writer, sheet_name, na_rep, float_format, columns, header, index, index_label, startrow, startcol, engine, merge_cells, encoding, inf_rep, verbose, freeze_panes)\u001b[0m\n\u001b[0;32m   2024\u001b[0m             \u001b[0minf_rep\u001b[0m\u001b[1;33m=\u001b[0m\u001b[0minf_rep\u001b[0m\u001b[1;33m,\u001b[0m\u001b[1;33m\u001b[0m\u001b[1;33m\u001b[0m\u001b[0m\n\u001b[0;32m   2025\u001b[0m         )\n\u001b[1;32m-> 2026\u001b[1;33m         formatter.write(\n\u001b[0m\u001b[0;32m   2027\u001b[0m             \u001b[0mexcel_writer\u001b[0m\u001b[1;33m,\u001b[0m\u001b[1;33m\u001b[0m\u001b[1;33m\u001b[0m\u001b[0m\n\u001b[0;32m   2028\u001b[0m             \u001b[0msheet_name\u001b[0m\u001b[1;33m=\u001b[0m\u001b[0msheet_name\u001b[0m\u001b[1;33m,\u001b[0m\u001b[1;33m\u001b[0m\u001b[1;33m\u001b[0m\u001b[0m\n",
      "\u001b[1;32mC:\\ProgramData\\Anaconda3\\lib\\site-packages\\pandas\\io\\formats\\excel.py\u001b[0m in \u001b[0;36mwrite\u001b[1;34m(self, writer, sheet_name, startrow, startcol, freeze_panes, engine)\u001b[0m\n\u001b[0;32m    732\u001b[0m \u001b[1;33m\u001b[0m\u001b[0m\n\u001b[0;32m    733\u001b[0m         \u001b[0mformatted_cells\u001b[0m \u001b[1;33m=\u001b[0m \u001b[0mself\u001b[0m\u001b[1;33m.\u001b[0m\u001b[0mget_formatted_cells\u001b[0m\u001b[1;33m(\u001b[0m\u001b[1;33m)\u001b[0m\u001b[1;33m\u001b[0m\u001b[1;33m\u001b[0m\u001b[0m\n\u001b[1;32m--> 734\u001b[1;33m         writer.write_cells(\n\u001b[0m\u001b[0;32m    735\u001b[0m             \u001b[0mformatted_cells\u001b[0m\u001b[1;33m,\u001b[0m\u001b[1;33m\u001b[0m\u001b[1;33m\u001b[0m\u001b[0m\n\u001b[0;32m    736\u001b[0m             \u001b[0msheet_name\u001b[0m\u001b[1;33m,\u001b[0m\u001b[1;33m\u001b[0m\u001b[1;33m\u001b[0m\u001b[0m\n",
      "\u001b[1;32mC:\\ProgramData\\Anaconda3\\lib\\site-packages\\pandas\\io\\excel\\_xlsxwriter.py\u001b[0m in \u001b[0;36mwrite_cells\u001b[1;34m(self, cells, sheet_name, startrow, startcol, freeze_panes)\u001b[0m\n\u001b[0;32m    214\u001b[0m \u001b[1;33m\u001b[0m\u001b[0m\n\u001b[0;32m    215\u001b[0m             \u001b[0mstylekey\u001b[0m \u001b[1;33m=\u001b[0m \u001b[0mjson\u001b[0m\u001b[1;33m.\u001b[0m\u001b[0mdumps\u001b[0m\u001b[1;33m(\u001b[0m\u001b[0mcell\u001b[0m\u001b[1;33m.\u001b[0m\u001b[0mstyle\u001b[0m\u001b[1;33m)\u001b[0m\u001b[1;33m\u001b[0m\u001b[1;33m\u001b[0m\u001b[0m\n\u001b[1;32m--> 216\u001b[1;33m             \u001b[1;32mif\u001b[0m \u001b[0mfmt\u001b[0m\u001b[1;33m:\u001b[0m\u001b[1;33m\u001b[0m\u001b[1;33m\u001b[0m\u001b[0m\n\u001b[0m\u001b[0;32m    217\u001b[0m                 \u001b[0mstylekey\u001b[0m \u001b[1;33m+=\u001b[0m \u001b[0mfmt\u001b[0m\u001b[1;33m\u001b[0m\u001b[1;33m\u001b[0m\u001b[0m\n\u001b[0;32m    218\u001b[0m \u001b[1;33m\u001b[0m\u001b[0m\n",
      "\u001b[1;31mKeyboardInterrupt\u001b[0m: "
     ]
    }
   ],
   "source": [
    "#2010~2019 1월부터 9월까지\r\n",
    "\r\n",
    "#2010~2019 1~9\r\n",
    "for z in tqdm(range(0,10)):\r\n",
    "    for i in tqdm(range(1,10)):\r\n",
    "        df = pd.read_excel(\"rawdata/aptexcel201\"+str(z)+\"0\"+str(i)+ \".xlsx\" )\r\n",
    "        df1 = df.copy()\r\n",
    "        list = []\r\n",
    "\r\n",
    "        #df2.values[14]  column 이름 위치확인\r\n",
    "        list =  df1.values[15]\r\n",
    "        list\r\n",
    "        # column이름 변경 \r\n",
    "        df1.columns = list\r\n",
    "        df1.sample()\r\n",
    "\r\n",
    "\r\n",
    "        # 불필요한내용 삭제  (다만 인덱싱을 다시 0부터 시작하게 못하긴했음.)\r\n",
    "        df1 = df1.drop(df1.index[0:16])\r\n",
    "        df1.head()\r\n",
    "\r\n",
    "        #수정된 파일 새경로에 저장하기\r\n",
    "        df1.to_excel((\"trimdata/apt201\"+str(z)+\"0\"+str(i)+ \".xlsx\" ))\r\n"
   ]
  },
  {
   "cell_type": "markdown",
   "metadata": {},
   "source": [
    "# 10월~12월 "
   ]
  },
  {
   "cell_type": "code",
   "execution_count": 2,
   "metadata": {},
   "outputs": [
    {
     "name": "stderr",
     "output_type": "stream",
     "text": [
      "100%|██████████| 3/3 [01:39<00:00, 33.00s/it]\n"
     ]
    }
   ],
   "source": [
    "#2006 10~12\r\n",
    "\r\n",
    "for i in tqdm(range(0,3)):\r\n",
    "    df = pd.read_excel(\"rawdata/aptexcel20061\" +str(i)+ \".xlsx\" )\r\n",
    "    df1 = df.copy()\r\n",
    "    list = []\r\n",
    "\r\n",
    "    #df2.values[14]  column 이름 위치확인\r\n",
    "    list =  df1.values[15]\r\n",
    "    list\r\n",
    "    # column이름 변경 \r\n",
    "    df1.columns = list\r\n",
    "    df1.sample()\r\n",
    "\r\n",
    "\r\n",
    "    # 불필요한내용 삭제  (다만 인덱싱을 다시 0부터 시작하게 못하긴했음.)\r\n",
    "    df1 = df1.drop(df1.index[0:16])\r\n",
    "    df1.head()\r\n",
    "\r\n",
    "    #수정된 파일 새경로에 저장하기\r\n",
    "    df1.to_excel((\"trimdata/apt20061\"+str(i)+\".xlsx\" ))"
   ]
  },
  {
   "cell_type": "code",
   "execution_count": 4,
   "metadata": {},
   "outputs": [
    {
     "name": "stderr",
     "output_type": "stream",
     "text": [
      "100%|██████████| 3/3 [00:51<00:00, 17.07s/it]\n"
     ]
    }
   ],
   "source": [
    "#2007 10~12\r\n",
    "\r\n",
    "for i in tqdm(range(0,3)):\r\n",
    "    df = pd.read_excel(\"rawdata/aptexcel20071\" +str(i)+ \".xlsx\" )\r\n",
    "    df1 = df.copy()\r\n",
    "    list = []\r\n",
    "\r\n",
    "    #df2.values[14]  column 이름 위치확인\r\n",
    "    list =  df1.values[15]\r\n",
    "    list\r\n",
    "    # column이름 변경 \r\n",
    "    df1.columns = list\r\n",
    "    df1.sample()\r\n",
    "\r\n",
    "\r\n",
    "    # 불필요한내용 삭제  (다만 인덱싱을 다시 0부터 시작하게 못하긴했음.)\r\n",
    "    df1 = df1.drop(df1.index[0:16])\r\n",
    "    df1.head()\r\n",
    "\r\n",
    "    #수정된 파일 새경로에 저장하기\r\n",
    "    df1.to_excel((\"trimdata/apt20071\"+str(i)+\".xlsx\" ))"
   ]
  },
  {
   "cell_type": "code",
   "execution_count": null,
   "metadata": {},
   "outputs": [],
   "source": []
  },
  {
   "cell_type": "code",
   "execution_count": null,
   "metadata": {},
   "outputs": [],
   "source": []
  }
 ],
 "metadata": {
  "kernelspec": {
   "display_name": "Python 3.8.5 64-bit ('base': conda)",
   "name": "python385jvsc74a57bd0b3ba2566441a7c06988d0923437866b63cedc61552a5af99d1f4fb67d367b25f"
  },
  "language_info": {
   "codemirror_mode": {
    "name": "ipython",
    "version": 3
   },
   "file_extension": ".py",
   "mimetype": "text/x-python",
   "name": "python",
   "nbconvert_exporter": "python",
   "pygments_lexer": "ipython3",
   "version": "3.8.5"
  },
  "orig_nbformat": 2
 },
 "nbformat": 4,
 "nbformat_minor": 2
}