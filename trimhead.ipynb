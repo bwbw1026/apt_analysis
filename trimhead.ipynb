{
 "cells": [
  {
   "cell_type": "code",
   "execution_count": 1,
   "metadata": {},
   "outputs": [],
   "source": [
    "import requests, bs4\r\n",
    "import pandas as pd\r\n",
    "from lxml import html #html.lxml 로 써진 것. 즉 html.lxml 로 써야하는 명령어를 lxml만써도 작동하게해줌.\r\n",
    "from urllib.request import Request, urlopen\r\n",
    "from urllib.parse import urlencode, quote_plus, unquote\r\n",
    "from pprint import pprint\r\n",
    "import numpy as np"
   ]
  },
  {
   "cell_type": "code",
   "execution_count": 5,
   "metadata": {},
   "outputs": [
    {
     "data": {
      "text/html": "<div>\n<style scoped>\n    .dataframe tbody tr th:only-of-type {\n        vertical-align: middle;\n    }\n\n    .dataframe tbody tr th {\n        vertical-align: top;\n    }\n\n    .dataframe thead th {\n        text-align: right;\n    }\n</style>\n<table border=\"1\" class=\"dataframe\">\n  <thead>\n    <tr style=\"text-align: right;\">\n      <th></th>\n      <th>시군구</th>\n      <th>건축년도</th>\n      <th>년월</th>\n      <th>금액</th>\n      <th>면적</th>\n      <th>서울</th>\n      <th>대전</th>\n      <th>강원도</th>\n      <th>지역</th>\n      <th>경기도</th>\n      <th>...</th>\n      <th>서울특별</th>\n      <th>세종특별</th>\n      <th>울산광역</th>\n      <th>인천광역</th>\n      <th>전라남도</th>\n      <th>전라북도</th>\n      <th>제주특별</th>\n      <th>충청남도</th>\n      <th>충청북도</th>\n      <th>크기</th>\n    </tr>\n  </thead>\n  <tbody>\n    <tr>\n      <th>15</th>\n      <td>강원도 강릉시 견소동</td>\n      <td>1997</td>\n      <td>2020-10-01</td>\n      <td>17500</td>\n      <td>84.945</td>\n      <td>0</td>\n      <td>0</td>\n      <td>1</td>\n      <td>강원도</td>\n      <td>0</td>\n      <td>...</td>\n      <td>0</td>\n      <td>0</td>\n      <td>0</td>\n      <td>0</td>\n      <td>0</td>\n      <td>0</td>\n      <td>0</td>\n      <td>0</td>\n      <td>0</td>\n      <td>중형</td>\n    </tr>\n    <tr>\n      <th>16</th>\n      <td>강원도 강릉시 견소동</td>\n      <td>1997</td>\n      <td>2020-10-01</td>\n      <td>15000</td>\n      <td>59.800</td>\n      <td>0</td>\n      <td>0</td>\n      <td>1</td>\n      <td>강원도</td>\n      <td>0</td>\n      <td>...</td>\n      <td>0</td>\n      <td>0</td>\n      <td>0</td>\n      <td>0</td>\n      <td>0</td>\n      <td>0</td>\n      <td>0</td>\n      <td>0</td>\n      <td>0</td>\n      <td>소형</td>\n    </tr>\n    <tr>\n      <th>17</th>\n      <td>강원도 강릉시 견소동</td>\n      <td>1997</td>\n      <td>2020-10-01</td>\n      <td>16800</td>\n      <td>84.945</td>\n      <td>0</td>\n      <td>0</td>\n      <td>1</td>\n      <td>강원도</td>\n      <td>0</td>\n      <td>...</td>\n      <td>0</td>\n      <td>0</td>\n      <td>0</td>\n      <td>0</td>\n      <td>0</td>\n      <td>0</td>\n      <td>0</td>\n      <td>0</td>\n      <td>0</td>\n      <td>중형</td>\n    </tr>\n    <tr>\n      <th>18</th>\n      <td>강원도 강릉시 견소동</td>\n      <td>2005</td>\n      <td>2020-10-01</td>\n      <td>20900</td>\n      <td>84.990</td>\n      <td>0</td>\n      <td>0</td>\n      <td>1</td>\n      <td>강원도</td>\n      <td>0</td>\n      <td>...</td>\n      <td>0</td>\n      <td>0</td>\n      <td>0</td>\n      <td>0</td>\n      <td>0</td>\n      <td>0</td>\n      <td>0</td>\n      <td>0</td>\n      <td>0</td>\n      <td>중형</td>\n    </tr>\n    <tr>\n      <th>19</th>\n      <td>강원도 강릉시 견소동</td>\n      <td>2005</td>\n      <td>2020-10-01</td>\n      <td>18300</td>\n      <td>59.990</td>\n      <td>0</td>\n      <td>0</td>\n      <td>1</td>\n      <td>강원도</td>\n      <td>0</td>\n      <td>...</td>\n      <td>0</td>\n      <td>0</td>\n      <td>0</td>\n      <td>0</td>\n      <td>0</td>\n      <td>0</td>\n      <td>0</td>\n      <td>0</td>\n      <td>0</td>\n      <td>소형</td>\n    </tr>\n    <tr>\n      <th>...</th>\n      <td>...</td>\n      <td>...</td>\n      <td>...</td>\n      <td>...</td>\n      <td>...</td>\n      <td>...</td>\n      <td>...</td>\n      <td>...</td>\n      <td>...</td>\n      <td>...</td>\n      <td>...</td>\n      <td>...</td>\n      <td>...</td>\n      <td>...</td>\n      <td>...</td>\n      <td>...</td>\n      <td>...</td>\n      <td>...</td>\n      <td>...</td>\n      <td>...</td>\n      <td>...</td>\n    </tr>\n    <tr>\n      <th>71966</th>\n      <td>충청북도 충주시 호암동</td>\n      <td>2019</td>\n      <td>2020-10-01</td>\n      <td>34700</td>\n      <td>84.960</td>\n      <td>0</td>\n      <td>0</td>\n      <td>0</td>\n      <td>충청북도</td>\n      <td>0</td>\n      <td>...</td>\n      <td>0</td>\n      <td>0</td>\n      <td>0</td>\n      <td>0</td>\n      <td>0</td>\n      <td>0</td>\n      <td>0</td>\n      <td>0</td>\n      <td>1</td>\n      <td>중형</td>\n    </tr>\n    <tr>\n      <th>71967</th>\n      <td>충청북도 충주시 호암동</td>\n      <td>2002</td>\n      <td>2020-10-01</td>\n      <td>16000</td>\n      <td>84.680</td>\n      <td>0</td>\n      <td>0</td>\n      <td>0</td>\n      <td>충청북도</td>\n      <td>0</td>\n      <td>...</td>\n      <td>0</td>\n      <td>0</td>\n      <td>0</td>\n      <td>0</td>\n      <td>0</td>\n      <td>0</td>\n      <td>0</td>\n      <td>0</td>\n      <td>1</td>\n      <td>중형</td>\n    </tr>\n    <tr>\n      <th>71968</th>\n      <td>충청북도 충주시 호암동</td>\n      <td>2002</td>\n      <td>2020-10-01</td>\n      <td>16400</td>\n      <td>84.680</td>\n      <td>0</td>\n      <td>0</td>\n      <td>0</td>\n      <td>충청북도</td>\n      <td>0</td>\n      <td>...</td>\n      <td>0</td>\n      <td>0</td>\n      <td>0</td>\n      <td>0</td>\n      <td>0</td>\n      <td>0</td>\n      <td>0</td>\n      <td>0</td>\n      <td>1</td>\n      <td>중형</td>\n    </tr>\n    <tr>\n      <th>71969</th>\n      <td>충청북도 충주시 호암동</td>\n      <td>2002</td>\n      <td>2020-10-01</td>\n      <td>14000</td>\n      <td>84.680</td>\n      <td>0</td>\n      <td>0</td>\n      <td>0</td>\n      <td>충청북도</td>\n      <td>0</td>\n      <td>...</td>\n      <td>0</td>\n      <td>0</td>\n      <td>0</td>\n      <td>0</td>\n      <td>0</td>\n      <td>0</td>\n      <td>0</td>\n      <td>0</td>\n      <td>1</td>\n      <td>중형</td>\n    </tr>\n    <tr>\n      <th>71970</th>\n      <td>충청북도 충주시 호암동</td>\n      <td>2002</td>\n      <td>2020-10-01</td>\n      <td>15900</td>\n      <td>84.680</td>\n      <td>0</td>\n      <td>0</td>\n      <td>0</td>\n      <td>충청북도</td>\n      <td>0</td>\n      <td>...</td>\n      <td>0</td>\n      <td>0</td>\n      <td>0</td>\n      <td>0</td>\n      <td>0</td>\n      <td>0</td>\n      <td>0</td>\n      <td>0</td>\n      <td>1</td>\n      <td>중형</td>\n    </tr>\n  </tbody>\n</table>\n<p>71956 rows × 26 columns</p>\n</div>",
      "text/plain": "                시군구  건축년도         년월     금액      면적  서울  대전  강원도    지역  경기도  \\\n15      강원도 강릉시 견소동  1997 2020-10-01  17500  84.945   0   0    1   강원도    0   \n16      강원도 강릉시 견소동  1997 2020-10-01  15000  59.800   0   0    1   강원도    0   \n17      강원도 강릉시 견소동  1997 2020-10-01  16800  84.945   0   0    1   강원도    0   \n18      강원도 강릉시 견소동  2005 2020-10-01  20900  84.990   0   0    1   강원도    0   \n19      강원도 강릉시 견소동  2005 2020-10-01  18300  59.990   0   0    1   강원도    0   \n...             ...   ...        ...    ...     ...  ..  ..  ...   ...  ...   \n71966  충청북도 충주시 호암동  2019 2020-10-01  34700  84.960   0   0    0  충청북도    0   \n71967  충청북도 충주시 호암동  2002 2020-10-01  16000  84.680   0   0    0  충청북도    0   \n71968  충청북도 충주시 호암동  2002 2020-10-01  16400  84.680   0   0    0  충청북도    0   \n71969  충청북도 충주시 호암동  2002 2020-10-01  14000  84.680   0   0    0  충청북도    0   \n71970  충청북도 충주시 호암동  2002 2020-10-01  15900  84.680   0   0    0  충청북도    0   \n\n       ...  서울특별  세종특별  울산광역  인천광역  전라남도  전라북도  제주특별  충청남도  충청북도  크기  \n15     ...     0     0     0     0     0     0     0     0     0  중형  \n16     ...     0     0     0     0     0     0     0     0     0  소형  \n17     ...     0     0     0     0     0     0     0     0     0  중형  \n18     ...     0     0     0     0     0     0     0     0     0  중형  \n19     ...     0     0     0     0     0     0     0     0     0  소형  \n...    ...   ...   ...   ...   ...   ...   ...   ...   ...   ...  ..  \n71966  ...     0     0     0     0     0     0     0     0     1  중형  \n71967  ...     0     0     0     0     0     0     0     0     1  중형  \n71968  ...     0     0     0     0     0     0     0     0     1  중형  \n71969  ...     0     0     0     0     0     0     0     0     1  중형  \n71970  ...     0     0     0     0     0     0     0     0     1  중형  \n\n[71956 rows x 26 columns]"
     },
     "execution_count": 5,
     "metadata": {},
     "output_type": "execute_result"
    }
   ],
   "source": [
    "# 테스트\r\n",
    "\r\n",
    "# 최종정리코드.\r\n",
    "# 파일불러오기\r\n",
    "df = pd.read_excel(\"rawdata/aptexcel202010.xlsx\" )\r\n",
    "df1 = df.copy()\r\n",
    "list = []\r\n",
    "\r\n",
    "#df2.values[14]  column 이름 위치확인\r\n",
    "list =  df1.values[14]\r\n",
    "list\r\n",
    "# column이름 변경 \r\n",
    "df1.columns = list\r\n",
    "df1.sample()\r\n",
    "\r\n",
    "\r\n",
    "# 불필요한내용 삭제  (다만 인덱싱을 다시 0부터 시작하게 못하긴했음.)\r\n",
    "df1 = df1.drop(df1.index[0:15])\r\n",
    "df1.head()\r\n",
    "\r\n",
    "\r\n",
    "# datetime으로 만들기\r\n",
    "\r\n",
    "df1[\"년월\"] = df1[\"계약년월\"].copy()\r\n",
    "#format=%Y%m 으로 포맷 바꿔주기.\r\n",
    "df1[\"년월\"] = pd.to_datetime(df1[\"년월\"], format='%Y%m', errors='ignore')\r\n",
    "\r\n",
    "df1\r\n",
    "\r\n",
    "\r\n",
    "#스트링 숫자로 바꿔주기.\r\n",
    "df1[\"금액\"] = pd.to_numeric(df1[\"거래금액(만원)\"],errors ='coerce')\r\n",
    "df1[\"면적\"]=pd.to_numeric(df1[\"전용면적(㎡)\"],errors ='coerce')\r\n",
    "df1[\"건축년도\"]=pd.to_numeric(df1[\"건축년도\"],errors ='coerce')\r\n",
    "\r\n",
    "\r\n",
    "#해제사유등 필요없는것 제거하기.\r\n",
    "\r\n",
    "# axis=1을 쓰면 열을 지우고 df.drop([0, 1], axis=0) 처럼 0을쓰면 인덱스(행)을 지움.\r\n",
    "# 주의 행의 이름은 B랑 C가 아닌 0 1인데 이는 스트링이 아니므로 ''없이 하면됨.\r\n",
    "df2 = df1.drop([\"해제사유발생일\", \"계약년월\",\"단지명\",\"계약일\",\"층\",\"도로명\",\"번지\",\"본번\",\"거래금액(만원)\",\"전용면적(㎡)\",\"부번\"]\r\n",
    "               ,axis=1).copy()\r\n",
    "df2\r\n",
    "\r\n",
    "\r\n",
    " #지역으로 나누기.\r\n",
    "df2[\"서울\"] = df2[\"시군구\"].str.contains(\"서울\", case=False, na=False).astype(int)\r\n",
    "df2[\"서울\"].sum()\r\n",
    "df2[\"대전\"] = df2[\"시군구\"].str.contains(\"대전\", case=False, na=False).astype(int)\r\n",
    "df2[\"대전\"].sum()\r\n",
    "\r\n",
    "location =[]\r\n",
    "location = [\"강원도\",     \r\n",
    "            \"경기도\"  ,  \r\n",
    "            \"경상남도\" ,    \r\n",
    "            \"경상북도\"  ,   \r\n",
    "            \"광주광역\"     ,\r\n",
    "            \"대구광역\"  ,\r\n",
    "            \"대전광역\"   ,\r\n",
    "            \"부산광역\"   ,\r\n",
    "            \"서울특별\"    ,\r\n",
    "            \"세종특별\",\r\n",
    "             \"울산광역\"    ,\r\n",
    "            \"인천광역\"    ,\r\n",
    "            \"전라남도\" ,    \r\n",
    "            \"전라북도\"  ,   \r\n",
    "            \"제주특별\"    ,\r\n",
    "            \"충청남도\" ,   \r\n",
    "            \"충청북도\"  ] \r\n",
    "\r\n",
    "for i in location :\r\n",
    "    df2[i] =  df2[\"시군구\"].str.contains(i, case=False, na=False).astype(int)\r\n",
    "    df2.loc[(df2[i] ==  1) , '지역'] = i\r\n",
    "\r\n",
    "\r\n",
    "#확인\r\n",
    "df2[\"지역\"].value_counts()\r\n",
    "df2[\"강원도\"].sum()+df2[\"경기도\"].sum()+df2[\"경상남도\"].sum()+df2[\"경상북도\"].sum()+df2[\"광주광역\"].sum()+df2[\"대구광역\"].sum()+df2[\"대전광역\"].sum()+df2[\"부산광역\"].sum()+df2[\"서울특별\"].sum()+df2[\"세종특별\"].sum()+df2[\"울산광역\"].sum()+df2[\"인천광역\"].sum()+df2[\"전라남도\"].sum()+df2[\"전라북도\"].sum()+df2[\"제주특별\"].sum()+df2[\"충청남도\"].sum() +df2[\"충청북도\"].sum()\r\n",
    "\r\n",
    "    \r\n",
    "#크기로 나누기\r\n",
    "df2.loc[(df2['면적'] >  60) & (df2['면적'] <= 85), '크기'] = '중형' \r\n",
    "df2.loc[(df2['면적'] <=  60),'크기'] = '소형'\r\n",
    "df2.loc[(df2['면적'] > 85), '크기'] = '대형'\r\n",
    "#확인 \r\n",
    "df2['크기'].value_counts()\r\n",
    "\r\n",
    "df2"
   ]
  }
 ],
 "metadata": {
  "kernelspec": {
   "display_name": "Python 3.8.5 64-bit ('base': conda)",
   "metadata": {
    "interpreter": {
     "hash": "b3ba2566441a7c06988d0923437866b63cedc61552a5af99d1f4fb67d367b25f"
    }
   },
   "name": "python3"
  },
  "language_info": {
   "codemirror_mode": {
    "name": "ipython",
    "version": 3
   },
   "file_extension": ".py",
   "mimetype": "text/x-python",
   "name": "python",
   "nbconvert_exporter": "python",
   "pygments_lexer": "ipython3",
   "version": "3.8.5"
  },
  "orig_nbformat": 2
 },
 "nbformat": 4,
 "nbformat_minor": 2
}