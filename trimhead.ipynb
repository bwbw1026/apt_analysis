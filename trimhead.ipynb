{
 "cells": [
  {
   "cell_type": "markdown",
   "metadata": {},
   "source": [
    "# 1월 9월"
   ]
  },
  {
   "cell_type": "code",
   "execution_count": 1,
   "metadata": {},
   "outputs": [],
   "source": [
    "import requests, bs4\r\n",
    "import pandas as pd\r\n",
    "from lxml import html #html.lxml 로 써진 것. 즉 html.lxml 로 써야하는 명령어를 lxml만써도 작동하게해줌.\r\n",
    "from urllib.request import Request, urlopen\r\n",
    "from urllib.parse import urlencode, quote_plus, unquote\r\n",
    "from pprint import pprint\r\n",
    "import numpy as np\r\n",
    "from tqdm import tqdm"
   ]
  },
  {
   "cell_type": "code",
   "execution_count": 4,
   "metadata": {},
   "outputs": [
    {
     "name": "stderr",
     "output_type": "stream",
     "text": [
      "100%|██████████| 9/9 [02:55<00:00, 19.46s/it]\n"
     ]
    }
   ],
   "source": [
    "# 최종정리코드.\r\n",
    "# 파일불러오기\r\n",
    "\r\n",
    "\r\n",
    "#2006 1~9\r\n",
    "for i in tqdm(range(1,10)):\r\n",
    "    df = pd.read_excel(\"rawdata/aptexcel20060\" +str(i)+ \".xlsx\" )\r\n",
    "    df1 = df.copy()\r\n",
    "    list = []\r\n",
    "\r\n",
    "    #df2.values[14]  column 이름 위치확인\r\n",
    "    list =  df1.values[15]\r\n",
    "    list\r\n",
    "    # column이름 변경 \r\n",
    "    df1.columns = list\r\n",
    "    df1.sample()\r\n",
    "\r\n",
    "\r\n",
    "    # 불필요한내용 삭제  (다만 인덱싱을 다시 0부터 시작하게 못하긴했음.)\r\n",
    "    df1 = df1.drop(df1.index[0:16])\r\n",
    "    df1.head()\r\n",
    "\r\n",
    "    #수정된 파일 새경로에 저장하기\r\n",
    "    df1.to_excel((\"trimdata/apt20060\"+str(i)+\".xlsx\" ))\r\n"
   ]
  },
  {
   "cell_type": "code",
   "execution_count": 5,
   "metadata": {},
   "outputs": [
    {
     "name": "stderr",
     "output_type": "stream",
     "text": [
      "100%|██████████| 9/9 [02:44<00:00, 18.27s/it]\n"
     ]
    }
   ],
   "source": [
    "#2007\r\n",
    "for i in tqdm(range(1,10)):\r\n",
    "    df = pd.read_excel(\"rawdata/aptexcel20070\" +str(i)+ \".xlsx\" )\r\n",
    "    df1 = df.copy()\r\n",
    "    list = []\r\n",
    "\r\n",
    "    #df2.values[14]  column 이름 위치확인\r\n",
    "    list =  df1.values[15]\r\n",
    "    list\r\n",
    "    # column이름 변경 \r\n",
    "    df1.columns = list\r\n",
    "    df1.sample()\r\n",
    "\r\n",
    "\r\n",
    "    # 불필요한내용 삭제  (다만 인덱싱을 다시 0부터 시작하게 못하긴했음.)\r\n",
    "    df1 = df1.drop(df1.index[0:16])\r\n",
    "    df1.head()\r\n",
    "\r\n",
    "    #수정된 파일 새경로에 저장하기\r\n",
    "    df1.to_excel((\"trimdata/apt20070\"+str(i)+\".xlsx\" ))\r\n"
   ]
  },
  {
   "cell_type": "markdown",
   "metadata": {},
   "source": [
    "# 10월~12월 "
   ]
  },
  {
   "cell_type": "code",
   "execution_count": 2,
   "metadata": {},
   "outputs": [
    {
     "name": "stderr",
     "output_type": "stream",
     "text": [
      "100%|██████████| 3/3 [01:39<00:00, 33.00s/it]\n"
     ]
    }
   ],
   "source": [
    "#2006 10~12\r\n",
    "\r\n",
    "for i in tqdm(range(0,3)):\r\n",
    "    df = pd.read_excel(\"rawdata/aptexcel20061\" +str(i)+ \".xlsx\" )\r\n",
    "    df1 = df.copy()\r\n",
    "    list = []\r\n",
    "\r\n",
    "    #df2.values[14]  column 이름 위치확인\r\n",
    "    list =  df1.values[15]\r\n",
    "    list\r\n",
    "    # column이름 변경 \r\n",
    "    df1.columns = list\r\n",
    "    df1.sample()\r\n",
    "\r\n",
    "\r\n",
    "    # 불필요한내용 삭제  (다만 인덱싱을 다시 0부터 시작하게 못하긴했음.)\r\n",
    "    df1 = df1.drop(df1.index[0:16])\r\n",
    "    df1.head()\r\n",
    "\r\n",
    "    #수정된 파일 새경로에 저장하기\r\n",
    "    df1.to_excel((\"trimdata/apt20061\"+str(i)+\".xlsx\" ))"
   ]
  },
  {
   "cell_type": "code",
   "execution_count": 4,
   "metadata": {},
   "outputs": [
    {
     "name": "stderr",
     "output_type": "stream",
     "text": [
      "100%|██████████| 3/3 [00:51<00:00, 17.07s/it]\n"
     ]
    }
   ],
   "source": [
    "#2007 10~12\r\n",
    "\r\n",
    "for i in tqdm(range(0,3)):\r\n",
    "    df = pd.read_excel(\"rawdata/aptexcel20071\" +str(i)+ \".xlsx\" )\r\n",
    "    df1 = df.copy()\r\n",
    "    list = []\r\n",
    "\r\n",
    "    #df2.values[14]  column 이름 위치확인\r\n",
    "    list =  df1.values[15]\r\n",
    "    list\r\n",
    "    # column이름 변경 \r\n",
    "    df1.columns = list\r\n",
    "    df1.sample()\r\n",
    "\r\n",
    "\r\n",
    "    # 불필요한내용 삭제  (다만 인덱싱을 다시 0부터 시작하게 못하긴했음.)\r\n",
    "    df1 = df1.drop(df1.index[0:16])\r\n",
    "    df1.head()\r\n",
    "\r\n",
    "    #수정된 파일 새경로에 저장하기\r\n",
    "    df1.to_excel((\"trimdata/apt20071\"+str(i)+\".xlsx\" ))"
   ]
  },
  {
   "cell_type": "code",
   "execution_count": null,
   "metadata": {},
   "outputs": [],
   "source": []
  },
  {
   "cell_type": "code",
   "execution_count": null,
   "metadata": {},
   "outputs": [],
   "source": []
  }
 ],
 "metadata": {
  "kernelspec": {
   "display_name": "Python 3.8.5 64-bit ('base': conda)",
   "name": "python385jvsc74a57bd0b3ba2566441a7c06988d0923437866b63cedc61552a5af99d1f4fb67d367b25f"
  },
  "language_info": {
   "name": "python",
   "version": ""
  },
  "orig_nbformat": 2
 },
 "nbformat": 4,
 "nbformat_minor": 2
}