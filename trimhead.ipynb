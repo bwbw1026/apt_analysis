{
 "cells": [
  {
   "cell_type": "code",
   "execution_count": 2,
   "metadata": {},
   "outputs": [],
   "source": [
    "import requests, bs4\r\n",
    "import pandas as pd\r\n",
    "from lxml import html #html.lxml 로 써진 것. 즉 html.lxml 로 써야하는 명령어를 lxml만써도 작동하게해줌.\r\n",
    "from urllib.request import Request, urlopen\r\n",
    "from urllib.parse import urlencode, quote_plus, unquote\r\n",
    "from pprint import pprint\r\n",
    "import numpy as np"
   ]
  },
  {
   "cell_type": "code",
   "execution_count": 4,
   "metadata": {},
   "outputs": [],
   "source": [
    "# 최종정리코드.\r\n",
    "# 파일불러오기\r\n",
    "df = pd.read_excel(\"rawdata/aptexcel202010.xlsx\" )\r\n",
    "df1 = df.copy()\r\n",
    "list = []\r\n",
    "\r\n",
    "#df2.values[14]  column 이름 위치확인\r\n",
    "list =  df1.values[14]\r\n",
    "list\r\n",
    "# column이름 변경 \r\n",
    "df1.columns = list\r\n",
    "df1.sample()\r\n",
    "\r\n",
    "\r\n",
    "# 불필요한내용 삭제  (다만 인덱싱을 다시 0부터 시작하게 못하긴했음.)\r\n",
    "df1 = df1.drop(df1.index[0:15])\r\n",
    "df1.head()\r\n",
    "\r\n",
    "#수정된 파일 새경로에 저장하기\r\n",
    "df1.to_excel((\"trimdata/apt202010.xlsx\" ))\r\n"
   ]
  }
 ],
 "metadata": {
  "kernelspec": {
   "display_name": "Python 3.8.5 64-bit ('base': conda)",
   "metadata": {
    "interpreter": {
     "hash": "b3ba2566441a7c06988d0923437866b63cedc61552a5af99d1f4fb67d367b25f"
    }
   },
   "name": "python3"
  },
  "language_info": {
   "codemirror_mode": {
    "name": "ipython",
    "version": 3
   },
   "file_extension": ".py",
   "mimetype": "text/x-python",
   "name": "python",
   "nbconvert_exporter": "python",
   "pygments_lexer": "ipython3",
   "version": "3.8.5"
  },
  "orig_nbformat": 2
 },
 "nbformat": 4,
 "nbformat_minor": 2
}