{
 "cells": [
  {
   "cell_type": "code",
   "execution_count": 2,
   "metadata": {},
   "outputs": [],
   "source": [
    "import requests, bs4\r\n",
    "import pandas as pd\r\n",
    "from lxml import html #html.lxml 로 써진 것. 즉 html.lxml 로 써야하는 명령어를 lxml만써도 작동하게해줌.\r\n",
    "from urllib.request import Request, urlopen\r\n",
    "from urllib.parse import urlencode, quote_plus, unquote\r\n",
    "from pprint import pprint\r\n",
    "import numpy as np"
   ]
  },
  {
   "cell_type": "code",
   "execution_count": 3,
   "metadata": {},
   "outputs": [
    {
     "data": {
      "text/html": "<div>\n<style scoped>\n    .dataframe tbody tr th:only-of-type {\n        vertical-align: middle;\n    }\n\n    .dataframe tbody tr th {\n        vertical-align: top;\n    }\n\n    .dataframe thead th {\n        text-align: right;\n    }\n</style>\n<table border=\"1\" class=\"dataframe\">\n  <thead>\n    <tr style=\"text-align: right;\">\n      <th></th>\n      <th>시군구</th>\n      <th>번지</th>\n      <th>본번</th>\n      <th>부번</th>\n      <th>단지명</th>\n      <th>전용면적(㎡)</th>\n      <th>계약년월</th>\n      <th>계약일</th>\n      <th>거래금액(만원)</th>\n      <th>층</th>\n      <th>건축년도</th>\n      <th>도로명</th>\n      <th>해제사유발생일</th>\n    </tr>\n  </thead>\n  <tbody>\n    <tr>\n      <th>15</th>\n      <td>강원도 강릉시 견소동</td>\n      <td>202</td>\n      <td>202</td>\n      <td>0</td>\n      <td>송정한신</td>\n      <td>84.945</td>\n      <td>202010</td>\n      <td>15</td>\n      <td>17500</td>\n      <td>8</td>\n      <td>1997</td>\n      <td>경강로2539번길 8</td>\n      <td>NaN</td>\n    </tr>\n    <tr>\n      <th>16</th>\n      <td>강원도 강릉시 견소동</td>\n      <td>202</td>\n      <td>202</td>\n      <td>0</td>\n      <td>송정한신</td>\n      <td>59.8</td>\n      <td>202010</td>\n      <td>22</td>\n      <td>15000</td>\n      <td>7</td>\n      <td>1997</td>\n      <td>경강로2539번길 8</td>\n      <td>NaN</td>\n    </tr>\n    <tr>\n      <th>17</th>\n      <td>강원도 강릉시 견소동</td>\n      <td>202</td>\n      <td>202</td>\n      <td>0</td>\n      <td>송정한신</td>\n      <td>84.945</td>\n      <td>202010</td>\n      <td>27</td>\n      <td>16800</td>\n      <td>12</td>\n      <td>1997</td>\n      <td>경강로2539번길 8</td>\n      <td>NaN</td>\n    </tr>\n    <tr>\n      <th>18</th>\n      <td>강원도 강릉시 견소동</td>\n      <td>289</td>\n      <td>289</td>\n      <td>0</td>\n      <td>송정해변신도브래뉴아파트</td>\n      <td>84.99</td>\n      <td>202010</td>\n      <td>6</td>\n      <td>20900</td>\n      <td>1</td>\n      <td>2005</td>\n      <td>경강로2539번길 22</td>\n      <td>NaN</td>\n    </tr>\n    <tr>\n      <th>19</th>\n      <td>강원도 강릉시 견소동</td>\n      <td>289</td>\n      <td>289</td>\n      <td>0</td>\n      <td>송정해변신도브래뉴아파트</td>\n      <td>59.99</td>\n      <td>202010</td>\n      <td>9</td>\n      <td>18300</td>\n      <td>5</td>\n      <td>2005</td>\n      <td>경강로2539번길 23</td>\n      <td>NaN</td>\n    </tr>\n  </tbody>\n</table>\n</div>",
      "text/plain": "            시군구   번지   본번 부번           단지명 전용면적(㎡)    계약년월 계약일 거래금액(만원)   층  \\\n15  강원도 강릉시 견소동  202  202  0          송정한신  84.945  202010  15    17500   8   \n16  강원도 강릉시 견소동  202  202  0          송정한신    59.8  202010  22    15000   7   \n17  강원도 강릉시 견소동  202  202  0          송정한신  84.945  202010  27    16800  12   \n18  강원도 강릉시 견소동  289  289  0  송정해변신도브래뉴아파트   84.99  202010   6    20900   1   \n19  강원도 강릉시 견소동  289  289  0  송정해변신도브래뉴아파트   59.99  202010   9    18300   5   \n\n    건축년도           도로명 해제사유발생일  \n15  1997   경강로2539번길 8     NaN  \n16  1997   경강로2539번길 8     NaN  \n17  1997   경강로2539번길 8     NaN  \n18  2005  경강로2539번길 22     NaN  \n19  2005  경강로2539번길 23     NaN  "
     },
     "execution_count": 3,
     "metadata": {},
     "output_type": "execute_result"
    }
   ],
   "source": [
    "# 최종정리코드.\r\n",
    "# 파일불러오기\r\n",
    "df = pd.read_excel(\"rawdata/aptexcel202010.xlsx\" )\r\n",
    "df1 = df.copy()\r\n",
    "list = []\r\n",
    "\r\n",
    "#df2.values[14]  column 이름 위치확인\r\n",
    "list =  df1.values[14]\r\n",
    "list\r\n",
    "# column이름 변경 \r\n",
    "df1.columns = list\r\n",
    "df1.sample()\r\n",
    "\r\n",
    "\r\n",
    "# 불필요한내용 삭제  (다만 인덱싱을 다시 0부터 시작하게 못하긴했음.)\r\n",
    "df1 = df1.drop(df1.index[0:15])\r\n",
    "df1.head()\r\n",
    "\r\n"
   ]
  }
 ],
 "metadata": {
  "kernelspec": {
   "display_name": "Python 3.8.5 64-bit ('base': conda)",
   "metadata": {
    "interpreter": {
     "hash": "b3ba2566441a7c06988d0923437866b63cedc61552a5af99d1f4fb67d367b25f"
    }
   },
   "name": "python3"
  },
  "language_info": {
   "codemirror_mode": {
    "name": "ipython",
    "version": 3
   },
   "file_extension": ".py",
   "mimetype": "text/x-python",
   "name": "python",
   "nbconvert_exporter": "python",
   "pygments_lexer": "ipython3",
   "version": "3.8.5"
  },
  "orig_nbformat": 2
 },
 "nbformat": 4,
 "nbformat_minor": 2
}